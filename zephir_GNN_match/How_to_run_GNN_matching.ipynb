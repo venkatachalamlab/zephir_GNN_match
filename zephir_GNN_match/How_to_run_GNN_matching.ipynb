{
 "cells": [
  {
   "cell_type": "code",
   "execution_count": null,
   "id": "14a464f0-68a4-481d-971f-f98c4975ffd1",
   "metadata": {},
   "outputs": [],
   "source": []
  },
  {
   "cell_type": "markdown",
   "id": "f8c39c9c-f0c7-496a-8a7b-e2c5807c0b04",
   "metadata": {},
   "source": [
    "# This module to obtain the partial annotation by using the GNN model to match neurons cross frames\n",
    "1. Produce the segmentation from 3D stardist\n",
    "2. Obtain the nodes features and edges for each frame\n",
    "3. Get the order of the frame (parent and child frame order) \\\n",
    "    (1) The fist way is to run the frame_order_zephir.py  \\\n",
    "    (2) if you alread have he order of the tracking as list, igore this step and use it as list. eg:t_fram = [100,103,105,102,104] \n",
    "4. Matching the neurons in two pairs of frame\n",
    "5. Otput the paired neurons coordinates in the annotaiton.h5"
   ]
  },
  {
   "cell_type": "code",
   "execution_count": null,
   "id": "650650fa-4d18-43ca-b047-a5d954203785",
   "metadata": {},
   "outputs": [],
   "source": []
  },
  {
   "cell_type": "code",
   "execution_count": null,
   "id": "ecb6bce8-f7e8-4f64-8fea-771dd5dfc09c",
   "metadata": {},
   "outputs": [],
   "source": []
  },
  {
   "cell_type": "markdown",
   "id": "d37b3e48-ed1f-4897-847e-ba2e58bf8fe8",
   "metadata": {},
   "source": [
    "## Preparation: install tensorflow, pytroch\n",
    "Please let me know if any package you need can not be installed"
   ]
  },
  {
   "cell_type": "code",
   "execution_count": null,
   "id": "ec2d0ae4-8c62-4915-a677-370080e9245d",
   "metadata": {},
   "outputs": [],
   "source": []
  },
  {
   "cell_type": "code",
   "execution_count": 1,
   "id": "d40fe490-d9f8-4ace-ba2e-b53d8a94b603",
   "metadata": {},
   "outputs": [],
   "source": [
    "import time\n",
    "t0 = time.time()"
   ]
  },
  {
   "cell_type": "markdown",
   "id": "2c495646-b789-42d4-a129-0b207e75d8c8",
   "metadata": {},
   "source": [
    "## 1: Extract the features from the segmented files, convert into graph, save it as pt\n",
    "make sure you have already segmented the volume and load the path of folder"
   ]
  },
  {
   "cell_type": "code",
   "execution_count": 2,
   "id": "71e325d5-8fd0-4484-9ac7-470c7dee0c71",
   "metadata": {
    "tags": []
   },
   "outputs": [],
   "source": [
    "from MatchPartial.Graph_data import *\n",
    "from parameters import *"
   ]
  },
  {
   "cell_type": "code",
   "execution_count": 3,
   "id": "7c3f27f1-7b3c-445f-b287-044cf64b9099",
   "metadata": {
    "tags": []
   },
   "outputs": [
    {
     "name": "stdout",
     "output_type": "stream",
     "text": [
      "packages loaded\n"
     ]
    }
   ],
   "source": [
    "print(\"packages loaded\")"
   ]
  },
  {
   "cell_type": "code",
   "execution_count": 4,
   "id": "efd1d2f0-4287-4ec7-939c-2958baab17ea",
   "metadata": {
    "tags": []
   },
   "outputs": [],
   "source": [
    "path_graph = 'graph/'  ## the saving path of graph for each time index, the graph path contain nodes and edge features for each frame\n",
    "pathlib.Path(path_graph).mkdir(parents=True, exist_ok=True) "
   ]
  },
  {
   "cell_type": "code",
   "execution_count": 5,
   "id": "5d229f1a-9882-494f-a05f-278615d4cb0f",
   "metadata": {
    "tags": []
   },
   "outputs": [],
   "source": [
    "# # t_max = 2\n",
    "# def save_data(t_idx):\n",
    "#     [ch,num_nearest] = [1,5] ## ch is which channel to load the image, for NeuroPal please convert into RGB then use it\n",
    "#     data = get_data_generator(t_idx, ch, num_nearest,img_h5_path,seg_h5_path,annotation_path,train_val)\n",
    "#     torch.save(data, f'{path_graph}{t_idx}.pt')\n",
    "\n",
    "# with concurrent.futures.ThreadPoolExecutor() as executor:\n",
    "#     executor.map(save_data, tqdm(range(0,t_max )))"
   ]
  },
  {
   "cell_type": "code",
   "execution_count": null,
   "id": "153c610c-ce8b-4e8f-8844-6a3f42fe4f8e",
   "metadata": {},
   "outputs": [],
   "source": []
  },
  {
   "cell_type": "code",
   "execution_count": null,
   "id": "f914465c-5d9e-4df4-a393-8060df2f3a63",
   "metadata": {
    "tags": []
   },
   "outputs": [],
   "source": []
  },
  {
   "cell_type": "code",
   "execution_count": null,
   "id": "614d32ce-aa9d-4a2b-a07a-bf7c1e5f468e",
   "metadata": {},
   "outputs": [],
   "source": []
  },
  {
   "cell_type": "markdown",
   "id": "c57d1e16-65a7-47a3-b9f2-45f95cd36e8b",
   "metadata": {
    "tags": []
   },
   "source": [
    "## 2. Get the tracking frame order\n",
    "Note: Pass this step and directly run the matching function if you have the order of the tracking frames"
   ]
  },
  {
   "cell_type": "code",
   "execution_count": 6,
   "id": "2b6cc97a-9b2f-479a-9fee-a4e9011c3f15",
   "metadata": {
    "tags": []
   },
   "outputs": [
    {
     "name": "stdout",
     "output_type": "stream",
     "text": [
      "Checkpoint updated for ['container'] @ [2024-03-28 00:12:22.207819]\n",
      "Using frame #444 as initial reference with 178 annotations found...\n",
      "\n",
      "Annotations loaded for frames [444] with shape: (1, 178, 3)\n",
      "Checkpoint updated for ['container'] @ [2024-03-28 00:12:22.355568]\n",
      "Checkpoint updated for ['results'] @ [2024-03-28 00:12:22.408577]\n",
      "\n",
      "Compiling models and loss function...\n",
      "******* ERROR: Zephod checkpoint file not found!\n",
      "Checkpoint updated for ['container'] @ [2024-03-28 00:12:22.477088]\n",
      "Checkpoint updated for ['zephir_kwargs', 'zephir', 'zephod'] @ [2024-03-28 00:12:22.539936]\n",
      "\n",
      "Building neighbor tree...\n",
      "Checkpoint updated for ['container'] @ [2024-03-28 00:12:22.602141]\n",
      "\n",
      "Building frame correlation graph...\n",
      "\n",
      "Sorting frames by similarity to parent...\n",
      "\n",
      "Frames sorted with max/mean distance\t0.5786 / 0.0178\n",
      "Checkpoint updated for ['container'] @ [2024-03-28 00:12:23.392878]\n"
     ]
    }
   ],
   "source": [
    "from frame_order_zephir import *\n",
    "from parameters import *"
   ]
  },
  {
   "cell_type": "code",
   "execution_count": null,
   "id": "ea44e432-ee9d-441c-aa39-9453e1125d93",
   "metadata": {},
   "outputs": [],
   "source": []
  },
  {
   "cell_type": "code",
   "execution_count": 7,
   "id": "b8f46433-0f21-4bc4-88d0-a76510768a32",
   "metadata": {
    "tags": []
   },
   "outputs": [
    {
     "name": "stdout",
     "output_type": "stream",
     "text": [
      "the tracking frame order list that zephir is using [444, 443, 489, 442, 488, 445, 446, 486, 441, 490, 491, 492, 407, 408, 409, 406, 440, 485, 530, 529, 528, 527, 526, 482, 483, 484, 439, 438, 531, 532, 533, 534, 535, 536, 537, 591, 589, 590, 588, 586, 587, 585, 584, 583, 582, 581, 525, 524, 481, 437, 592, 593, 594, 595, 596, 546, 545, 547, 548, 549, 551, 552, 553, 556, 557, 558, 550, 555, 554, 511, 512, 510, 513, 514, 515, 516, 517, 518, 509, 520, 464, 462, 463, 508, 503, 506, 505, 504, 507, 456, 457, 502, 454, 501, 458, 604, 603, 602, 600, 601, 605, 611, 613, 616, 615, 614, 606, 607, 608, 609, 610, 498, 617, 618, 620, 619, 621, 622, 624, 623, 625, 627, 626, 628, 634, 632, 638, 637, 639, 640, 635, 631, 630, 629, 636, 641, 633, 642, 612, 499, 500, 567, 568, 569, 570, 565, 564, 563, 562, 561, 559, 599, 598, 974, 976, 977, 978, 975, 980, 979, 981, 982, 983, 984, 985, 986, 987, 973, 972, 971, 962, 965, 964, 961, 960, 963, 988, 990, 989, 992, 991, 993, 995, 998, 999, 1000, 994, 996, 997, 1001, 1002, 1003, 1004, 1005, 1009, 1013, 1008, 1018, 1012, 1010, 1015, 1014, 1011, 1016, 1007, 1023, 1021, 1024, 1026, 1019, 1025, 1022, 1017, 1020, 1029, 1030, 1031, 1034, 1033, 1035, 1037, 1036, 1032, 1038, 1039, 1027, 1028, 1006, 1040, 1041, 1042, 1043, 1044, 1045, 1046, 959, 966, 969, 970, 885, 821, 784, 886, 883, 884, 882, 881, 880, 879, 878, 887, 888, 889, 890, 891, 892, 894, 893, 895, 897, 896, 899, 900, 905, 904, 902, 903, 906, 907, 901, 908, 898, 909, 755, 820, 819, 783, 967, 968, 958, 957, 825, 758, 707, 786, 826, 956, 823, 822, 757, 728, 875, 461, 465, 460, 477, 466, 467, 476, 427, 472, 471, 469, 473, 470, 474, 475, 468, 425, 426, 424, 877, 876, 431, 785, 756, 706, 729, 824, 787, 788, 730, 829, 830, 832, 831, 833, 834, 835, 836, 828, 759, 837, 761, 789, 790, 762, 791, 760, 708, 838, 827, 731, 732, 733, 710, 709, 734, 711, 839, 455, 782, 754, 763, 453, 781, 816, 874, 873, 815, 872, 814, 779, 871, 953, 954, 955, 780, 813, 951, 870, 950, 949, 868, 869, 867, 866, 865, 864, 809, 776, 808, 807, 806, 810, 811, 777, 774, 805, 778, 817, 818, 726, 863, 862, 861, 860, 859, 803, 804, 723, 749, 812, 773, 775, 948, 946, 945, 944, 943, 942, 941, 940, 939, 938, 947, 702, 750, 429, 764, 793, 841, 842, 840, 911, 843, 844, 845, 912, 913, 914, 915, 916, 846, 917, 918, 919, 920, 921, 922, 923, 924, 925, 926, 927, 928, 929, 930, 931, 848, 932, 933, 849, 850, 847, 712, 851, 852, 853, 854, 855, 856, 857, 692, 736, 934, 935, 936, 937, 910, 798, 800, 737, 735, 713, 432, 519, 858, 724, 703, 771, 718, 697, 952, 740, 715, 695, 716, 741, 792, 423, 801, 802, 770, 742, 717, 799, 478, 739, 797, 694, 796, 714, 767, 738, 766, 795, 794, 765, 752, 571, 753, 691, 690, 689, 451, 452, 417, 418, 416, 597, 420, 421, 422, 696, 751, 768, 688, 772, 744, 693, 430, 769, 433, 479, 434, 727, 705, 743, 572, 573, 574, 575, 576, 577, 578, 579, 580, 190, 189, 188, 61, 60, 59, 55, 54, 19, 77, 53, 52, 95, 142, 76, 37, 36, 96, 75, 93, 92, 114, 115, 138, 139, 116, 160, 94, 140, 117, 159, 121, 122, 141, 123, 157, 158, 137, 113, 136, 118, 179, 80, 21, 20, 79, 57, 163, 91, 161, 35, 34, 162, 18, 178, 17, 33, 51, 180, 181, 184, 183, 182, 119, 186, 725, 704, 747, 721, 700, 748, 722, 701, 746, 720, 699, 745, 719, 671, 670, 669, 672, 6, 5, 4, 144, 566, 497, 98, 165, 698, 661, 659, 658, 660, 657, 656, 655, 683, 662, 1047, 643, 419, 74, 62, 193, 414, 496, 449, 448, 97, 143, 78, 58, 459, 435, 436, 480, 523, 522, 521, 187, 450, 447, 404, 38, 22, 191, 415, 405, 654, 653, 676, 673, 64, 544, 543, 542, 539, 538, 540, 16, 32, 50, 177, 156, 112, 198, 199, 200, 201, 202, 203, 82, 146, 167, 41, 125, 100, 101, 126, 83, 65, 147, 168, 102, 148, 169, 127, 84, 43, 26, 44, 68, 45, 27, 86, 149, 103, 150, 66, 171, 67, 85, 170, 25, 172, 24, 42, 104, 174, 47, 48, 70, 88, 128, 105, 106, 151, 131, 153, 130, 129, 87, 30, 71, 13, 175, 154, 12, 29, 1, 413, 133, 495, 120, 145, 81, 124, 63, 192, 648, 649, 646, 647, 650, 651, 645, 487, 10, 687, 166, 99, 40, 132, 494, 428, 652, 56, 7, 8, 410, 411, 23, 299, 321, 322, 300, 278, 219, 257, 238, 258, 239, 259, 220, 240, 221, 260, 241, 277, 237, 256, 276, 236, 255, 218, 46, 28, 279, 280, 302, 324, 323, 301, 281, 325, 303, 109, 110, 108, 90, 73, 15, 31, 176, 155, 684, 663, 664, 675, 298, 320, 319, 297, 318, 296, 344, 345, 346, 343, 317, 295, 316, 342, 294, 341, 89, 14, 560, 1059, 1058, 1057, 1056, 1055, 1054, 1053, 1052, 1051, 1050, 1049, 1048, 49, 72, 493, 164, 667, 668, 222, 242, 261, 541, 403, 678, 677, 337, 313, 291, 290, 312, 336, 335, 311, 289, 334, 333, 310, 288, 332, 309, 331, 287, 338, 314, 339, 340, 315, 292, 214, 213, 212, 211, 210, 209, 208, 293, 231, 249, 269, 268, 250, 248, 229, 230, 267, 247, 270, 232, 271, 251, 228, 227, 246, 265, 245, 264, 244, 225, 685, 39, 9, 263, 243, 224, 262, 223, 308, 330, 286, 307, 285, 329, 3, 185, 135, 111, 402, 0, 11, 215, 233, 275, 254, 235, 274, 273, 69, 217, 194, 666, 107, 152, 173, 207, 347, 348, 349, 350, 351, 352, 353, 680, 681, 682, 679, 134, 304, 282, 326, 306, 284, 328, 305, 327, 283, 412, 674, 686, 665, 266, 2, 195, 226, 204, 252, 253, 272, 205, 206, 234, 216, 401, 197, 354, 355, 358, 357, 359, 360, 369, 368, 367, 370, 366, 365, 364, 362, 363, 361, 371, 356, 196, 644, 372, 373, 374, 375, 376, 377, 378, 379, 380, 381, 382, 383, 384, 385, 386, 387, 388, 389, 390, 391, 392, 393, 400, 394, 399, 397, 395, 396, 398]\n"
     ]
    }
   ],
   "source": [
    "print(\"the tracking frame order list that zephir is using\", t_frame)"
   ]
  },
  {
   "cell_type": "code",
   "execution_count": null,
   "id": "f69f3804-646b-489f-b4a5-e31e1234b797",
   "metadata": {},
   "outputs": [],
   "source": []
  },
  {
   "cell_type": "code",
   "execution_count": null,
   "id": "a75161d9-bc4e-4217-8357-4519490b6a00",
   "metadata": {},
   "outputs": [],
   "source": []
  },
  {
   "cell_type": "markdown",
   "id": "ef7011e2-e398-4bf8-8270-ee2e5d12872d",
   "metadata": {},
   "source": [
    "## 3. Getting the link and store them into the annotations"
   ]
  },
  {
   "cell_type": "code",
   "execution_count": 8,
   "id": "8f56f862-96b9-4e6b-9eb4-fec7cb19854a",
   "metadata": {
    "tags": []
   },
   "outputs": [],
   "source": [
    "from MatchPartial.eval_func import *\n",
    "from parameters import *"
   ]
  },
  {
   "cell_type": "code",
   "execution_count": 9,
   "id": "0c23690a-dd69-4d85-8839-6810a982865a",
   "metadata": {
    "tags": []
   },
   "outputs": [],
   "source": [
    "# path_graph = 'graph/' \n",
    "# nearby_search_num_list = [5]\n",
    "# model_all = load_model_args(model_path, nearby_search_num_list,with_AM, device,train_val)\n",
    "# df_all = model_match_patial_neurons(path_graph,t_frame,model_all,img_shape,threshold,nearby_search_num_list,with_AM,device,train_val)\n",
    "# save_pandas_h5(save_matched_path, df_all)\n",
    "# print(\"Output all the matched annotaiton in the path: \", save_matched_path)"
   ]
  },
  {
   "cell_type": "code",
   "execution_count": 10,
   "id": "dd45bec9-3694-4ba1-8549-5188b8d3d1cc",
   "metadata": {
    "tags": []
   },
   "outputs": [],
   "source": [
    "# print(\"The time of running the whole segmented datasets: \",t1-t0)\n",
    "# print(\"the number of found partial annotations: \",len(df_all)/(np.max(t_frame)+1))"
   ]
  },
  {
   "cell_type": "code",
   "execution_count": null,
   "id": "d146dd4d-e16a-4469-8740-ca2e043ed294",
   "metadata": {
    "tags": []
   },
   "outputs": [],
   "source": []
  },
  {
   "cell_type": "code",
   "execution_count": null,
   "id": "282c65cc-112a-47b1-b826-5c9443fcb478",
   "metadata": {},
   "outputs": [],
   "source": []
  },
  {
   "cell_type": "code",
   "execution_count": null,
   "id": "aebd45d3-0a39-43c8-b9cb-247d378a941e",
   "metadata": {},
   "outputs": [],
   "source": []
  },
  {
   "cell_type": "markdown",
   "id": "78af9832-4863-4d1a-8863-1eaf53e2039d",
   "metadata": {},
   "source": [
    "## 4. The following is based on the zephir running\n",
    "4.1 The matched annotation from the step 3 is assuming each neuron is well segmented. In the real cases, some are merged in the z direction, leading the mismatch in the next frame. So we find out the annotations that are in the merged neurons and remove these connectivity. \\\n",
    "4.2 The annotation is in the merged neurons, which means there are multiple annotations obtained from the zephir tracking and used as parent frame annotaiton in the segmented neuron. Once the merged segmented neurons are located, the center of it is the megred annotation that needs to be removed."
   ]
  },
  {
   "cell_type": "code",
   "execution_count": null,
   "id": "85c04887-ac3b-4a8f-b92b-1f5a1ddba11f",
   "metadata": {},
   "outputs": [],
   "source": []
  },
  {
   "cell_type": "code",
   "execution_count": null,
   "id": "92753406-03c0-4b2c-a7bc-bd039678c091",
   "metadata": {
    "tags": []
   },
   "outputs": [],
   "source": []
  },
  {
   "cell_type": "markdown",
   "id": "e62ca3ff-1539-4ff8-8f3b-4484a45dc30c",
   "metadata": {},
   "source": [
    "## runing test"
   ]
  },
  {
   "cell_type": "code",
   "execution_count": 11,
   "id": "0163c565-f09c-46b9-b70f-559909c7064c",
   "metadata": {
    "tags": []
   },
   "outputs": [
    {
     "data": {
      "text/plain": [
       "'/work/venkatachalamlab/Hang/GNN_matching_git/code/GNN_match/ZM9624/'"
      ]
     },
     "execution_count": 11,
     "metadata": {},
     "output_type": "execute_result"
    }
   ],
   "source": [
    "dataset_path"
   ]
  },
  {
   "cell_type": "code",
   "execution_count": 12,
   "id": "6e0c43fd-d689-476b-9de4-2efe90750de0",
   "metadata": {
    "tags": []
   },
   "outputs": [
    {
     "data": {
      "text/html": [
       "<div>\n",
       "<style scoped>\n",
       "    .dataframe tbody tr th:only-of-type {\n",
       "        vertical-align: middle;\n",
       "    }\n",
       "\n",
       "    .dataframe tbody tr th {\n",
       "        vertical-align: top;\n",
       "    }\n",
       "\n",
       "    .dataframe thead th {\n",
       "        text-align: right;\n",
       "    }\n",
       "</style>\n",
       "<table border=\"1\" class=\"dataframe\">\n",
       "  <thead>\n",
       "    <tr style=\"text-align: right;\">\n",
       "      <th></th>\n",
       "      <th>id</th>\n",
       "      <th>parent_id</th>\n",
       "      <th>provenance</th>\n",
       "      <th>t_idx</th>\n",
       "      <th>worldline_id</th>\n",
       "      <th>x</th>\n",
       "      <th>y</th>\n",
       "      <th>z</th>\n",
       "    </tr>\n",
       "  </thead>\n",
       "  <tbody>\n",
       "    <tr>\n",
       "      <th>123532</th>\n",
       "      <td>123533</td>\n",
       "      <td>739</td>\n",
       "      <td>b'ZEIR'</td>\n",
       "      <td>694</td>\n",
       "      <td>0</td>\n",
       "      <td>0.5</td>\n",
       "      <td>0.5</td>\n",
       "      <td>0.5</td>\n",
       "    </tr>\n",
       "    <tr>\n",
       "      <th>123533</th>\n",
       "      <td>123534</td>\n",
       "      <td>739</td>\n",
       "      <td>b'ZEIR'</td>\n",
       "      <td>694</td>\n",
       "      <td>1</td>\n",
       "      <td>0.5</td>\n",
       "      <td>0.5</td>\n",
       "      <td>0.5</td>\n",
       "    </tr>\n",
       "    <tr>\n",
       "      <th>123534</th>\n",
       "      <td>123535</td>\n",
       "      <td>739</td>\n",
       "      <td>b'ZEIR'</td>\n",
       "      <td>694</td>\n",
       "      <td>2</td>\n",
       "      <td>0.5</td>\n",
       "      <td>0.5</td>\n",
       "      <td>0.5</td>\n",
       "    </tr>\n",
       "    <tr>\n",
       "      <th>123535</th>\n",
       "      <td>123536</td>\n",
       "      <td>739</td>\n",
       "      <td>b'ZEIR'</td>\n",
       "      <td>694</td>\n",
       "      <td>3</td>\n",
       "      <td>0.5</td>\n",
       "      <td>0.5</td>\n",
       "      <td>0.5</td>\n",
       "    </tr>\n",
       "    <tr>\n",
       "      <th>123536</th>\n",
       "      <td>123537</td>\n",
       "      <td>739</td>\n",
       "      <td>b'ZEIR'</td>\n",
       "      <td>694</td>\n",
       "      <td>4</td>\n",
       "      <td>0.5</td>\n",
       "      <td>0.5</td>\n",
       "      <td>0.5</td>\n",
       "    </tr>\n",
       "    <tr>\n",
       "      <th>...</th>\n",
       "      <td>...</td>\n",
       "      <td>...</td>\n",
       "      <td>...</td>\n",
       "      <td>...</td>\n",
       "      <td>...</td>\n",
       "      <td>...</td>\n",
       "      <td>...</td>\n",
       "      <td>...</td>\n",
       "    </tr>\n",
       "    <tr>\n",
       "      <th>123705</th>\n",
       "      <td>123706</td>\n",
       "      <td>739</td>\n",
       "      <td>b'ZEIR'</td>\n",
       "      <td>694</td>\n",
       "      <td>174</td>\n",
       "      <td>0.5</td>\n",
       "      <td>0.5</td>\n",
       "      <td>0.5</td>\n",
       "    </tr>\n",
       "    <tr>\n",
       "      <th>123706</th>\n",
       "      <td>123707</td>\n",
       "      <td>739</td>\n",
       "      <td>b'ZEIR'</td>\n",
       "      <td>694</td>\n",
       "      <td>175</td>\n",
       "      <td>0.5</td>\n",
       "      <td>0.5</td>\n",
       "      <td>0.5</td>\n",
       "    </tr>\n",
       "    <tr>\n",
       "      <th>123707</th>\n",
       "      <td>123708</td>\n",
       "      <td>739</td>\n",
       "      <td>b'ZEIR'</td>\n",
       "      <td>694</td>\n",
       "      <td>176</td>\n",
       "      <td>0.5</td>\n",
       "      <td>0.5</td>\n",
       "      <td>0.5</td>\n",
       "    </tr>\n",
       "    <tr>\n",
       "      <th>123708</th>\n",
       "      <td>123709</td>\n",
       "      <td>739</td>\n",
       "      <td>b'ZEIR'</td>\n",
       "      <td>694</td>\n",
       "      <td>177</td>\n",
       "      <td>0.5</td>\n",
       "      <td>0.5</td>\n",
       "      <td>0.5</td>\n",
       "    </tr>\n",
       "    <tr>\n",
       "      <th>123709</th>\n",
       "      <td>123710</td>\n",
       "      <td>739</td>\n",
       "      <td>b'ZEIR'</td>\n",
       "      <td>694</td>\n",
       "      <td>178</td>\n",
       "      <td>0.5</td>\n",
       "      <td>0.5</td>\n",
       "      <td>0.5</td>\n",
       "    </tr>\n",
       "  </tbody>\n",
       "</table>\n",
       "<p>178 rows × 8 columns</p>\n",
       "</div>"
      ],
      "text/plain": [
       "            id  parent_id provenance  t_idx  worldline_id    x    y    z\n",
       "123532  123533        739    b'ZEIR'    694             0  0.5  0.5  0.5\n",
       "123533  123534        739    b'ZEIR'    694             1  0.5  0.5  0.5\n",
       "123534  123535        739    b'ZEIR'    694             2  0.5  0.5  0.5\n",
       "123535  123536        739    b'ZEIR'    694             3  0.5  0.5  0.5\n",
       "123536  123537        739    b'ZEIR'    694             4  0.5  0.5  0.5\n",
       "...        ...        ...        ...    ...           ...  ...  ...  ...\n",
       "123705  123706        739    b'ZEIR'    694           174  0.5  0.5  0.5\n",
       "123706  123707        739    b'ZEIR'    694           175  0.5  0.5  0.5\n",
       "123707  123708        739    b'ZEIR'    694           176  0.5  0.5  0.5\n",
       "123708  123709        739    b'ZEIR'    694           177  0.5  0.5  0.5\n",
       "123709  123710        739    b'ZEIR'    694           178  0.5  0.5  0.5\n",
       "\n",
       "[178 rows x 8 columns]"
      ]
     },
     "execution_count": 12,
     "metadata": {},
     "output_type": "execute_result"
    }
   ],
   "source": [
    "dataset = Path(dataset_path)\n",
    "annotation = get_annotation_df(dataset)\n",
    "idx = 500\n",
    "annotation[annotation['t_idx']==t_frame[idx]]"
   ]
  },
  {
   "cell_type": "code",
   "execution_count": null,
   "id": "ad256055-421d-4db3-9c74-6c74735860ba",
   "metadata": {
    "tags": []
   },
   "outputs": [],
   "source": []
  },
  {
   "cell_type": "code",
   "execution_count": null,
   "id": "20d7a893-2084-4797-bd1d-72294bcc7bc7",
   "metadata": {},
   "outputs": [],
   "source": []
  },
  {
   "cell_type": "code",
   "execution_count": null,
   "id": "90450bae-4bc1-4fc4-9c0d-cafe34b04a5f",
   "metadata": {},
   "outputs": [],
   "source": []
  },
  {
   "cell_type": "code",
   "execution_count": null,
   "id": "d26c4dcc-ab5b-4322-b4f9-f462ad3b46cc",
   "metadata": {},
   "outputs": [],
   "source": []
  },
  {
   "cell_type": "markdown",
   "id": "0d377129-c542-4c5d-8590-2b2b76c908bd",
   "metadata": {
    "tags": []
   },
   "source": [
    "## runing test"
   ]
  },
  {
   "cell_type": "code",
   "execution_count": null,
   "id": "fbd2620e-62eb-448e-8306-f5c13c5793e0",
   "metadata": {
    "tags": []
   },
   "outputs": [],
   "source": []
  },
  {
   "cell_type": "code",
   "execution_count": null,
   "id": "5a13fa03-7451-4133-a820-27ae84861035",
   "metadata": {},
   "outputs": [],
   "source": []
  },
  {
   "cell_type": "code",
   "execution_count": 13,
   "id": "5d337742-f17a-4615-9a8e-85c8a73e2fa8",
   "metadata": {
    "collapsed": true,
    "jupyter": {
     "outputs_hidden": true
    },
    "tags": []
   },
   "outputs": [
    {
     "name": "stdout",
     "output_type": "stream",
     "text": [
      "originalally found matches: 0 after filtered the merged neurons, found matches:  0\n",
      "the updated annotation at time t1 0.0\n",
      "the updated annotation at time t2 0.0\n",
      "before loading 0.0\n",
      "Using frame #443 as initial reference with 178 annotations found...\n",
      "t_annot: [443 444]\n",
      "\n",
      "Annotations loaded for frames [443, 444] with shape: (2, 178, 3)\n",
      "Checkpoint updated for ['container'] @ [2024-03-28 00:12:24.584599]\n",
      "Checkpoint updated for ['results'] @ [2024-03-28 00:12:24.633531]\n",
      "after loading 0.0\n"
     ]
    },
    {
     "name": "stderr",
     "output_type": "stream",
     "text": [
      "Analyzing movie:   0%|          | 0/1 [00:00<?, ?frames/s]"
     ]
    },
    {
     "name": "stdout",
     "output_type": "stream",
     "text": [
      "\n",
      "Frame #443\t\tParent #444\t\tReference #443\t\tDistance to parent: d=0.0107\n"
     ]
    },
    {
     "name": "stderr",
     "output_type": "stream",
     "text": [
      "\n",
      "Tracking:   0%|          | 0/40 [00:00<?, ?epochs/s]\u001b[A\n",
      "Tracking:   0%|          | 0/40 [00:00<?, ?epochs/s, Loss=0.3296, Loss_R=0.3296, LR=0.0213]\u001b[A\n",
      "Tracking:   2%|▎         | 1/40 [00:00<00:06,  5.97epochs/s, Loss=0.3296, Loss_R=0.3296, LR=0.0213]\u001b[A\n",
      "Tracking:   2%|▎         | 1/40 [00:00<00:06,  5.97epochs/s, Loss=0.3306, Loss_R=0.3306, LR=0.0213]\u001b[A\n",
      "Tracking:   2%|▎         | 1/40 [00:00<00:06,  5.97epochs/s, Loss=0.3306, Loss_R=0.3306, LR=0.0213]\u001b[A\n",
      "Tracking:   8%|▊         | 3/40 [00:00<00:03, 10.71epochs/s, Loss=0.3306, Loss_R=0.3306, LR=0.0213]\u001b[A\n",
      "Tracking:   8%|▊         | 3/40 [00:00<00:03, 10.71epochs/s, Loss=0.3306, Loss_R=0.3306, LR=0.0213]\u001b[A\n",
      "Tracking:   8%|▊         | 3/40 [00:00<00:03, 10.71epochs/s, Loss=0.2764, Loss_R=0.2764, LR=0.0213]\u001b[A\n",
      "Tracking:  12%|█▎        | 5/40 [00:00<00:03, 10.74epochs/s, Loss=0.2764, Loss_R=0.2764, LR=0.0213]\u001b[A\n",
      "Tracking:  12%|█▎        | 5/40 [00:00<00:03, 10.74epochs/s, Loss=0.2764, Loss_R=0.2764, LR=0.0213]\u001b[A\n",
      "Tracking:  12%|█▎        | 5/40 [00:00<00:03, 10.74epochs/s, Loss=0.2764, Loss_R=0.2764, LR=0.0213]\u001b[A\n",
      "Tracking:  12%|█▎        | 5/40 [00:00<00:03, 10.74epochs/s, Loss=0.2764, Loss_R=0.2764, LR=0.0213]\u001b[A\n",
      "Tracking:  20%|██        | 8/40 [00:00<00:01, 16.02epochs/s, Loss=0.2764, Loss_R=0.2764, LR=0.0213]\u001b[A\n",
      "Tracking:  20%|██        | 8/40 [00:00<00:01, 16.02epochs/s, Loss=0.2764, Loss_R=0.2764, LR=0.0213]\u001b[A\n",
      "Tracking:  20%|██        | 8/40 [00:00<00:01, 16.02epochs/s, Loss=0.2256, Loss_R=0.2256, LR=0.0107]\u001b[A\n",
      "Tracking:  20%|██        | 8/40 [00:00<00:01, 16.02epochs/s, Loss=0.2256, Loss_R=0.2256, LR=0.0107]\u001b[A\n",
      "Tracking:  20%|██        | 8/40 [00:00<00:01, 16.02epochs/s, Loss=0.2256, Loss_R=0.2256, LR=0.0107]\u001b[A\n",
      "Tracking:  20%|██        | 8/40 [00:00<00:01, 16.02epochs/s, Loss=0.2256, Loss_R=0.2256, LR=0.0107]\u001b[A\n",
      "Tracking:  20%|██        | 8/40 [00:00<00:01, 16.02epochs/s, Loss=0.2256, Loss_R=0.2256, LR=0.0107]\u001b[A\n",
      "Tracking:  35%|███▌      | 14/40 [00:00<00:00, 27.67epochs/s, Loss=0.2256, Loss_R=0.2256, LR=0.0107]\u001b[A\n",
      "Tracking:  35%|███▌      | 14/40 [00:00<00:00, 27.67epochs/s, Loss=0.0791, Loss_R=0.0791, LR=0.0107]\u001b[A\n",
      "Tracking:  35%|███▌      | 14/40 [00:00<00:00, 27.67epochs/s, Loss=0.0786, Loss_R=0.0786, LR=0.0107]\u001b[A\n",
      "Tracking:  35%|███▌      | 14/40 [00:00<00:00, 27.67epochs/s, Loss=0.0786, Loss_R=0.0786, LR=0.0107]\u001b[A\n",
      "Tracking:  35%|███▌      | 14/40 [00:00<00:00, 27.67epochs/s, Loss=0.0786, Loss_R=0.0786, LR=0.0107]\u001b[A\n",
      "Tracking:  35%|███▌      | 14/40 [00:00<00:00, 27.67epochs/s, Loss=0.0786, Loss_R=0.0786, LR=0.0107]\u001b[A\n",
      "Tracking:  35%|███▌      | 14/40 [00:00<00:00, 27.67epochs/s, Loss=0.0786, Loss_R=0.0786, LR=0.0053]\u001b[A\n",
      "Tracking:  35%|███▌      | 14/40 [00:00<00:00, 27.67epochs/s, Loss=0.0791, Loss_R=0.0791, LR=0.0053]\u001b[A\n",
      "Tracking:  35%|███▌      | 14/40 [00:00<00:00, 27.67epochs/s, Loss=0.0791, Loss_R=0.0791, LR=0.0053]\u001b[A\n",
      "Tracking:  35%|███▌      | 14/40 [00:00<00:00, 27.67epochs/s, Loss=0.0786, Loss_R=0.0786, LR=0.0053]\u001b[A\n",
      "Tracking:  57%|█████▊    | 23/40 [00:00<00:00, 44.13epochs/s, Loss=0.0786, Loss_R=0.0786, LR=0.0053]\u001b[A\n",
      "Tracking:  57%|█████▊    | 23/40 [00:00<00:00, 44.13epochs/s, Loss=0.0791, Loss_R=0.0791, LR=0.0053]\u001b[A\n",
      "Tracking:  57%|█████▊    | 23/40 [00:00<00:00, 44.13epochs/s, Loss=0.0791, Loss_R=0.0791, LR=0.0053]\u001b[A\n",
      "Tracking:  57%|█████▊    | 23/40 [00:00<00:00, 44.13epochs/s, Loss=0.0786, Loss_R=0.0786, LR=0.0053]\u001b[A\n",
      "Tracking:  57%|█████▊    | 23/40 [00:00<00:00, 44.13epochs/s, Loss=0.0786, Loss_R=0.0786, LR=0.0053]\u001b[A\n",
      "Tracking:  57%|█████▊    | 23/40 [00:00<00:00, 44.13epochs/s, Loss=0.0786, Loss_R=0.0786, LR=0.0053]\u001b[A\n",
      "Tracking:  57%|█████▊    | 23/40 [00:00<00:00, 44.13epochs/s, Loss=0.0786, Loss_R=0.0786, LR=0.0053]\u001b[A\n",
      "Tracking:  57%|█████▊    | 23/40 [00:00<00:00, 44.13epochs/s, Loss=0.0786, Loss_R=0.0786, LR=0.0027]\u001b[A\n",
      "Tracking:  57%|█████▊    | 23/40 [00:00<00:00, 44.13epochs/s, Loss=0.0786, Loss_R=0.0786, LR=0.0027]\u001b[A\n",
      "Tracking:  78%|███████▊  | 31/40 [00:00<00:00, 54.04epochs/s, Loss=0.0786, Loss_R=0.0786, LR=0.0027]\u001b[A\n",
      "Tracking:  78%|███████▊  | 31/40 [00:00<00:00, 54.04epochs/s, Loss=0.0786, Loss_R=0.0786, LR=0.0027]\u001b[A\n",
      "Tracking:  78%|███████▊  | 31/40 [00:00<00:00, 54.04epochs/s, Loss=0.0786, Loss_R=0.0786, LR=0.0027]\u001b[A\n",
      "Tracking:  78%|███████▊  | 31/40 [00:00<00:00, 54.04epochs/s, Loss=0.0786, Loss_R=0.0786, LR=0.0027]\u001b[A\n",
      "Tracking:  78%|███████▊  | 31/40 [00:00<00:00, 54.04epochs/s, Loss=0.0786, Loss_R=0.0786, LR=0.0027]\u001b[A\n",
      "Tracking:  78%|███████▊  | 31/40 [00:00<00:00, 54.04epochs/s, Loss=0.0786, Loss_R=0.0786, LR=0.0027]\u001b[A\n",
      "Tracking:  78%|███████▊  | 31/40 [00:00<00:00, 54.04epochs/s, Loss=0.0786, Loss_R=0.0786, LR=0.0027]\u001b[A\n",
      "Tracking:  78%|███████▊  | 31/40 [00:00<00:00, 54.04epochs/s, Loss=0.0786, Loss_R=0.0786, LR=0.0027]\u001b[A\n",
      "Tracking:  78%|███████▊  | 31/40 [00:01<00:00, 54.04epochs/s, Loss=0.0786, Loss_R=0.0786, LR=0.0027]\u001b[A\n",
      "Tracking:  78%|███████▊  | 31/40 [00:01<00:00, 54.04epochs/s, Loss=0.0786, Loss_R=0.0786, LR=0.0013]\u001b[A\n",
      "Tracking: 100%|██████████| 40/40 [00:01<00:00, 39.08epochs/s, Loss=0.0786, Loss_R=0.0786, LR=0.0013]\u001b[A\n",
      "Analyzing movie: 100%|██████████| 1/1 [00:01<00:00,  1.66s/frames]\n"
     ]
    },
    {
     "name": "stdout",
     "output_type": "stream",
     "text": [
      "!!time 443 [ 1.29519685e-05 -3.35603982e-05  5.85720227e-06]\n",
      "\n",
      "Compiling and saving results to file...\n",
      "originalally found matches: 0 after filtered the merged neurons, found matches:  0\n",
      "the updated annotation at time t1 0.004662931\n",
      "the updated annotation at time t2 0.0\n",
      "before loading 0.0\n",
      "Using frame #443 as initial reference with 178 annotations found...\n",
      "t_annot: [443 444 489]\n",
      "\n",
      "Annotations loaded for frames [443, 444] with shape: (2, 178, 3)\n",
      "Checkpoint updated for ['container'] @ [2024-03-28 00:12:27.549368]\n",
      "Checkpoint updated for ['results'] @ [2024-03-28 00:12:27.633485]\n",
      "after loading 0.0\n"
     ]
    },
    {
     "name": "stderr",
     "output_type": "stream",
     "text": [
      "Analyzing movie:   0%|          | 0/1 [00:00<?, ?frames/s]"
     ]
    },
    {
     "name": "stdout",
     "output_type": "stream",
     "text": [
      "\n",
      "Frame #489\t\tParent #443\t\tReference #443\t\tDistance to parent: d=0.0093\n"
     ]
    },
    {
     "name": "stderr",
     "output_type": "stream",
     "text": [
      "\n",
      "Tracking:   0%|          | 0/40 [00:00<?, ?epochs/s]\u001b[A\n",
      "Tracking:   0%|          | 0/40 [00:00<?, ?epochs/s, Loss=0.5264, Loss_R=0.5264, LR=0.0186]\u001b[A\n",
      "Tracking:   0%|          | 0/40 [00:00<?, ?epochs/s, Loss=0.4771, Loss_R=0.4771, LR=0.0186]\u001b[A\n",
      "Tracking:   5%|▌         | 2/40 [00:00<00:02, 16.98epochs/s, Loss=0.4771, Loss_R=0.4771, LR=0.0186]\u001b[A\n",
      "Tracking:   5%|▌         | 2/40 [00:00<00:02, 16.98epochs/s, Loss=0.4395, Loss_R=0.4395, LR=0.0186]\u001b[A\n",
      "Tracking:   5%|▌         | 2/40 [00:00<00:02, 16.98epochs/s, Loss=0.4126, Loss_R=0.4126, LR=0.0186]\u001b[A\n",
      "Tracking:  10%|█         | 4/40 [00:00<00:02, 16.89epochs/s, Loss=0.4126, Loss_R=0.4126, LR=0.0186]\u001b[A\n",
      "Tracking:  10%|█         | 4/40 [00:00<00:02, 16.89epochs/s, Loss=0.3740, Loss_R=0.3740, LR=0.0186]\u001b[A\n",
      "Tracking:  10%|█         | 4/40 [00:00<00:02, 16.89epochs/s, Loss=0.3442, Loss_R=0.3442, LR=0.0186]\u001b[A\n",
      "Tracking:  10%|█         | 4/40 [00:00<00:02, 16.89epochs/s, Loss=0.3262, Loss_R=0.3262, LR=0.0186]\u001b[A\n",
      "Tracking:  18%|█▊        | 7/40 [00:00<00:01, 21.29epochs/s, Loss=0.3262, Loss_R=0.3262, LR=0.0186]\u001b[A\n",
      "Tracking:  18%|█▊        | 7/40 [00:00<00:01, 21.29epochs/s, Loss=0.3159, Loss_R=0.3159, LR=0.0186]\u001b[A\n",
      "Tracking:  18%|█▊        | 7/40 [00:00<00:01, 21.29epochs/s, Loss=0.3125, Loss_R=0.3125, LR=0.0186]\u001b[A\n",
      "Tracking:  18%|█▊        | 7/40 [00:00<00:01, 21.29epochs/s, Loss=0.2705, Loss_R=0.2705, LR=0.0093]\u001b[A\n",
      "Tracking:  18%|█▊        | 7/40 [00:00<00:01, 21.29epochs/s, Loss=0.2612, Loss_R=0.2612, LR=0.0093]\u001b[A\n",
      "Tracking:  28%|██▊       | 11/40 [00:00<00:01, 27.40epochs/s, Loss=0.2612, Loss_R=0.2612, LR=0.0093]\u001b[A\n",
      "Tracking:  28%|██▊       | 11/40 [00:00<00:01, 27.40epochs/s, Loss=0.2583, Loss_R=0.2583, LR=0.0093]\u001b[A\n",
      "Tracking:  28%|██▊       | 11/40 [00:00<00:01, 27.40epochs/s, Loss=0.2559, Loss_R=0.2559, LR=0.0093]\u001b[A\n",
      "Tracking:  28%|██▊       | 11/40 [00:00<00:01, 27.40epochs/s, Loss=0.2539, Loss_R=0.2539, LR=0.0093]\u001b[A\n",
      "Tracking:  28%|██▊       | 11/40 [00:00<00:01, 27.40epochs/s, Loss=0.1445, Loss_R=0.1445, LR=0.0093]\u001b[A\n",
      "Tracking:  28%|██▊       | 11/40 [00:00<00:01, 27.40epochs/s, Loss=0.1382, Loss_R=0.1382, LR=0.0093]\u001b[A\n",
      "Tracking:  28%|██▊       | 11/40 [00:00<00:01, 27.40epochs/s, Loss=0.1289, Loss_R=0.1289, LR=0.0093]\u001b[A\n",
      "Tracking:  28%|██▊       | 11/40 [00:00<00:01, 27.40epochs/s, Loss=0.1250, Loss_R=0.1250, LR=0.0093]\u001b[A\n",
      "Tracking:  28%|██▊       | 11/40 [00:00<00:01, 27.40epochs/s, Loss=0.1245, Loss_R=0.1245, LR=0.0093]\u001b[A\n",
      "Tracking:  48%|████▊     | 19/40 [00:00<00:00, 44.61epochs/s, Loss=0.1245, Loss_R=0.1245, LR=0.0093]\u001b[A\n",
      "Tracking:  48%|████▊     | 19/40 [00:00<00:00, 44.61epochs/s, Loss=0.1235, Loss_R=0.1235, LR=0.0046]\u001b[A\n",
      "Tracking:  48%|████▊     | 19/40 [00:00<00:00, 44.61epochs/s, Loss=0.1226, Loss_R=0.1226, LR=0.0046]\u001b[A\n",
      "Tracking:  48%|████▊     | 19/40 [00:00<00:00, 44.61epochs/s, Loss=0.1235, Loss_R=0.1235, LR=0.0046]\u001b[A\n",
      "Tracking:  48%|████▊     | 19/40 [00:00<00:00, 44.61epochs/s, Loss=0.1230, Loss_R=0.1230, LR=0.0046]\u001b[A\n",
      "Tracking:  48%|████▊     | 19/40 [00:00<00:00, 44.61epochs/s, Loss=0.1230, Loss_R=0.1230, LR=0.0046]\u001b[A\n",
      "Tracking:  48%|████▊     | 19/40 [00:00<00:00, 44.61epochs/s, Loss=0.1230, Loss_R=0.1230, LR=0.0046]\u001b[A\n",
      "Tracking:  48%|████▊     | 19/40 [00:00<00:00, 44.61epochs/s, Loss=0.1221, Loss_R=0.1221, LR=0.0046]\u001b[A\n",
      "Tracking:  48%|████▊     | 19/40 [00:00<00:00, 44.61epochs/s, Loss=0.1226, Loss_R=0.1226, LR=0.0046]\u001b[A\n",
      "Tracking:  48%|████▊     | 19/40 [00:00<00:00, 44.61epochs/s, Loss=0.1226, Loss_R=0.1226, LR=0.0046]\u001b[A\n",
      "Tracking:  70%|███████   | 28/40 [00:00<00:00, 58.80epochs/s, Loss=0.1226, Loss_R=0.1226, LR=0.0046]\u001b[A\n",
      "Tracking:  70%|███████   | 28/40 [00:00<00:00, 58.80epochs/s, Loss=0.1226, Loss_R=0.1226, LR=0.0046]\u001b[A\n",
      "Tracking:  70%|███████   | 28/40 [00:00<00:00, 58.80epochs/s, Loss=0.1221, Loss_R=0.1221, LR=0.0023]\u001b[A\n",
      "Tracking:  70%|███████   | 28/40 [00:00<00:00, 58.80epochs/s, Loss=0.1216, Loss_R=0.1216, LR=0.0023]\u001b[A\n",
      "Tracking:  70%|███████   | 28/40 [00:00<00:00, 58.80epochs/s, Loss=0.1221, Loss_R=0.1221, LR=0.0023]\u001b[A\n",
      "Tracking:  70%|███████   | 28/40 [00:00<00:00, 58.80epochs/s, Loss=0.1221, Loss_R=0.1221, LR=0.0023]\u001b[A\n",
      "Tracking:  70%|███████   | 28/40 [00:00<00:00, 58.80epochs/s, Loss=0.1221, Loss_R=0.1221, LR=0.0023]\u001b[A\n",
      "Tracking:  70%|███████   | 28/40 [00:00<00:00, 58.80epochs/s, Loss=0.1221, Loss_R=0.1221, LR=0.0023]\u001b[A\n",
      "Tracking:  70%|███████   | 28/40 [00:00<00:00, 58.80epochs/s, Loss=0.1221, Loss_R=0.1221, LR=0.0023]\u001b[A\n",
      "Tracking:  70%|███████   | 28/40 [00:00<00:00, 58.80epochs/s, Loss=0.1221, Loss_R=0.1221, LR=0.0023]\u001b[A\n",
      "Tracking:  92%|█████████▎| 37/40 [00:00<00:00, 68.03epochs/s, Loss=0.1221, Loss_R=0.1221, LR=0.0023]\u001b[A\n",
      "Tracking:  92%|█████████▎| 37/40 [00:00<00:00, 68.03epochs/s, Loss=0.1221, Loss_R=0.1221, LR=0.0023]\u001b[A\n",
      "Tracking:  92%|█████████▎| 37/40 [00:00<00:00, 68.03epochs/s, Loss=0.1221, Loss_R=0.1221, LR=0.0023]\u001b[A\n",
      "Tracking: 100%|██████████| 40/40 [00:00<00:00, 50.11epochs/s, Loss=0.1221, Loss_R=0.1221, LR=0.0012]\u001b[A\n",
      "Analyzing movie: 100%|██████████| 1/1 [00:01<00:00,  1.44s/frames]\n"
     ]
    },
    {
     "name": "stdout",
     "output_type": "stream",
     "text": [
      "!!time 489 [ 0.01179651 -0.00901353  0.00032655]\n",
      "\n",
      "Compiling and saving results to file...\n",
      "originalally found matches: 0 after filtered the merged neurons, found matches:  0\n",
      "the updated annotation at time t1 1.8811505\n",
      "the updated annotation at time t2 0.0\n",
      "before loading 0.0\n",
      "Using frame #443 as initial reference with 178 annotations found...\n",
      "t_annot: [442 443 444 489]\n",
      "\n",
      "Annotations loaded for frames [443, 444] with shape: (2, 178, 3)\n",
      "Checkpoint updated for ['container'] @ [2024-03-28 00:12:30.249355]\n",
      "Checkpoint updated for ['results'] @ [2024-03-28 00:12:30.297986]\n",
      "after loading 0.0\n"
     ]
    },
    {
     "name": "stderr",
     "output_type": "stream",
     "text": [
      "Analyzing movie:   0%|          | 0/1 [00:00<?, ?frames/s]"
     ]
    },
    {
     "name": "stdout",
     "output_type": "stream",
     "text": [
      "\n",
      "Frame #442\t\tParent #443\t\tReference #443\t\tDistance to parent: d=0.0102\n"
     ]
    },
    {
     "name": "stderr",
     "output_type": "stream",
     "text": [
      "\n",
      "Tracking:   0%|          | 0/40 [00:00<?, ?epochs/s]\u001b[A\n",
      "Tracking:   0%|          | 0/40 [00:00<?, ?epochs/s, Loss=0.3755, Loss_R=0.3755, LR=0.0205]\u001b[A\n",
      "Tracking:   0%|          | 0/40 [00:00<?, ?epochs/s, Loss=0.3608, Loss_R=0.3608, LR=0.0205]\u001b[A\n",
      "Tracking:   5%|▌         | 2/40 [00:00<00:02, 18.00epochs/s, Loss=0.3608, Loss_R=0.3608, LR=0.0205]\u001b[A\n",
      "Tracking:   5%|▌         | 2/40 [00:00<00:02, 18.00epochs/s, Loss=0.3540, Loss_R=0.3540, LR=0.0205]\u001b[A\n",
      "Tracking:   5%|▌         | 2/40 [00:00<00:02, 18.00epochs/s, Loss=0.3501, Loss_R=0.3501, LR=0.0205]\u001b[A\n",
      "Tracking:  10%|█         | 4/40 [00:00<00:02, 17.68epochs/s, Loss=0.3501, Loss_R=0.3501, LR=0.0205]\u001b[A\n",
      "Tracking:  10%|█         | 4/40 [00:00<00:02, 17.68epochs/s, Loss=0.3071, Loss_R=0.3071, LR=0.0205]\u001b[A\n",
      "Tracking:  10%|█         | 4/40 [00:00<00:02, 17.68epochs/s, Loss=0.3032, Loss_R=0.3032, LR=0.0205]\u001b[A\n",
      "Tracking:  10%|█         | 4/40 [00:00<00:02, 17.68epochs/s, Loss=0.3013, Loss_R=0.3013, LR=0.0205]\u001b[A\n",
      "Tracking:  18%|█▊        | 7/40 [00:00<00:01, 22.64epochs/s, Loss=0.3013, Loss_R=0.3013, LR=0.0205]\u001b[A\n",
      "Tracking:  18%|█▊        | 7/40 [00:00<00:01, 22.64epochs/s, Loss=0.2979, Loss_R=0.2979, LR=0.0205]\u001b[A\n",
      "Tracking:  18%|█▊        | 7/40 [00:00<00:01, 22.64epochs/s, Loss=0.2974, Loss_R=0.2974, LR=0.0205]\u001b[A\n",
      "Tracking:  18%|█▊        | 7/40 [00:00<00:01, 22.64epochs/s, Loss=0.2656, Loss_R=0.2656, LR=0.0102]\u001b[A\n",
      "Tracking:  18%|█▊        | 7/40 [00:00<00:01, 22.64epochs/s, Loss=0.2607, Loss_R=0.2607, LR=0.0102]\u001b[A\n",
      "Tracking:  28%|██▊       | 11/40 [00:00<00:01, 28.43epochs/s, Loss=0.2607, Loss_R=0.2607, LR=0.0102]\u001b[A\n",
      "Tracking:  28%|██▊       | 11/40 [00:00<00:01, 28.43epochs/s, Loss=0.2578, Loss_R=0.2578, LR=0.0102]\u001b[A\n",
      "Tracking:  28%|██▊       | 11/40 [00:00<00:01, 28.43epochs/s, Loss=0.2568, Loss_R=0.2568, LR=0.0102]\u001b[A\n",
      "Tracking:  28%|██▊       | 11/40 [00:00<00:01, 28.43epochs/s, Loss=0.2544, Loss_R=0.2544, LR=0.0102]\u001b[A\n",
      "Tracking:  28%|██▊       | 11/40 [00:00<00:01, 28.43epochs/s, Loss=0.1562, Loss_R=0.1562, LR=0.0102]\u001b[A\n",
      "Tracking:  28%|██▊       | 11/40 [00:00<00:01, 28.43epochs/s, Loss=0.1445, Loss_R=0.1445, LR=0.0102]\u001b[A\n",
      "Tracking:  28%|██▊       | 11/40 [00:00<00:01, 28.43epochs/s, Loss=0.1421, Loss_R=0.1421, LR=0.0102]\u001b[A\n",
      "Tracking:  28%|██▊       | 11/40 [00:00<00:01, 28.43epochs/s, Loss=0.1411, Loss_R=0.1411, LR=0.0102]\u001b[A\n",
      "Tracking:  28%|██▊       | 11/40 [00:00<00:01, 28.43epochs/s, Loss=0.1416, Loss_R=0.1416, LR=0.0102]\u001b[A\n",
      "Tracking:  48%|████▊     | 19/40 [00:00<00:00, 45.34epochs/s, Loss=0.1416, Loss_R=0.1416, LR=0.0102]\u001b[A\n",
      "Tracking:  48%|████▊     | 19/40 [00:00<00:00, 45.34epochs/s, Loss=0.1411, Loss_R=0.1411, LR=0.0051]\u001b[A\n",
      "Tracking:  48%|████▊     | 19/40 [00:00<00:00, 45.34epochs/s, Loss=0.1411, Loss_R=0.1411, LR=0.0051]\u001b[A\n",
      "Tracking:  48%|████▊     | 19/40 [00:00<00:00, 45.34epochs/s, Loss=0.1411, Loss_R=0.1411, LR=0.0051]\u001b[A\n",
      "Tracking:  48%|████▊     | 19/40 [00:00<00:00, 45.34epochs/s, Loss=0.1411, Loss_R=0.1411, LR=0.0051]\u001b[A\n",
      "Tracking:  48%|████▊     | 19/40 [00:00<00:00, 45.34epochs/s, Loss=0.1411, Loss_R=0.1411, LR=0.0051]\u001b[A\n",
      "Tracking:  48%|████▊     | 19/40 [00:00<00:00, 45.34epochs/s, Loss=0.1411, Loss_R=0.1411, LR=0.0051]\u001b[A\n",
      "Tracking:  48%|████▊     | 19/40 [00:00<00:00, 45.34epochs/s, Loss=0.1411, Loss_R=0.1411, LR=0.0051]\u001b[A\n",
      "Tracking:  48%|████▊     | 19/40 [00:00<00:00, 45.34epochs/s, Loss=0.1411, Loss_R=0.1411, LR=0.0051]\u001b[A\n",
      "Tracking:  48%|████▊     | 19/40 [00:00<00:00, 45.34epochs/s, Loss=0.1411, Loss_R=0.1411, LR=0.0051]\u001b[A\n",
      "Tracking:  70%|███████   | 28/40 [00:00<00:00, 59.56epochs/s, Loss=0.1411, Loss_R=0.1411, LR=0.0051]\u001b[A\n",
      "Tracking:  70%|███████   | 28/40 [00:00<00:00, 59.56epochs/s, Loss=0.1411, Loss_R=0.1411, LR=0.0051]\u001b[A\n",
      "Tracking:  70%|███████   | 28/40 [00:00<00:00, 59.56epochs/s, Loss=0.1411, Loss_R=0.1411, LR=0.0026]\u001b[A\n",
      "Tracking:  70%|███████   | 28/40 [00:00<00:00, 59.56epochs/s, Loss=0.1406, Loss_R=0.1406, LR=0.0026]\u001b[A\n",
      "Tracking:  70%|███████   | 28/40 [00:00<00:00, 59.56epochs/s, Loss=0.1406, Loss_R=0.1406, LR=0.0026]\u001b[A\n",
      "Tracking:  70%|███████   | 28/40 [00:00<00:00, 59.56epochs/s, Loss=0.1411, Loss_R=0.1411, LR=0.0026]\u001b[A\n",
      "Tracking:  70%|███████   | 28/40 [00:00<00:00, 59.56epochs/s, Loss=0.1406, Loss_R=0.1406, LR=0.0026]\u001b[A\n",
      "Tracking:  70%|███████   | 28/40 [00:00<00:00, 59.56epochs/s, Loss=0.1406, Loss_R=0.1406, LR=0.0026]\u001b[A\n",
      "Tracking:  70%|███████   | 28/40 [00:00<00:00, 59.56epochs/s, Loss=0.1406, Loss_R=0.1406, LR=0.0026]\u001b[A\n",
      "Tracking:  70%|███████   | 28/40 [00:00<00:00, 59.56epochs/s, Loss=0.1406, Loss_R=0.1406, LR=0.0026]\u001b[A\n",
      "Tracking:  92%|█████████▎| 37/40 [00:00<00:00, 69.00epochs/s, Loss=0.1406, Loss_R=0.1406, LR=0.0026]\u001b[A\n",
      "Tracking:  92%|█████████▎| 37/40 [00:00<00:00, 69.00epochs/s, Loss=0.1406, Loss_R=0.1406, LR=0.0026]\u001b[A\n",
      "Tracking:  92%|█████████▎| 37/40 [00:00<00:00, 69.00epochs/s, Loss=0.1406, Loss_R=0.1406, LR=0.0026]\u001b[A\n",
      "Tracking: 100%|██████████| 40/40 [00:00<00:00, 51.40epochs/s, Loss=0.1406, Loss_R=0.1406, LR=0.0013]\u001b[A\n",
      "Analyzing movie: 100%|██████████| 1/1 [00:01<00:00,  1.43s/frames]\n"
     ]
    },
    {
     "name": "stdout",
     "output_type": "stream",
     "text": [
      "!!time 442 [-5.51982410e-03 -5.14342450e-03  3.48729518e-05]\n",
      "\n",
      "Compiling and saving results to file...\n",
      "originalally found matches: 0 after filtered the merged neurons, found matches:  0\n",
      "the updated annotation at time t1 0.95213443\n",
      "the updated annotation at time t2 0.0\n",
      "before loading 0.0\n",
      "Using frame #443 as initial reference with 178 annotations found...\n",
      "t_annot: [442 443 444 488 489]\n",
      "\n",
      "Annotations loaded for frames [443, 444] with shape: (2, 178, 3)\n",
      "Checkpoint updated for ['container'] @ [2024-03-28 00:12:33.032691]\n",
      "Checkpoint updated for ['results'] @ [2024-03-28 00:12:33.110818]\n",
      "after loading 0.0\n"
     ]
    },
    {
     "name": "stderr",
     "output_type": "stream",
     "text": [
      "Analyzing movie:   0%|          | 0/1 [00:00<?, ?frames/s]"
     ]
    },
    {
     "name": "stdout",
     "output_type": "stream",
     "text": [
      "\n",
      "Frame #488\t\tParent #442\t\tReference #443\t\tDistance to parent: d=0.0069\n"
     ]
    },
    {
     "name": "stderr",
     "output_type": "stream",
     "text": [
      "\n",
      "Tracking:   0%|          | 0/40 [00:00<?, ?epochs/s]\u001b[A\n",
      "Tracking:   0%|          | 0/40 [00:00<?, ?epochs/s, Loss=0.3984, Loss_R=0.3984, LR=0.0139]\u001b[A\n",
      "Tracking:   0%|          | 0/40 [00:00<?, ?epochs/s, Loss=0.3906, Loss_R=0.3906, LR=0.0139]\u001b[A\n",
      "Tracking:   5%|▌         | 2/40 [00:00<00:02, 17.73epochs/s, Loss=0.3906, Loss_R=0.3906, LR=0.0139]\u001b[A\n",
      "Tracking:   5%|▌         | 2/40 [00:00<00:02, 17.73epochs/s, Loss=0.3818, Loss_R=0.3818, LR=0.0139]\u001b[A\n",
      "Tracking:   5%|▌         | 2/40 [00:00<00:02, 17.73epochs/s, Loss=0.3770, Loss_R=0.3770, LR=0.0139]\u001b[A\n",
      "Tracking:  10%|█         | 4/40 [00:00<00:02, 17.47epochs/s, Loss=0.3770, Loss_R=0.3770, LR=0.0139]\u001b[A\n",
      "Tracking:  10%|█         | 4/40 [00:00<00:02, 17.47epochs/s, Loss=0.3320, Loss_R=0.3320, LR=0.0139]\u001b[A\n",
      "Tracking:  10%|█         | 4/40 [00:00<00:02, 17.47epochs/s, Loss=0.3223, Loss_R=0.3223, LR=0.0139]\u001b[A\n",
      "Tracking:  10%|█         | 4/40 [00:00<00:02, 17.47epochs/s, Loss=0.3159, Loss_R=0.3159, LR=0.0139]\u001b[A\n",
      "Tracking:  18%|█▊        | 7/40 [00:00<00:01, 22.17epochs/s, Loss=0.3159, Loss_R=0.3159, LR=0.0139]\u001b[A\n",
      "Tracking:  18%|█▊        | 7/40 [00:00<00:01, 22.17epochs/s, Loss=0.3110, Loss_R=0.3110, LR=0.0139]\u001b[A\n",
      "Tracking:  18%|█▊        | 7/40 [00:00<00:01, 22.17epochs/s, Loss=0.3071, Loss_R=0.3071, LR=0.0139]\u001b[A\n",
      "Tracking:  18%|█▊        | 7/40 [00:00<00:01, 22.17epochs/s, Loss=0.2686, Loss_R=0.2686, LR=0.0069]\u001b[A\n",
      "Tracking:  18%|█▊        | 7/40 [00:00<00:01, 22.17epochs/s, Loss=0.2607, Loss_R=0.2607, LR=0.0069]\u001b[A\n",
      "Tracking:  28%|██▊       | 11/40 [00:00<00:01, 27.32epochs/s, Loss=0.2607, Loss_R=0.2607, LR=0.0069]\u001b[A\n",
      "Tracking:  28%|██▊       | 11/40 [00:00<00:01, 27.32epochs/s, Loss=0.2563, Loss_R=0.2563, LR=0.0069]\u001b[A\n",
      "Tracking:  28%|██▊       | 11/40 [00:00<00:01, 27.32epochs/s, Loss=0.2534, Loss_R=0.2534, LR=0.0069]\u001b[A\n",
      "Tracking:  28%|██▊       | 11/40 [00:00<00:01, 27.32epochs/s, Loss=0.2524, Loss_R=0.2524, LR=0.0069]\u001b[A\n",
      "Tracking:  28%|██▊       | 11/40 [00:00<00:01, 27.32epochs/s, Loss=0.1509, Loss_R=0.1509, LR=0.0069]\u001b[A\n",
      "Tracking:  28%|██▊       | 11/40 [00:00<00:01, 27.32epochs/s, Loss=0.1416, Loss_R=0.1416, LR=0.0069]\u001b[A\n",
      "Tracking:  28%|██▊       | 11/40 [00:00<00:01, 27.32epochs/s, Loss=0.1318, Loss_R=0.1318, LR=0.0069]\u001b[A\n",
      "Tracking:  28%|██▊       | 11/40 [00:00<00:01, 27.32epochs/s, Loss=0.1245, Loss_R=0.1245, LR=0.0069]\u001b[A\n",
      "Tracking:  28%|██▊       | 11/40 [00:00<00:01, 27.32epochs/s, Loss=0.1216, Loss_R=0.1216, LR=0.0069]\u001b[A\n",
      "Tracking:  48%|████▊     | 19/40 [00:00<00:00, 44.17epochs/s, Loss=0.1216, Loss_R=0.1216, LR=0.0069]\u001b[A\n",
      "Tracking:  48%|████▊     | 19/40 [00:00<00:00, 44.17epochs/s, Loss=0.1201, Loss_R=0.1201, LR=0.0035]\u001b[A\n",
      "Tracking:  48%|████▊     | 19/40 [00:00<00:00, 44.17epochs/s, Loss=0.1191, Loss_R=0.1191, LR=0.0035]\u001b[A\n",
      "Tracking:  48%|████▊     | 19/40 [00:00<00:00, 44.17epochs/s, Loss=0.1191, Loss_R=0.1191, LR=0.0035]\u001b[A\n",
      "Tracking:  48%|████▊     | 19/40 [00:00<00:00, 44.17epochs/s, Loss=0.1187, Loss_R=0.1187, LR=0.0035]\u001b[A\n",
      "Tracking:  48%|████▊     | 19/40 [00:00<00:00, 44.17epochs/s, Loss=0.1187, Loss_R=0.1187, LR=0.0035]\u001b[A\n",
      "Tracking:  60%|██████    | 24/40 [00:00<00:00, 31.84epochs/s, Loss=0.1187, Loss_R=0.1187, LR=0.0035]\u001b[A\n",
      "Tracking:  60%|██████    | 24/40 [00:00<00:00, 31.84epochs/s, Loss=0.1182, Loss_R=0.1182, LR=0.0035]\u001b[A\n",
      "Tracking:  60%|██████    | 24/40 [00:00<00:00, 31.84epochs/s, Loss=0.1191, Loss_R=0.1191, LR=0.0035]\u001b[A\n",
      "Tracking:  60%|██████    | 24/40 [00:00<00:00, 31.84epochs/s, Loss=0.1191, Loss_R=0.1191, LR=0.0035]\u001b[A\n",
      "Tracking:  60%|██████    | 24/40 [00:00<00:00, 31.84epochs/s, Loss=0.1191, Loss_R=0.1191, LR=0.0035]\u001b[A\n",
      "Tracking:  60%|██████    | 24/40 [00:00<00:00, 31.84epochs/s, Loss=0.1191, Loss_R=0.1191, LR=0.0035]\u001b[A\n",
      "Tracking:  60%|██████    | 24/40 [00:00<00:00, 31.84epochs/s, Loss=0.1191, Loss_R=0.1191, LR=0.0017]\u001b[A\n",
      "Tracking:  60%|██████    | 24/40 [00:00<00:00, 31.84epochs/s, Loss=0.1187, Loss_R=0.1187, LR=0.0017]\u001b[A\n",
      "Tracking:  60%|██████    | 24/40 [00:00<00:00, 31.84epochs/s, Loss=0.1187, Loss_R=0.1187, LR=0.0017]\u001b[A\n",
      "Tracking:  60%|██████    | 24/40 [00:00<00:00, 31.84epochs/s, Loss=0.1187, Loss_R=0.1187, LR=0.0017]\u001b[A\n",
      "Tracking:  82%|████████▎ | 33/40 [00:00<00:00, 44.71epochs/s, Loss=0.1187, Loss_R=0.1187, LR=0.0017]\u001b[A\n",
      "Tracking:  82%|████████▎ | 33/40 [00:00<00:00, 44.71epochs/s, Loss=0.1187, Loss_R=0.1187, LR=0.0017]\u001b[A\n",
      "Tracking:  82%|████████▎ | 33/40 [00:00<00:00, 44.71epochs/s, Loss=0.1187, Loss_R=0.1187, LR=0.0017]\u001b[A\n",
      "Tracking:  82%|████████▎ | 33/40 [00:00<00:00, 44.71epochs/s, Loss=0.1187, Loss_R=0.1187, LR=0.0017]\u001b[A\n",
      "Tracking:  82%|████████▎ | 33/40 [00:00<00:00, 44.71epochs/s, Loss=0.1187, Loss_R=0.1187, LR=0.0017]\u001b[A\n",
      "Tracking:  82%|████████▎ | 33/40 [00:00<00:00, 44.71epochs/s, Loss=0.1187, Loss_R=0.1187, LR=0.0017]\u001b[A\n",
      "Tracking:  82%|████████▎ | 33/40 [00:00<00:00, 44.71epochs/s, Loss=0.1187, Loss_R=0.1187, LR=0.0017]\u001b[A\n",
      "Tracking: 100%|██████████| 40/40 [00:00<00:00, 40.67epochs/s, Loss=0.1187, Loss_R=0.1187, LR=0.0009]\u001b[A\n",
      "Analyzing movie: 100%|██████████| 1/1 [00:01<00:00,  1.59s/frames]\n"
     ]
    },
    {
     "name": "stdout",
     "output_type": "stream",
     "text": [
      "!!time 488 [ 0.00437208 -0.00805041 -0.00134021]\n",
      "\n",
      "Compiling and saving results to file...\n",
      "originalally found matches: 0 after filtered the merged neurons, found matches:  0\n",
      "the updated annotation at time t1 1.2248867\n",
      "the updated annotation at time t2 0.0\n",
      "before loading 0.0\n",
      "Using frame #443 as initial reference with 178 annotations found...\n",
      "t_annot: [442 443 444 445 488 489]\n",
      "\n",
      "Annotations loaded for frames [443, 444] with shape: (2, 178, 3)\n",
      "Checkpoint updated for ['container'] @ [2024-03-28 00:12:36.012389]\n",
      "Checkpoint updated for ['results'] @ [2024-03-28 00:12:36.066202]\n",
      "after loading 0.0\n"
     ]
    },
    {
     "name": "stderr",
     "output_type": "stream",
     "text": [
      "Analyzing movie:   0%|          | 0/1 [00:00<?, ?frames/s]"
     ]
    },
    {
     "name": "stdout",
     "output_type": "stream",
     "text": [
      "\n",
      "Frame #445\t\tParent #444\t\tReference #443\t\tDistance to parent: d=0.0131\n"
     ]
    },
    {
     "name": "stderr",
     "output_type": "stream",
     "text": [
      "\n",
      "Tracking:   0%|          | 0/40 [00:00<?, ?epochs/s]\u001b[A\n",
      "Tracking:   0%|          | 0/40 [00:00<?, ?epochs/s, Loss=0.8086, Loss_R=0.8086, LR=0.0262]\u001b[A\n",
      "Tracking:   0%|          | 0/40 [00:00<?, ?epochs/s, Loss=0.7358, Loss_R=0.7358, LR=0.0262]\u001b[A\n",
      "Tracking:   5%|▌         | 2/40 [00:00<00:02, 17.49epochs/s, Loss=0.7358, Loss_R=0.7358, LR=0.0262]\u001b[A\n",
      "Tracking:   5%|▌         | 2/40 [00:00<00:02, 17.49epochs/s, Loss=0.6475, Loss_R=0.6475, LR=0.0262]\u001b[A\n",
      "Tracking:   5%|▌         | 2/40 [00:00<00:02, 17.49epochs/s, Loss=0.5586, Loss_R=0.5586, LR=0.0262]\u001b[A\n",
      "Tracking:  10%|█         | 4/40 [00:00<00:02, 17.03epochs/s, Loss=0.5586, Loss_R=0.5586, LR=0.0262]\u001b[A\n",
      "Tracking:  10%|█         | 4/40 [00:00<00:02, 17.03epochs/s, Loss=0.5000, Loss_R=0.5000, LR=0.0262]\u001b[A\n",
      "Tracking:  10%|█         | 4/40 [00:00<00:02, 17.03epochs/s, Loss=0.4238, Loss_R=0.4238, LR=0.0262]\u001b[A\n",
      "Tracking:  10%|█         | 4/40 [00:00<00:02, 17.03epochs/s, Loss=0.3706, Loss_R=0.3706, LR=0.0262]\u001b[A\n",
      "Tracking:  18%|█▊        | 7/40 [00:00<00:01, 21.99epochs/s, Loss=0.3706, Loss_R=0.3706, LR=0.0262]\u001b[A\n",
      "Tracking:  18%|█▊        | 7/40 [00:00<00:01, 21.99epochs/s, Loss=0.3462, Loss_R=0.3462, LR=0.0262]\u001b[A\n",
      "Tracking:  18%|█▊        | 7/40 [00:00<00:01, 21.99epochs/s, Loss=0.3374, Loss_R=0.3374, LR=0.0262]\u001b[A\n",
      "Tracking:  18%|█▊        | 7/40 [00:00<00:01, 21.99epochs/s, Loss=0.3433, Loss_R=0.3433, LR=0.0131]\u001b[A\n",
      "Tracking:  18%|█▊        | 7/40 [00:00<00:01, 21.99epochs/s, Loss=0.3398, Loss_R=0.3398, LR=0.0131]\u001b[A\n",
      "Tracking:  28%|██▊       | 11/40 [00:00<00:01, 28.56epochs/s, Loss=0.3398, Loss_R=0.3398, LR=0.0131]\u001b[A\n",
      "Tracking:  28%|██▊       | 11/40 [00:00<00:01, 28.56epochs/s, Loss=0.3379, Loss_R=0.3379, LR=0.0131]\u001b[A\n",
      "Tracking:  28%|██▊       | 11/40 [00:00<00:01, 28.56epochs/s, Loss=0.3340, Loss_R=0.3340, LR=0.0131]\u001b[A\n",
      "Tracking:  28%|██▊       | 11/40 [00:00<00:01, 28.56epochs/s, Loss=0.3301, Loss_R=0.3301, LR=0.0131]\u001b[A\n",
      "Tracking:  28%|██▊       | 11/40 [00:00<00:01, 28.56epochs/s, Loss=0.3999, Loss_R=0.3999, LR=0.0131]\u001b[A\n",
      "Tracking:  28%|██▊       | 11/40 [00:00<00:01, 28.56epochs/s, Loss=0.3770, Loss_R=0.3770, LR=0.0131]\u001b[A\n",
      "Tracking:  28%|██▊       | 11/40 [00:00<00:01, 28.56epochs/s, Loss=0.3682, Loss_R=0.3682, LR=0.0131]\u001b[A\n",
      "Tracking:  28%|██▊       | 11/40 [00:00<00:01, 28.56epochs/s, Loss=0.3618, Loss_R=0.3618, LR=0.0131]\u001b[A\n",
      "Tracking:  28%|██▊       | 11/40 [00:00<00:01, 28.56epochs/s, Loss=0.3511, Loss_R=0.3511, LR=0.0131]\u001b[A\n",
      "Tracking:  48%|████▊     | 19/40 [00:00<00:00, 45.43epochs/s, Loss=0.3511, Loss_R=0.3511, LR=0.0131]\u001b[A\n",
      "Tracking:  48%|████▊     | 19/40 [00:00<00:00, 45.43epochs/s, Loss=0.3110, Loss_R=0.3110, LR=0.0066]\u001b[A\n",
      "Tracking:  48%|████▊     | 19/40 [00:00<00:00, 45.43epochs/s, Loss=0.2817, Loss_R=0.2817, LR=0.0066]\u001b[A\n",
      "Tracking:  48%|████▊     | 19/40 [00:00<00:00, 45.43epochs/s, Loss=0.2720, Loss_R=0.2720, LR=0.0066]\u001b[A\n",
      "Tracking:  48%|████▊     | 19/40 [00:00<00:00, 45.43epochs/s, Loss=0.2485, Loss_R=0.2485, LR=0.0066]\u001b[A\n",
      "Tracking:  48%|████▊     | 19/40 [00:00<00:00, 45.43epochs/s, Loss=0.2261, Loss_R=0.2261, LR=0.0066]\u001b[A\n",
      "Tracking:  48%|████▊     | 19/40 [00:00<00:00, 45.43epochs/s, Loss=0.2124, Loss_R=0.2124, LR=0.0066]\u001b[A\n",
      "Tracking:  48%|████▊     | 19/40 [00:00<00:00, 45.43epochs/s, Loss=0.2031, Loss_R=0.2031, LR=0.0066]\u001b[A\n",
      "Tracking:  48%|████▊     | 19/40 [00:00<00:00, 45.43epochs/s, Loss=0.1978, Loss_R=0.1978, LR=0.0066]\u001b[A\n",
      "Tracking:  48%|████▊     | 19/40 [00:00<00:00, 45.43epochs/s, Loss=0.1929, Loss_R=0.1929, LR=0.0066]\u001b[A\n",
      "Tracking:  70%|███████   | 28/40 [00:00<00:00, 58.51epochs/s, Loss=0.1929, Loss_R=0.1929, LR=0.0066]\u001b[A\n",
      "Tracking:  70%|███████   | 28/40 [00:00<00:00, 58.51epochs/s, Loss=0.1826, Loss_R=0.1826, LR=0.0066]\u001b[A\n",
      "Tracking:  70%|███████   | 28/40 [00:00<00:00, 58.51epochs/s, Loss=0.1729, Loss_R=0.1729, LR=0.0033]\u001b[A\n",
      "Tracking:  70%|███████   | 28/40 [00:00<00:00, 58.51epochs/s, Loss=0.1665, Loss_R=0.1665, LR=0.0033]\u001b[A\n",
      "Tracking:  70%|███████   | 28/40 [00:00<00:00, 58.51epochs/s, Loss=0.1650, Loss_R=0.1650, LR=0.0033]\u001b[A\n",
      "Tracking:  70%|███████   | 28/40 [00:00<00:00, 58.51epochs/s, Loss=0.1641, Loss_R=0.1641, LR=0.0033]\u001b[A\n",
      "Tracking:  70%|███████   | 28/40 [00:00<00:00, 58.51epochs/s, Loss=0.1636, Loss_R=0.1636, LR=0.0033]\u001b[A\n",
      "Tracking:  70%|███████   | 28/40 [00:00<00:00, 58.51epochs/s, Loss=0.1621, Loss_R=0.1621, LR=0.0033]\u001b[A\n",
      "Tracking:  70%|███████   | 28/40 [00:00<00:00, 58.51epochs/s, Loss=0.1616, Loss_R=0.1616, LR=0.0033]\u001b[A\n",
      "Tracking:  70%|███████   | 28/40 [00:00<00:00, 58.51epochs/s, Loss=0.1611, Loss_R=0.1611, LR=0.0033]\u001b[A\n",
      "Tracking:  92%|█████████▎| 37/40 [00:00<00:00, 68.20epochs/s, Loss=0.1611, Loss_R=0.1611, LR=0.0033]\u001b[A\n",
      "Tracking:  92%|█████████▎| 37/40 [00:00<00:00, 68.20epochs/s, Loss=0.1606, Loss_R=0.1606, LR=0.0033]\u001b[A\n",
      "Tracking:  92%|█████████▎| 37/40 [00:00<00:00, 68.20epochs/s, Loss=0.1606, Loss_R=0.1606, LR=0.0033]\u001b[A\n",
      "Tracking: 100%|██████████| 40/40 [00:00<00:00, 50.76epochs/s, Loss=0.1606, Loss_R=0.1606, LR=0.0016]\u001b[A\n",
      "Analyzing movie: 100%|██████████| 1/1 [00:01<00:00,  1.44s/frames]\n"
     ]
    },
    {
     "name": "stdout",
     "output_type": "stream",
     "text": [
      "!!time 445 [-0.02420453  0.02199315  0.01963556]\n",
      "\n",
      "Compiling and saving results to file...\n",
      "originalally found matches: 0 after filtered the merged neurons, found matches:  0\n",
      "the updated annotation at time t1 5.8591614\n",
      "the updated annotation at time t2 0.0\n",
      "before loading 0.0\n",
      "Using frame #443 as initial reference with 178 annotations found...\n",
      "t_annot: [442 443 444 445 446 488 489]\n",
      "\n",
      "Annotations loaded for frames [443, 444] with shape: (2, 178, 3)\n",
      "Checkpoint updated for ['container'] @ [2024-03-28 00:12:38.647297]\n",
      "Checkpoint updated for ['results'] @ [2024-03-28 00:12:38.703334]\n",
      "after loading 0.0\n"
     ]
    },
    {
     "name": "stderr",
     "output_type": "stream",
     "text": [
      "Analyzing movie:   0%|          | 0/1 [00:00<?, ?frames/s]"
     ]
    },
    {
     "name": "stdout",
     "output_type": "stream",
     "text": [
      "\n",
      "Frame #446\t\tParent #445\t\tReference #443\t\tDistance to parent: d=0.0157\n"
     ]
    },
    {
     "name": "stderr",
     "output_type": "stream",
     "text": [
      "\n",
      "Tracking:   0%|          | 0/40 [00:00<?, ?epochs/s]\u001b[A\n",
      "Tracking:   0%|          | 0/40 [00:00<?, ?epochs/s, Loss=0.3965, Loss_R=0.3965, LR=0.0315]\u001b[A\n",
      "Tracking:   0%|          | 0/40 [00:00<?, ?epochs/s, Loss=0.3652, Loss_R=0.3652, LR=0.0315]\u001b[A\n",
      "Tracking:   5%|▌         | 2/40 [00:00<00:02, 17.54epochs/s, Loss=0.3652, Loss_R=0.3652, LR=0.0315]\u001b[A\n",
      "Tracking:   5%|▌         | 2/40 [00:00<00:02, 17.54epochs/s, Loss=0.3467, Loss_R=0.3467, LR=0.0315]\u001b[A\n",
      "Tracking:   5%|▌         | 2/40 [00:00<00:02, 17.54epochs/s, Loss=0.3389, Loss_R=0.3389, LR=0.0315]\u001b[A\n",
      "Tracking:  10%|█         | 4/40 [00:00<00:02, 17.02epochs/s, Loss=0.3389, Loss_R=0.3389, LR=0.0315]\u001b[A\n",
      "Tracking:  10%|█         | 4/40 [00:00<00:02, 17.02epochs/s, Loss=0.2915, Loss_R=0.2915, LR=0.0315]\u001b[A\n",
      "Tracking:  10%|█         | 4/40 [00:00<00:02, 17.02epochs/s, Loss=0.2808, Loss_R=0.2808, LR=0.0315]\u001b[A\n",
      "Tracking:  10%|█         | 4/40 [00:00<00:02, 17.02epochs/s, Loss=0.2754, Loss_R=0.2754, LR=0.0315]\u001b[A\n",
      "Tracking:  18%|█▊        | 7/40 [00:00<00:01, 22.05epochs/s, Loss=0.2754, Loss_R=0.2754, LR=0.0315]\u001b[A\n",
      "Tracking:  18%|█▊        | 7/40 [00:00<00:01, 22.05epochs/s, Loss=0.2705, Loss_R=0.2705, LR=0.0315]\u001b[A\n",
      "Tracking:  18%|█▊        | 7/40 [00:00<00:01, 22.05epochs/s, Loss=0.2666, Loss_R=0.2666, LR=0.0315]\u001b[A\n",
      "Tracking:  18%|█▊        | 7/40 [00:00<00:01, 22.05epochs/s, Loss=0.2261, Loss_R=0.2261, LR=0.0157]\u001b[A\n",
      "Tracking:  18%|█▊        | 7/40 [00:00<00:01, 22.05epochs/s, Loss=0.2227, Loss_R=0.2227, LR=0.0157]\u001b[A\n",
      "Tracking:  18%|█▊        | 7/40 [00:00<00:01, 22.05epochs/s, Loss=0.2227, Loss_R=0.2227, LR=0.0157]\u001b[A\n",
      "Tracking:  30%|███       | 12/40 [00:00<00:00, 30.98epochs/s, Loss=0.2227, Loss_R=0.2227, LR=0.0157]\u001b[A\n",
      "Tracking:  30%|███       | 12/40 [00:00<00:00, 30.98epochs/s, Loss=0.2217, Loss_R=0.2217, LR=0.0157]\u001b[A\n",
      "Tracking:  30%|███       | 12/40 [00:00<00:00, 30.98epochs/s, Loss=0.2217, Loss_R=0.2217, LR=0.0157]\u001b[A\n",
      "Tracking:  30%|███       | 12/40 [00:00<00:00, 30.98epochs/s, Loss=0.1284, Loss_R=0.1284, LR=0.0157]\u001b[A\n",
      "Tracking:  30%|███       | 12/40 [00:00<00:00, 30.98epochs/s, Loss=0.1265, Loss_R=0.1265, LR=0.0157]\u001b[A\n",
      "Tracking:  30%|███       | 12/40 [00:00<00:00, 30.98epochs/s, Loss=0.1250, Loss_R=0.1250, LR=0.0157]\u001b[A\n",
      "Tracking:  30%|███       | 12/40 [00:00<00:00, 30.98epochs/s, Loss=0.1240, Loss_R=0.1240, LR=0.0157]\u001b[A\n",
      "Tracking:  30%|███       | 12/40 [00:00<00:00, 30.98epochs/s, Loss=0.1250, Loss_R=0.1250, LR=0.0157]\u001b[A\n",
      "Tracking:  30%|███       | 12/40 [00:00<00:00, 30.98epochs/s, Loss=0.1240, Loss_R=0.1240, LR=0.0079]\u001b[A\n",
      "Tracking:  30%|███       | 12/40 [00:00<00:00, 30.98epochs/s, Loss=0.1240, Loss_R=0.1240, LR=0.0079]\u001b[A\n",
      "Tracking:  52%|█████▎    | 21/40 [00:00<00:00, 49.27epochs/s, Loss=0.1240, Loss_R=0.1240, LR=0.0079]\u001b[A\n",
      "Tracking:  52%|█████▎    | 21/40 [00:00<00:00, 49.27epochs/s, Loss=0.1245, Loss_R=0.1245, LR=0.0079]\u001b[A\n",
      "Tracking:  52%|█████▎    | 21/40 [00:00<00:00, 49.27epochs/s, Loss=0.1245, Loss_R=0.1245, LR=0.0079]\u001b[A\n",
      "Tracking:  52%|█████▎    | 21/40 [00:00<00:00, 49.27epochs/s, Loss=0.1245, Loss_R=0.1245, LR=0.0079]\u001b[A\n",
      "Tracking:  52%|█████▎    | 21/40 [00:00<00:00, 49.27epochs/s, Loss=0.1235, Loss_R=0.1235, LR=0.0079]\u001b[A\n",
      "Tracking:  52%|█████▎    | 21/40 [00:00<00:00, 49.27epochs/s, Loss=0.1245, Loss_R=0.1245, LR=0.0079]\u001b[A\n",
      "Tracking:  52%|█████▎    | 21/40 [00:00<00:00, 49.27epochs/s, Loss=0.1235, Loss_R=0.1235, LR=0.0079]\u001b[A\n",
      "Tracking:  52%|█████▎    | 21/40 [00:00<00:00, 49.27epochs/s, Loss=0.1235, Loss_R=0.1235, LR=0.0079]\u001b[A\n",
      "Tracking:  52%|█████▎    | 21/40 [00:00<00:00, 49.27epochs/s, Loss=0.1235, Loss_R=0.1235, LR=0.0079]\u001b[A\n",
      "Tracking:  52%|█████▎    | 21/40 [00:00<00:00, 49.27epochs/s, Loss=0.1226, Loss_R=0.1226, LR=0.0039]\u001b[A\n",
      "Tracking:  75%|███████▌  | 30/40 [00:00<00:00, 61.90epochs/s, Loss=0.1226, Loss_R=0.1226, LR=0.0039]\u001b[A\n",
      "Tracking:  75%|███████▌  | 30/40 [00:00<00:00, 61.90epochs/s, Loss=0.1235, Loss_R=0.1235, LR=0.0039]\u001b[A\n",
      "Tracking:  75%|███████▌  | 30/40 [00:00<00:00, 61.90epochs/s, Loss=0.1226, Loss_R=0.1226, LR=0.0039]\u001b[A\n",
      "Tracking:  75%|███████▌  | 30/40 [00:00<00:00, 61.90epochs/s, Loss=0.1230, Loss_R=0.1230, LR=0.0039]\u001b[A\n",
      "Tracking:  75%|███████▌  | 30/40 [00:00<00:00, 61.90epochs/s, Loss=0.1230, Loss_R=0.1230, LR=0.0039]\u001b[A\n",
      "Tracking:  75%|███████▌  | 30/40 [00:00<00:00, 61.90epochs/s, Loss=0.1230, Loss_R=0.1230, LR=0.0039]\u001b[A\n",
      "Tracking:  75%|███████▌  | 30/40 [00:00<00:00, 61.90epochs/s, Loss=0.1226, Loss_R=0.1226, LR=0.0039]\u001b[A\n",
      "Tracking:  75%|███████▌  | 30/40 [00:00<00:00, 61.90epochs/s, Loss=0.1226, Loss_R=0.1226, LR=0.0039]\u001b[A\n",
      "Tracking:  75%|███████▌  | 30/40 [00:00<00:00, 61.90epochs/s, Loss=0.1226, Loss_R=0.1226, LR=0.0039]\u001b[A\n",
      "Tracking:  75%|███████▌  | 30/40 [00:00<00:00, 61.90epochs/s, Loss=0.1226, Loss_R=0.1226, LR=0.0039]\u001b[A\n",
      "Tracking:  98%|█████████▊| 39/40 [00:00<00:00, 69.34epochs/s, Loss=0.1226, Loss_R=0.1226, LR=0.0039]\u001b[A\n",
      "Tracking: 100%|██████████| 40/40 [00:00<00:00, 51.07epochs/s, Loss=0.1221, Loss_R=0.1221, LR=0.0020]\u001b[A\n",
      "Analyzing movie: 100%|██████████| 1/1 [00:01<00:00,  1.35s/frames]\n"
     ]
    },
    {
     "name": "stdout",
     "output_type": "stream",
     "text": [
      "!!time 446 [-0.01607179  0.03045291  0.00811345]\n",
      "\n",
      "Compiling and saving results to file...\n",
      "originalally found matches: 0 after filtered the merged neurons, found matches:  0\n",
      "the updated annotation at time t1 4.8628054\n",
      "the updated annotation at time t2 0.0\n",
      "before loading 0.0\n",
      "Using frame #443 as initial reference with 178 annotations found...\n",
      "t_annot: [442 443 444 445 446 486 488 489]\n",
      "\n",
      "Annotations loaded for frames [443, 444] with shape: (2, 178, 3)\n",
      "Checkpoint updated for ['container'] @ [2024-03-28 00:12:41.155441]\n",
      "Checkpoint updated for ['results'] @ [2024-03-28 00:12:41.214580]\n",
      "after loading 0.0\n"
     ]
    },
    {
     "name": "stderr",
     "output_type": "stream",
     "text": [
      "Analyzing movie:   0%|          | 0/1 [00:00<?, ?frames/s]"
     ]
    },
    {
     "name": "stdout",
     "output_type": "stream",
     "text": [
      "\n",
      "Frame #486\t\tParent #488\t\tReference #443\t\tDistance to parent: d=0.0197\n"
     ]
    },
    {
     "name": "stderr",
     "output_type": "stream",
     "text": [
      "\n",
      "Tracking:   0%|          | 0/40 [00:00<?, ?epochs/s]\u001b[A\n",
      "Tracking:   0%|          | 0/40 [00:00<?, ?epochs/s, Loss=0.7578, Loss_R=0.7578, LR=0.0394]\u001b[A\n",
      "Tracking:   0%|          | 0/40 [00:00<?, ?epochs/s, Loss=0.6377, Loss_R=0.6377, LR=0.0394]\u001b[A\n",
      "Tracking:   5%|▌         | 2/40 [00:00<00:02, 17.68epochs/s, Loss=0.6377, Loss_R=0.6377, LR=0.0394]\u001b[A\n",
      "Tracking:   5%|▌         | 2/40 [00:00<00:02, 17.68epochs/s, Loss=0.5210, Loss_R=0.5210, LR=0.0394]\u001b[A\n",
      "Tracking:   5%|▌         | 2/40 [00:00<00:02, 17.68epochs/s, Loss=0.4263, Loss_R=0.4263, LR=0.0394]\u001b[A\n",
      "Tracking:  10%|█         | 4/40 [00:00<00:02, 17.36epochs/s, Loss=0.4263, Loss_R=0.4263, LR=0.0394]\u001b[A\n",
      "Tracking:  10%|█         | 4/40 [00:00<00:02, 17.36epochs/s, Loss=0.3545, Loss_R=0.3545, LR=0.0394]\u001b[A\n",
      "Tracking:  10%|█         | 4/40 [00:00<00:02, 17.36epochs/s, Loss=0.3257, Loss_R=0.3257, LR=0.0394]\u001b[A\n",
      "Tracking:  10%|█         | 4/40 [00:00<00:02, 17.36epochs/s, Loss=0.3198, Loss_R=0.3198, LR=0.0394]\u001b[A\n",
      "Tracking:  18%|█▊        | 7/40 [00:00<00:01, 21.67epochs/s, Loss=0.3198, Loss_R=0.3198, LR=0.0394]\u001b[A\n",
      "Tracking:  18%|█▊        | 7/40 [00:00<00:01, 21.67epochs/s, Loss=0.3184, Loss_R=0.3184, LR=0.0394]\u001b[A\n",
      "Tracking:  18%|█▊        | 7/40 [00:00<00:01, 21.67epochs/s, Loss=0.3164, Loss_R=0.3164, LR=0.0394]\u001b[A\n",
      "Tracking:  18%|█▊        | 7/40 [00:00<00:01, 21.67epochs/s, Loss=0.2949, Loss_R=0.2949, LR=0.0197]\u001b[A\n",
      "Tracking:  18%|█▊        | 7/40 [00:00<00:01, 21.67epochs/s, Loss=0.2920, Loss_R=0.2920, LR=0.0197]\u001b[A\n",
      "Tracking:  28%|██▊       | 11/40 [00:00<00:01, 28.26epochs/s, Loss=0.2920, Loss_R=0.2920, LR=0.0197]\u001b[A\n",
      "Tracking:  28%|██▊       | 11/40 [00:00<00:01, 28.26epochs/s, Loss=0.2915, Loss_R=0.2915, LR=0.0197]\u001b[A\n",
      "Tracking:  28%|██▊       | 11/40 [00:00<00:01, 28.26epochs/s, Loss=0.2910, Loss_R=0.2910, LR=0.0197]\u001b[A\n",
      "Tracking:  28%|██▊       | 11/40 [00:00<00:01, 28.26epochs/s, Loss=0.2910, Loss_R=0.2910, LR=0.0197]\u001b[A\n",
      "Tracking:  28%|██▊       | 11/40 [00:00<00:01, 28.26epochs/s, Loss=0.2300, Loss_R=0.2300, LR=0.0197]\u001b[A\n",
      "Tracking:  28%|██▊       | 11/40 [00:00<00:01, 28.26epochs/s, Loss=0.2300, Loss_R=0.2300, LR=0.0197]\u001b[A\n",
      "Tracking:  28%|██▊       | 11/40 [00:00<00:01, 28.26epochs/s, Loss=0.2285, Loss_R=0.2285, LR=0.0197]\u001b[A\n",
      "Tracking:  28%|██▊       | 11/40 [00:00<00:01, 28.26epochs/s, Loss=0.2290, Loss_R=0.2290, LR=0.0197]\u001b[A\n",
      "Tracking:  28%|██▊       | 11/40 [00:00<00:01, 28.26epochs/s, Loss=0.2280, Loss_R=0.2280, LR=0.0197]\u001b[A\n",
      "Tracking:  48%|████▊     | 19/40 [00:00<00:00, 45.46epochs/s, Loss=0.2280, Loss_R=0.2280, LR=0.0197]\u001b[A\n",
      "Tracking:  48%|████▊     | 19/40 [00:00<00:00, 45.46epochs/s, Loss=0.2280, Loss_R=0.2280, LR=0.0099]\u001b[A\n",
      "Tracking:  48%|████▊     | 19/40 [00:00<00:00, 45.46epochs/s, Loss=0.2280, Loss_R=0.2280, LR=0.0099]\u001b[A\n",
      "Tracking:  48%|████▊     | 19/40 [00:00<00:00, 45.46epochs/s, Loss=0.2280, Loss_R=0.2280, LR=0.0099]\u001b[A\n",
      "Tracking:  48%|████▊     | 19/40 [00:00<00:00, 45.46epochs/s, Loss=0.2280, Loss_R=0.2280, LR=0.0099]\u001b[A\n",
      "Tracking:  48%|████▊     | 19/40 [00:00<00:00, 45.46epochs/s, Loss=0.2280, Loss_R=0.2280, LR=0.0099]\u001b[A\n",
      "Tracking:  48%|████▊     | 19/40 [00:00<00:00, 45.46epochs/s, Loss=0.2280, Loss_R=0.2280, LR=0.0099]\u001b[A\n",
      "Tracking:  48%|████▊     | 19/40 [00:00<00:00, 45.46epochs/s, Loss=0.2280, Loss_R=0.2280, LR=0.0099]\u001b[A\n",
      "Tracking:  48%|████▊     | 19/40 [00:00<00:00, 45.46epochs/s, Loss=0.2275, Loss_R=0.2275, LR=0.0099]\u001b[A\n",
      "Tracking:  48%|████▊     | 19/40 [00:00<00:00, 45.46epochs/s, Loss=0.2275, Loss_R=0.2275, LR=0.0099]\u001b[A\n",
      "Tracking:  70%|███████   | 28/40 [00:00<00:00, 59.41epochs/s, Loss=0.2275, Loss_R=0.2275, LR=0.0099]\u001b[A\n",
      "Tracking:  70%|███████   | 28/40 [00:00<00:00, 59.41epochs/s, Loss=0.2275, Loss_R=0.2275, LR=0.0099]\u001b[A\n",
      "Tracking:  70%|███████   | 28/40 [00:00<00:00, 59.41epochs/s, Loss=0.2275, Loss_R=0.2275, LR=0.0049]\u001b[A\n",
      "Tracking:  70%|███████   | 28/40 [00:00<00:00, 59.41epochs/s, Loss=0.2275, Loss_R=0.2275, LR=0.0049]\u001b[A\n",
      "Tracking:  70%|███████   | 28/40 [00:00<00:00, 59.41epochs/s, Loss=0.2275, Loss_R=0.2275, LR=0.0049]\u001b[A\n",
      "Tracking:  70%|███████   | 28/40 [00:00<00:00, 59.41epochs/s, Loss=0.2275, Loss_R=0.2275, LR=0.0049]\u001b[A\n",
      "Tracking:  70%|███████   | 28/40 [00:00<00:00, 59.41epochs/s, Loss=0.2275, Loss_R=0.2275, LR=0.0049]\u001b[A\n",
      "Tracking:  70%|███████   | 28/40 [00:00<00:00, 59.41epochs/s, Loss=0.2275, Loss_R=0.2275, LR=0.0049]\u001b[A\n",
      "Tracking:  70%|███████   | 28/40 [00:00<00:00, 59.41epochs/s, Loss=0.2275, Loss_R=0.2275, LR=0.0049]\u001b[A\n",
      "Tracking:  70%|███████   | 28/40 [00:00<00:00, 59.41epochs/s, Loss=0.2275, Loss_R=0.2275, LR=0.0049]\u001b[A\n",
      "Tracking:  92%|█████████▎| 37/40 [00:00<00:00, 68.27epochs/s, Loss=0.2275, Loss_R=0.2275, LR=0.0049]\u001b[A\n",
      "Tracking:  92%|█████████▎| 37/40 [00:00<00:00, 68.27epochs/s, Loss=0.2275, Loss_R=0.2275, LR=0.0049]\u001b[A\n",
      "Tracking:  92%|█████████▎| 37/40 [00:00<00:00, 68.27epochs/s, Loss=0.2271, Loss_R=0.2271, LR=0.0049]\u001b[A\n",
      "Tracking: 100%|██████████| 40/40 [00:00<00:00, 50.69epochs/s, Loss=0.2266, Loss_R=0.2266, LR=0.0025]\u001b[A\n",
      "Analyzing movie: 100%|██████████| 1/1 [00:01<00:00,  1.36s/frames]\n"
     ]
    },
    {
     "name": "stdout",
     "output_type": "stream",
     "text": [
      "!!time 486 [ 0.00618503 -0.03152872 -0.00380622]\n",
      "\n",
      "Compiling and saving results to file...\n",
      "originalally found matches: 0 after filtered the merged neurons, found matches:  0\n",
      "the updated annotation at time t1 3.69528\n",
      "the updated annotation at time t2 0.0\n",
      "before loading 0.0\n",
      "Using frame #443 as initial reference with 178 annotations found...\n",
      "t_annot: [441 442 443 444 445 446 486 488 489]\n",
      "\n",
      "Annotations loaded for frames [443, 444] with shape: (2, 178, 3)\n",
      "Checkpoint updated for ['container'] @ [2024-03-28 00:12:43.726377]\n",
      "Checkpoint updated for ['results'] @ [2024-03-28 00:12:43.764094]\n",
      "after loading 0.0\n"
     ]
    },
    {
     "name": "stderr",
     "output_type": "stream",
     "text": [
      "Analyzing movie:   0%|          | 0/1 [00:00<?, ?frames/s]"
     ]
    },
    {
     "name": "stdout",
     "output_type": "stream",
     "text": [
      "\n",
      "Frame #441\t\tParent #442\t\tReference #443\t\tDistance to parent: d=0.0219\n"
     ]
    },
    {
     "name": "stderr",
     "output_type": "stream",
     "text": [
      "\n",
      "Tracking:   0%|          | 0/40 [00:00<?, ?epochs/s]\u001b[A\n",
      "Tracking:   0%|          | 0/40 [00:00<?, ?epochs/s, Loss=0.6211, Loss_R=0.6211, LR=0.0437]\u001b[A\n",
      "Tracking:   0%|          | 0/40 [00:00<?, ?epochs/s, Loss=0.4531, Loss_R=0.4531, LR=0.0437]\u001b[A\n",
      "Tracking:   5%|▌         | 2/40 [00:00<00:02, 16.61epochs/s, Loss=0.4531, Loss_R=0.4531, LR=0.0437]\u001b[A\n",
      "Tracking:   5%|▌         | 2/40 [00:00<00:02, 16.61epochs/s, Loss=0.3711, Loss_R=0.3711, LR=0.0437]\u001b[A\n",
      "Tracking:   5%|▌         | 2/40 [00:00<00:02, 16.61epochs/s, Loss=0.3423, Loss_R=0.3423, LR=0.0437]\u001b[A\n",
      "Tracking:  10%|█         | 4/40 [00:00<00:02, 16.79epochs/s, Loss=0.3423, Loss_R=0.3423, LR=0.0437]\u001b[A\n",
      "Tracking:  10%|█         | 4/40 [00:00<00:02, 16.79epochs/s, Loss=0.2925, Loss_R=0.2925, LR=0.0437]\u001b[A\n",
      "Tracking:  10%|█         | 4/40 [00:00<00:02, 16.79epochs/s, Loss=0.2915, Loss_R=0.2915, LR=0.0437]\u001b[A\n",
      "Tracking:  10%|█         | 4/40 [00:00<00:02, 16.79epochs/s, Loss=0.2910, Loss_R=0.2910, LR=0.0437]\u001b[A\n",
      "Tracking:  18%|█▊        | 7/40 [00:00<00:01, 20.56epochs/s, Loss=0.2910, Loss_R=0.2910, LR=0.0437]\u001b[A\n",
      "Tracking:  18%|█▊        | 7/40 [00:00<00:01, 20.56epochs/s, Loss=0.2896, Loss_R=0.2896, LR=0.0437]\u001b[A\n",
      "Tracking:  18%|█▊        | 7/40 [00:00<00:01, 20.56epochs/s, Loss=0.2896, Loss_R=0.2896, LR=0.0437]\u001b[A\n",
      "Tracking:  18%|█▊        | 7/40 [00:00<00:01, 20.56epochs/s, Loss=0.2500, Loss_R=0.2500, LR=0.0219]\u001b[A\n",
      "Tracking:  18%|█▊        | 7/40 [00:00<00:01, 20.56epochs/s, Loss=0.2510, Loss_R=0.2510, LR=0.0219]\u001b[A\n",
      "Tracking:  28%|██▊       | 11/40 [00:00<00:01, 26.78epochs/s, Loss=0.2510, Loss_R=0.2510, LR=0.0219]\u001b[A\n",
      "Tracking:  28%|██▊       | 11/40 [00:00<00:01, 26.78epochs/s, Loss=0.2505, Loss_R=0.2505, LR=0.0219]\u001b[A\n",
      "Tracking:  28%|██▊       | 11/40 [00:00<00:01, 26.78epochs/s, Loss=0.2505, Loss_R=0.2505, LR=0.0219]\u001b[A\n",
      "Tracking:  28%|██▊       | 11/40 [00:00<00:01, 26.78epochs/s, Loss=0.2505, Loss_R=0.2505, LR=0.0219]\u001b[A\n",
      "Tracking:  28%|██▊       | 11/40 [00:00<00:01, 26.78epochs/s, Loss=0.1597, Loss_R=0.1597, LR=0.0219]\u001b[A\n",
      "Tracking:  28%|██▊       | 11/40 [00:00<00:01, 26.78epochs/s, Loss=0.1597, Loss_R=0.1597, LR=0.0219]\u001b[A\n",
      "Tracking:  28%|██▊       | 11/40 [00:00<00:01, 26.78epochs/s, Loss=0.1592, Loss_R=0.1592, LR=0.0219]\u001b[A\n",
      "Tracking:  28%|██▊       | 11/40 [00:00<00:01, 26.78epochs/s, Loss=0.1597, Loss_R=0.1597, LR=0.0219]\u001b[A\n",
      "Tracking:  28%|██▊       | 11/40 [00:00<00:01, 26.78epochs/s, Loss=0.1592, Loss_R=0.1592, LR=0.0219]\u001b[A\n",
      "Tracking:  48%|████▊     | 19/40 [00:00<00:00, 42.85epochs/s, Loss=0.1592, Loss_R=0.1592, LR=0.0219]\u001b[A\n",
      "Tracking:  48%|████▊     | 19/40 [00:00<00:00, 42.85epochs/s, Loss=0.1597, Loss_R=0.1597, LR=0.0109]\u001b[A\n",
      "Tracking:  48%|████▊     | 19/40 [00:00<00:00, 42.85epochs/s, Loss=0.1592, Loss_R=0.1592, LR=0.0109]\u001b[A\n",
      "Tracking:  48%|████▊     | 19/40 [00:00<00:00, 42.85epochs/s, Loss=0.1592, Loss_R=0.1592, LR=0.0109]\u001b[A\n",
      "Tracking:  48%|████▊     | 19/40 [00:00<00:00, 42.85epochs/s, Loss=0.1587, Loss_R=0.1587, LR=0.0109]\u001b[A\n",
      "Tracking:  48%|████▊     | 19/40 [00:00<00:00, 42.85epochs/s, Loss=0.1587, Loss_R=0.1587, LR=0.0109]\u001b[A\n",
      "Tracking:  48%|████▊     | 19/40 [00:00<00:00, 42.85epochs/s, Loss=0.1592, Loss_R=0.1592, LR=0.0109]\u001b[A\n",
      "Tracking:  48%|████▊     | 19/40 [00:00<00:00, 42.85epochs/s, Loss=0.1587, Loss_R=0.1587, LR=0.0109]\u001b[A\n",
      "Tracking:  48%|████▊     | 19/40 [00:00<00:00, 42.85epochs/s, Loss=0.1587, Loss_R=0.1587, LR=0.0109]\u001b[A\n",
      "Tracking:  48%|████▊     | 19/40 [00:00<00:00, 42.85epochs/s, Loss=0.1587, Loss_R=0.1587, LR=0.0109]\u001b[A\n",
      "Tracking:  70%|███████   | 28/40 [00:00<00:00, 57.38epochs/s, Loss=0.1587, Loss_R=0.1587, LR=0.0109]\u001b[A\n",
      "Tracking:  70%|███████   | 28/40 [00:00<00:00, 57.38epochs/s, Loss=0.1587, Loss_R=0.1587, LR=0.0109]\u001b[A\n",
      "Tracking:  70%|███████   | 28/40 [00:00<00:00, 57.38epochs/s, Loss=0.1587, Loss_R=0.1587, LR=0.0055]\u001b[A\n",
      "Tracking:  70%|███████   | 28/40 [00:00<00:00, 57.38epochs/s, Loss=0.1587, Loss_R=0.1587, LR=0.0055]\u001b[A\n",
      "Tracking:  70%|███████   | 28/40 [00:00<00:00, 57.38epochs/s, Loss=0.1587, Loss_R=0.1587, LR=0.0055]\u001b[A\n",
      "Tracking:  70%|███████   | 28/40 [00:00<00:00, 57.38epochs/s, Loss=0.1587, Loss_R=0.1587, LR=0.0055]\u001b[A\n",
      "Tracking:  70%|███████   | 28/40 [00:00<00:00, 57.38epochs/s, Loss=0.1587, Loss_R=0.1587, LR=0.0055]\u001b[A\n",
      "Tracking:  70%|███████   | 28/40 [00:00<00:00, 57.38epochs/s, Loss=0.1582, Loss_R=0.1582, LR=0.0055]\u001b[A\n",
      "Tracking:  70%|███████   | 28/40 [00:00<00:00, 57.38epochs/s, Loss=0.1582, Loss_R=0.1582, LR=0.0055]\u001b[A\n",
      "Tracking:  70%|███████   | 28/40 [00:00<00:00, 57.38epochs/s, Loss=0.1582, Loss_R=0.1582, LR=0.0055]\u001b[A\n",
      "Tracking:  92%|█████████▎| 37/40 [00:00<00:00, 67.04epochs/s, Loss=0.1582, Loss_R=0.1582, LR=0.0055]\u001b[A\n",
      "Tracking:  92%|█████████▎| 37/40 [00:00<00:00, 67.04epochs/s, Loss=0.1582, Loss_R=0.1582, LR=0.0055]\u001b[A\n",
      "Tracking:  92%|█████████▎| 37/40 [00:00<00:00, 67.04epochs/s, Loss=0.1582, Loss_R=0.1582, LR=0.0055]\u001b[A\n",
      "Tracking: 100%|██████████| 40/40 [00:00<00:00, 49.13epochs/s, Loss=0.1582, Loss_R=0.1582, LR=0.0027]\u001b[A\n",
      "Analyzing movie: 100%|██████████| 1/1 [00:01<00:00,  1.45s/frames]\n"
     ]
    },
    {
     "name": "stdout",
     "output_type": "stream",
     "text": [
      "!!time 441 [-5.46934083e-03  1.26184365e-02  3.13533819e-05]\n",
      "\n",
      "Compiling and saving results to file...\n",
      "originalally found matches: 0 after filtered the merged neurons, found matches:  0\n",
      "the updated annotation at time t1 1.6125996\n",
      "the updated annotation at time t2 0.0\n",
      "before loading 0.0\n",
      "Using frame #443 as initial reference with 178 annotations found...\n",
      "t_annot: [441 442 443 444 445 446 486 488 489 490]\n",
      "\n",
      "Annotations loaded for frames [443, 444] with shape: (2, 178, 3)\n",
      "Checkpoint updated for ['container'] @ [2024-03-28 00:12:46.314825]\n",
      "Checkpoint updated for ['results'] @ [2024-03-28 00:12:46.366316]\n",
      "after loading 0.0\n"
     ]
    },
    {
     "name": "stderr",
     "output_type": "stream",
     "text": [
      "Analyzing movie:   0%|          | 0/1 [00:00<?, ?frames/s]"
     ]
    },
    {
     "name": "stdout",
     "output_type": "stream",
     "text": [
      "\n",
      "Frame #490\t\tParent #489\t\tReference #443\t\tDistance to parent: d=0.0250\n"
     ]
    },
    {
     "name": "stderr",
     "output_type": "stream",
     "text": [
      "\n",
      "Tracking:   0%|          | 0/40 [00:00<?, ?epochs/s]\u001b[A\n",
      "Tracking:   0%|          | 0/40 [00:00<?, ?epochs/s, Loss=0.7383, Loss_R=0.7383, LR=0.0500]\u001b[A\n",
      "Tracking:   0%|          | 0/40 [00:00<?, ?epochs/s, Loss=0.6133, Loss_R=0.6133, LR=0.0500]\u001b[A\n",
      "Tracking:   5%|▌         | 2/40 [00:00<00:02, 17.38epochs/s, Loss=0.6133, Loss_R=0.6133, LR=0.0500]\u001b[A\n",
      "Tracking:   5%|▌         | 2/40 [00:00<00:02, 17.38epochs/s, Loss=0.4619, Loss_R=0.4619, LR=0.0500]\u001b[A\n",
      "Tracking:   5%|▌         | 2/40 [00:00<00:02, 17.38epochs/s, Loss=0.4033, Loss_R=0.4033, LR=0.0500]\u001b[A\n",
      "Tracking:  10%|█         | 4/40 [00:00<00:02, 17.35epochs/s, Loss=0.4033, Loss_R=0.4033, LR=0.0500]\u001b[A\n",
      "Tracking:  10%|█         | 4/40 [00:00<00:02, 17.35epochs/s, Loss=0.3369, Loss_R=0.3369, LR=0.0500]\u001b[A\n",
      "Tracking:  10%|█         | 4/40 [00:00<00:02, 17.35epochs/s, Loss=0.3296, Loss_R=0.3296, LR=0.0500]\u001b[A\n",
      "Tracking:  10%|█         | 4/40 [00:00<00:02, 17.35epochs/s, Loss=0.3301, Loss_R=0.3301, LR=0.0500]\u001b[A\n",
      "Tracking:  18%|█▊        | 7/40 [00:00<00:01, 22.17epochs/s, Loss=0.3301, Loss_R=0.3301, LR=0.0500]\u001b[A\n",
      "Tracking:  18%|█▊        | 7/40 [00:00<00:01, 22.17epochs/s, Loss=0.3291, Loss_R=0.3291, LR=0.0500]\u001b[A\n",
      "Tracking:  18%|█▊        | 7/40 [00:00<00:01, 22.17epochs/s, Loss=0.3281, Loss_R=0.3281, LR=0.0500]\u001b[A\n",
      "Tracking:  18%|█▊        | 7/40 [00:00<00:01, 22.17epochs/s, Loss=0.2832, Loss_R=0.2832, LR=0.0250]\u001b[A\n",
      "Tracking:  18%|█▊        | 7/40 [00:00<00:01, 22.17epochs/s, Loss=0.2803, Loss_R=0.2803, LR=0.0250]\u001b[A\n",
      "Tracking:  28%|██▊       | 11/40 [00:00<00:01, 28.11epochs/s, Loss=0.2803, Loss_R=0.2803, LR=0.0250]\u001b[A\n",
      "Tracking:  28%|██▊       | 11/40 [00:00<00:01, 28.11epochs/s, Loss=0.2764, Loss_R=0.2764, LR=0.0250]\u001b[A\n",
      "Tracking:  28%|██▊       | 11/40 [00:00<00:01, 28.11epochs/s, Loss=0.2769, Loss_R=0.2769, LR=0.0250]\u001b[A\n",
      "Tracking:  28%|██▊       | 11/40 [00:00<00:01, 28.11epochs/s, Loss=0.2759, Loss_R=0.2759, LR=0.0250]\u001b[A\n",
      "Tracking:  28%|██▊       | 11/40 [00:00<00:01, 28.11epochs/s, Loss=0.1538, Loss_R=0.1538, LR=0.0250]\u001b[A\n",
      "Tracking:  28%|██▊       | 11/40 [00:00<00:01, 28.11epochs/s, Loss=0.1489, Loss_R=0.1489, LR=0.0250]\u001b[A\n",
      "Tracking:  28%|██▊       | 11/40 [00:00<00:01, 28.11epochs/s, Loss=0.1484, Loss_R=0.1484, LR=0.0250]\u001b[A\n",
      "Tracking:  28%|██▊       | 11/40 [00:00<00:01, 28.11epochs/s, Loss=0.1484, Loss_R=0.1484, LR=0.0250]\u001b[A\n",
      "Tracking:  28%|██▊       | 11/40 [00:00<00:01, 28.11epochs/s, Loss=0.1484, Loss_R=0.1484, LR=0.0250]\u001b[A\n",
      "Tracking:  48%|████▊     | 19/40 [00:00<00:00, 44.33epochs/s, Loss=0.1484, Loss_R=0.1484, LR=0.0250]\u001b[A\n",
      "Tracking:  48%|████▊     | 19/40 [00:00<00:00, 44.33epochs/s, Loss=0.1484, Loss_R=0.1484, LR=0.0125]\u001b[A\n",
      "Tracking:  48%|████▊     | 19/40 [00:00<00:00, 44.33epochs/s, Loss=0.1494, Loss_R=0.1494, LR=0.0125]\u001b[A\n",
      "Tracking:  48%|████▊     | 19/40 [00:00<00:00, 44.33epochs/s, Loss=0.1479, Loss_R=0.1479, LR=0.0125]\u001b[A\n",
      "Tracking:  48%|████▊     | 19/40 [00:00<00:00, 44.33epochs/s, Loss=0.1479, Loss_R=0.1479, LR=0.0125]\u001b[A\n",
      "Tracking:  48%|████▊     | 19/40 [00:00<00:00, 44.33epochs/s, Loss=0.1479, Loss_R=0.1479, LR=0.0125]\u001b[A\n",
      "Tracking:  48%|████▊     | 19/40 [00:00<00:00, 44.33epochs/s, Loss=0.1479, Loss_R=0.1479, LR=0.0125]\u001b[A\n",
      "Tracking:  48%|████▊     | 19/40 [00:00<00:00, 44.33epochs/s, Loss=0.1479, Loss_R=0.1479, LR=0.0125]\u001b[A\n",
      "Tracking:  48%|████▊     | 19/40 [00:00<00:00, 44.33epochs/s, Loss=0.1479, Loss_R=0.1479, LR=0.0125]\u001b[A\n",
      "Tracking:  48%|████▊     | 19/40 [00:00<00:00, 44.33epochs/s, Loss=0.1479, Loss_R=0.1479, LR=0.0125]\u001b[A\n",
      "Tracking:  70%|███████   | 28/40 [00:00<00:00, 58.61epochs/s, Loss=0.1479, Loss_R=0.1479, LR=0.0125]\u001b[A\n",
      "Tracking:  70%|███████   | 28/40 [00:00<00:00, 58.61epochs/s, Loss=0.1479, Loss_R=0.1479, LR=0.0125]\u001b[A\n",
      "Tracking:  70%|███████   | 28/40 [00:00<00:00, 58.61epochs/s, Loss=0.1479, Loss_R=0.1479, LR=0.0063]\u001b[A\n",
      "Tracking:  70%|███████   | 28/40 [00:00<00:00, 58.61epochs/s, Loss=0.1479, Loss_R=0.1479, LR=0.0063]\u001b[A\n",
      "Tracking:  70%|███████   | 28/40 [00:00<00:00, 58.61epochs/s, Loss=0.1479, Loss_R=0.1479, LR=0.0063]\u001b[A\n",
      "Tracking:  70%|███████   | 28/40 [00:00<00:00, 58.61epochs/s, Loss=0.1479, Loss_R=0.1479, LR=0.0063]\u001b[A\n",
      "Tracking:  70%|███████   | 28/40 [00:00<00:00, 58.61epochs/s, Loss=0.1479, Loss_R=0.1479, LR=0.0063]\u001b[A\n",
      "Tracking:  70%|███████   | 28/40 [00:00<00:00, 58.61epochs/s, Loss=0.1475, Loss_R=0.1475, LR=0.0063]\u001b[A\n",
      "Tracking:  70%|███████   | 28/40 [00:00<00:00, 58.61epochs/s, Loss=0.1475, Loss_R=0.1475, LR=0.0063]\u001b[A\n",
      "Tracking:  70%|███████   | 28/40 [00:00<00:00, 58.61epochs/s, Loss=0.1475, Loss_R=0.1475, LR=0.0063]\u001b[A\n",
      "Tracking:  92%|█████████▎| 37/40 [00:00<00:00, 67.27epochs/s, Loss=0.1475, Loss_R=0.1475, LR=0.0063]\u001b[A\n",
      "Tracking:  92%|█████████▎| 37/40 [00:00<00:00, 67.27epochs/s, Loss=0.1475, Loss_R=0.1475, LR=0.0063]\u001b[A\n",
      "Tracking:  92%|█████████▎| 37/40 [00:00<00:00, 67.27epochs/s, Loss=0.1475, Loss_R=0.1475, LR=0.0063]\u001b[A\n",
      "Tracking: 100%|██████████| 40/40 [00:00<00:00, 50.33epochs/s, Loss=0.1479, Loss_R=0.1479, LR=0.0031]\u001b[A\n",
      "Analyzing movie: 100%|██████████| 1/1 [00:01<00:00,  1.42s/frames]\n"
     ]
    },
    {
     "name": "stdout",
     "output_type": "stream",
     "text": [
      "!!time 490 [ 0.02090328 -0.03012358 -0.00012179]\n",
      "\n",
      "Compiling and saving results to file...\n",
      "originalally found matches: 0 after filtered the merged neurons, found matches:  0\n",
      "the updated annotation at time t1 4.552225\n",
      "the updated annotation at time t2 0.0\n",
      "before loading 0.0\n",
      "Using frame #443 as initial reference with 178 annotations found...\n",
      "t_annot: [441 442 443 444 445 446 486 488 489 490 491]\n",
      "\n",
      "Annotations loaded for frames [443, 444] with shape: (2, 178, 3)\n",
      "Checkpoint updated for ['container'] @ [2024-03-28 00:12:48.889654]\n",
      "Checkpoint updated for ['results'] @ [2024-03-28 00:12:48.929257]\n",
      "after loading 0.0\n"
     ]
    },
    {
     "name": "stderr",
     "output_type": "stream",
     "text": [
      "Analyzing movie:   0%|          | 0/1 [00:00<?, ?frames/s]"
     ]
    },
    {
     "name": "stdout",
     "output_type": "stream",
     "text": [
      "\n",
      "Frame #491\t\tParent #490\t\tReference #443\t\tDistance to parent: d=0.0129\n"
     ]
    },
    {
     "name": "stderr",
     "output_type": "stream",
     "text": [
      "\n",
      "Tracking:   0%|          | 0/40 [00:00<?, ?epochs/s]\u001b[A\n",
      "Tracking:   0%|          | 0/40 [00:00<?, ?epochs/s, Loss=0.6680, Loss_R=0.6680, LR=0.0258]\u001b[A\n",
      "Tracking:   0%|          | 0/40 [00:00<?, ?epochs/s, Loss=0.5840, Loss_R=0.5840, LR=0.0258]\u001b[A\n",
      "Tracking:   5%|▌         | 2/40 [00:00<00:02, 17.61epochs/s, Loss=0.5840, Loss_R=0.5840, LR=0.0258]\u001b[A\n",
      "Tracking:   5%|▌         | 2/40 [00:00<00:02, 17.61epochs/s, Loss=0.5029, Loss_R=0.5029, LR=0.0258]\u001b[A\n",
      "Tracking:   5%|▌         | 2/40 [00:00<00:02, 17.61epochs/s, Loss=0.4443, Loss_R=0.4443, LR=0.0258]\u001b[A\n",
      "Tracking:  10%|█         | 4/40 [00:00<00:02, 17.39epochs/s, Loss=0.4443, Loss_R=0.4443, LR=0.0258]\u001b[A\n",
      "Tracking:  10%|█         | 4/40 [00:00<00:02, 17.39epochs/s, Loss=0.3882, Loss_R=0.3882, LR=0.0258]\u001b[A\n",
      "Tracking:  10%|█         | 4/40 [00:00<00:02, 17.39epochs/s, Loss=0.3530, Loss_R=0.3530, LR=0.0258]\u001b[A\n",
      "Tracking:  10%|█         | 4/40 [00:00<00:02, 17.39epochs/s, Loss=0.3389, Loss_R=0.3389, LR=0.0258]\u001b[A\n",
      "Tracking:  18%|█▊        | 7/40 [00:00<00:01, 21.07epochs/s, Loss=0.3389, Loss_R=0.3389, LR=0.0258]\u001b[A\n",
      "Tracking:  18%|█▊        | 7/40 [00:00<00:01, 21.07epochs/s, Loss=0.3335, Loss_R=0.3335, LR=0.0258]\u001b[A\n",
      "Tracking:  18%|█▊        | 7/40 [00:00<00:01, 21.07epochs/s, Loss=0.3306, Loss_R=0.3306, LR=0.0258]\u001b[A\n",
      "Tracking:  18%|█▊        | 7/40 [00:00<00:01, 21.07epochs/s, Loss=0.3115, Loss_R=0.3115, LR=0.0129]\u001b[A\n",
      "Tracking:  18%|█▊        | 7/40 [00:00<00:01, 21.07epochs/s, Loss=0.3086, Loss_R=0.3086, LR=0.0129]\u001b[A\n",
      "Tracking:  28%|██▊       | 11/40 [00:00<00:01, 27.15epochs/s, Loss=0.3086, Loss_R=0.3086, LR=0.0129]\u001b[A\n",
      "Tracking:  28%|██▊       | 11/40 [00:00<00:01, 27.15epochs/s, Loss=0.3071, Loss_R=0.3071, LR=0.0129]\u001b[A\n",
      "Tracking:  28%|██▊       | 11/40 [00:00<00:01, 27.15epochs/s, Loss=0.3052, Loss_R=0.3052, LR=0.0129]\u001b[A\n",
      "Tracking:  28%|██▊       | 11/40 [00:00<00:01, 27.15epochs/s, Loss=0.3037, Loss_R=0.3037, LR=0.0129]\u001b[A\n",
      "Tracking:  28%|██▊       | 11/40 [00:00<00:01, 27.15epochs/s, Loss=0.2544, Loss_R=0.2544, LR=0.0129]\u001b[A\n",
      "Tracking:  28%|██▊       | 11/40 [00:00<00:01, 27.15epochs/s, Loss=0.2334, Loss_R=0.2334, LR=0.0129]\u001b[A\n",
      "Tracking:  28%|██▊       | 11/40 [00:00<00:01, 27.15epochs/s, Loss=0.2236, Loss_R=0.2236, LR=0.0129]\u001b[A\n",
      "Tracking:  28%|██▊       | 11/40 [00:00<00:01, 27.15epochs/s, Loss=0.2183, Loss_R=0.2183, LR=0.0129]\u001b[A\n",
      "Tracking:  28%|██▊       | 11/40 [00:00<00:01, 27.15epochs/s, Loss=0.2109, Loss_R=0.2109, LR=0.0129]\u001b[A\n",
      "Tracking:  48%|████▊     | 19/40 [00:00<00:00, 43.26epochs/s, Loss=0.2109, Loss_R=0.2109, LR=0.0129]\u001b[A\n",
      "Tracking:  48%|████▊     | 19/40 [00:00<00:00, 43.26epochs/s, Loss=0.2021, Loss_R=0.2021, LR=0.0065]\u001b[A\n",
      "Tracking:  48%|████▊     | 19/40 [00:00<00:00, 43.26epochs/s, Loss=0.1963, Loss_R=0.1963, LR=0.0065]\u001b[A\n",
      "Tracking:  48%|████▊     | 19/40 [00:00<00:00, 43.26epochs/s, Loss=0.1948, Loss_R=0.1948, LR=0.0065]\u001b[A\n",
      "Tracking:  48%|████▊     | 19/40 [00:00<00:00, 43.26epochs/s, Loss=0.1934, Loss_R=0.1934, LR=0.0065]\u001b[A\n",
      "Tracking:  48%|████▊     | 19/40 [00:00<00:00, 43.26epochs/s, Loss=0.1924, Loss_R=0.1924, LR=0.0065]\u001b[A\n",
      "Tracking:  48%|████▊     | 19/40 [00:00<00:00, 43.26epochs/s, Loss=0.1919, Loss_R=0.1919, LR=0.0065]\u001b[A\n",
      "Tracking:  48%|████▊     | 19/40 [00:00<00:00, 43.26epochs/s, Loss=0.1914, Loss_R=0.1914, LR=0.0065]\u001b[A\n",
      "Tracking:  48%|████▊     | 19/40 [00:00<00:00, 43.26epochs/s, Loss=0.1909, Loss_R=0.1909, LR=0.0065]\u001b[A\n",
      "Tracking:  48%|████▊     | 19/40 [00:00<00:00, 43.26epochs/s, Loss=0.1904, Loss_R=0.1904, LR=0.0065]\u001b[A\n",
      "Tracking:  70%|███████   | 28/40 [00:00<00:00, 57.37epochs/s, Loss=0.1904, Loss_R=0.1904, LR=0.0065]\u001b[A\n",
      "Tracking:  70%|███████   | 28/40 [00:00<00:00, 57.37epochs/s, Loss=0.1899, Loss_R=0.1899, LR=0.0065]\u001b[A\n",
      "Tracking:  70%|███████   | 28/40 [00:00<00:00, 57.37epochs/s, Loss=0.1899, Loss_R=0.1899, LR=0.0032]\u001b[A\n",
      "Tracking:  70%|███████   | 28/40 [00:00<00:00, 57.37epochs/s, Loss=0.1895, Loss_R=0.1895, LR=0.0032]\u001b[A\n",
      "Tracking:  70%|███████   | 28/40 [00:00<00:00, 57.37epochs/s, Loss=0.1899, Loss_R=0.1899, LR=0.0032]\u001b[A\n",
      "Tracking:  70%|███████   | 28/40 [00:00<00:00, 57.37epochs/s, Loss=0.1899, Loss_R=0.1899, LR=0.0032]\u001b[A\n",
      "Tracking:  70%|███████   | 28/40 [00:00<00:00, 57.37epochs/s, Loss=0.1890, Loss_R=0.1890, LR=0.0032]\u001b[A\n",
      "Tracking:  70%|███████   | 28/40 [00:00<00:00, 57.37epochs/s, Loss=0.1895, Loss_R=0.1895, LR=0.0032]\u001b[A\n",
      "Tracking:  70%|███████   | 28/40 [00:00<00:00, 57.37epochs/s, Loss=0.1895, Loss_R=0.1895, LR=0.0032]\u001b[A\n",
      "Tracking:  70%|███████   | 28/40 [00:00<00:00, 57.37epochs/s, Loss=0.1890, Loss_R=0.1890, LR=0.0032]\u001b[A\n",
      "Tracking:  92%|█████████▎| 37/40 [00:00<00:00, 66.73epochs/s, Loss=0.1890, Loss_R=0.1890, LR=0.0032]\u001b[A\n",
      "Tracking:  92%|█████████▎| 37/40 [00:00<00:00, 66.73epochs/s, Loss=0.1890, Loss_R=0.1890, LR=0.0032]\u001b[A\n",
      "Tracking:  92%|█████████▎| 37/40 [00:00<00:00, 66.73epochs/s, Loss=0.1890, Loss_R=0.1890, LR=0.0032]\u001b[A\n",
      "Tracking: 100%|██████████| 40/40 [00:00<00:00, 49.54epochs/s, Loss=0.1885, Loss_R=0.1885, LR=0.0016]\u001b[A\n",
      "Analyzing movie: 100%|██████████| 1/1 [00:01<00:00,  1.45s/frames]\n"
     ]
    },
    {
     "name": "stdout",
     "output_type": "stream",
     "text": [
      "!!time 491 [ 0.00640976 -0.01225157  0.00385785]\n",
      "\n",
      "Compiling and saving results to file...\n",
      "originalally found matches: 0 after filtered the merged neurons, found matches:  0\n",
      "the updated annotation at time t1 2.0042062\n",
      "the updated annotation at time t2 0.0\n",
      "before loading 0.0\n",
      "Using frame #443 as initial reference with 178 annotations found...\n",
      "t_annot: [441 442 443 444 445 446 486 488 489 490 491 492]\n",
      "\n",
      "Annotations loaded for frames [443, 444] with shape: (2, 178, 3)\n",
      "Checkpoint updated for ['container'] @ [2024-03-28 00:12:51.481857]\n",
      "Checkpoint updated for ['results'] @ [2024-03-28 00:12:51.529251]\n",
      "after loading 0.0\n"
     ]
    },
    {
     "name": "stderr",
     "output_type": "stream",
     "text": [
      "Analyzing movie:   0%|          | 0/1 [00:00<?, ?frames/s]"
     ]
    },
    {
     "name": "stdout",
     "output_type": "stream",
     "text": [
      "\n",
      "Frame #492\t\tParent #491\t\tReference #443\t\tDistance to parent: d=0.0136\n"
     ]
    },
    {
     "name": "stderr",
     "output_type": "stream",
     "text": [
      "\n",
      "Tracking:   0%|          | 0/40 [00:00<?, ?epochs/s]\u001b[A\n",
      "Tracking:   0%|          | 0/40 [00:00<?, ?epochs/s, Loss=0.5581, Loss_R=0.5581, LR=0.0272]\u001b[A\n",
      "Tracking:   0%|          | 0/40 [00:00<?, ?epochs/s, Loss=0.4893, Loss_R=0.4893, LR=0.0272]\u001b[A\n",
      "Tracking:   5%|▌         | 2/40 [00:00<00:02, 17.64epochs/s, Loss=0.4893, Loss_R=0.4893, LR=0.0272]\u001b[A\n",
      "Tracking:   5%|▌         | 2/40 [00:00<00:02, 17.64epochs/s, Loss=0.4424, Loss_R=0.4424, LR=0.0272]\u001b[A\n",
      "Tracking:   5%|▌         | 2/40 [00:00<00:02, 17.64epochs/s, Loss=0.4146, Loss_R=0.4146, LR=0.0272]\u001b[A\n",
      "Tracking:  10%|█         | 4/40 [00:00<00:02, 17.33epochs/s, Loss=0.4146, Loss_R=0.4146, LR=0.0272]\u001b[A\n",
      "Tracking:  10%|█         | 4/40 [00:00<00:02, 17.33epochs/s, Loss=0.3730, Loss_R=0.3730, LR=0.0272]\u001b[A\n",
      "Tracking:  10%|█         | 4/40 [00:00<00:02, 17.33epochs/s, Loss=0.3589, Loss_R=0.3589, LR=0.0272]\u001b[A\n",
      "Tracking:  10%|█         | 4/40 [00:00<00:02, 17.33epochs/s, Loss=0.3486, Loss_R=0.3486, LR=0.0272]\u001b[A\n",
      "Tracking:  18%|█▊        | 7/40 [00:00<00:01, 22.44epochs/s, Loss=0.3486, Loss_R=0.3486, LR=0.0272]\u001b[A\n",
      "Tracking:  18%|█▊        | 7/40 [00:00<00:01, 22.44epochs/s, Loss=0.3433, Loss_R=0.3433, LR=0.0272]\u001b[A\n",
      "Tracking:  18%|█▊        | 7/40 [00:00<00:01, 22.44epochs/s, Loss=0.3398, Loss_R=0.3398, LR=0.0272]\u001b[A\n",
      "Tracking:  18%|█▊        | 7/40 [00:00<00:01, 22.44epochs/s, Loss=0.3135, Loss_R=0.3135, LR=0.0136]\u001b[A\n",
      "Tracking:  18%|█▊        | 7/40 [00:00<00:01, 22.44epochs/s, Loss=0.3057, Loss_R=0.3057, LR=0.0136]\u001b[A\n",
      "Tracking:  18%|█▊        | 7/40 [00:00<00:01, 22.44epochs/s, Loss=0.2974, Loss_R=0.2974, LR=0.0136]\u001b[A\n",
      "Tracking:  30%|███       | 12/40 [00:00<00:00, 31.37epochs/s, Loss=0.2974, Loss_R=0.2974, LR=0.0136]\u001b[A\n",
      "Tracking:  30%|███       | 12/40 [00:00<00:00, 31.37epochs/s, Loss=0.2930, Loss_R=0.2930, LR=0.0136]\u001b[A\n",
      "Tracking:  30%|███       | 12/40 [00:00<00:00, 31.37epochs/s, Loss=0.2886, Loss_R=0.2886, LR=0.0136]\u001b[A\n",
      "Tracking:  30%|███       | 12/40 [00:00<00:00, 31.37epochs/s, Loss=0.2109, Loss_R=0.2109, LR=0.0136]\u001b[A\n",
      "Tracking:  30%|███       | 12/40 [00:00<00:00, 31.37epochs/s, Loss=0.1909, Loss_R=0.1909, LR=0.0136]\u001b[A\n",
      "Tracking:  30%|███       | 12/40 [00:00<00:00, 31.37epochs/s, Loss=0.1655, Loss_R=0.1655, LR=0.0136]\u001b[A\n",
      "Tracking:  30%|███       | 12/40 [00:00<00:00, 31.37epochs/s, Loss=0.1602, Loss_R=0.1602, LR=0.0136]\u001b[A\n",
      "Tracking:  30%|███       | 12/40 [00:00<00:00, 31.37epochs/s, Loss=0.1597, Loss_R=0.1597, LR=0.0136]\u001b[A\n",
      "Tracking:  30%|███       | 12/40 [00:00<00:00, 31.37epochs/s, Loss=0.1587, Loss_R=0.1587, LR=0.0068]\u001b[A\n",
      "Tracking:  30%|███       | 12/40 [00:00<00:00, 31.37epochs/s, Loss=0.1587, Loss_R=0.1587, LR=0.0068]\u001b[A\n",
      "Tracking:  52%|█████▎    | 21/40 [00:00<00:00, 49.45epochs/s, Loss=0.1587, Loss_R=0.1587, LR=0.0068]\u001b[A\n",
      "Tracking:  52%|█████▎    | 21/40 [00:00<00:00, 49.45epochs/s, Loss=0.1592, Loss_R=0.1592, LR=0.0068]\u001b[A\n",
      "Tracking:  52%|█████▎    | 21/40 [00:00<00:00, 49.45epochs/s, Loss=0.1587, Loss_R=0.1587, LR=0.0068]\u001b[A\n",
      "Tracking:  52%|█████▎    | 21/40 [00:00<00:00, 49.45epochs/s, Loss=0.1592, Loss_R=0.1592, LR=0.0068]\u001b[A\n",
      "Tracking:  52%|█████▎    | 21/40 [00:00<00:00, 49.45epochs/s, Loss=0.1582, Loss_R=0.1582, LR=0.0068]\u001b[A\n",
      "Tracking:  52%|█████▎    | 21/40 [00:00<00:00, 49.45epochs/s, Loss=0.1582, Loss_R=0.1582, LR=0.0068]\u001b[A\n",
      "Tracking:  52%|█████▎    | 21/40 [00:00<00:00, 49.45epochs/s, Loss=0.1587, Loss_R=0.1587, LR=0.0068]\u001b[A\n",
      "Tracking:  52%|█████▎    | 21/40 [00:00<00:00, 49.45epochs/s, Loss=0.1582, Loss_R=0.1582, LR=0.0068]\u001b[A\n",
      "Tracking:  52%|█████▎    | 21/40 [00:00<00:00, 49.45epochs/s, Loss=0.1587, Loss_R=0.1587, LR=0.0068]\u001b[A\n",
      "Tracking:  52%|█████▎    | 21/40 [00:00<00:00, 49.45epochs/s, Loss=0.1577, Loss_R=0.1577, LR=0.0034]\u001b[A\n",
      "Tracking:  75%|███████▌  | 30/40 [00:00<00:00, 62.35epochs/s, Loss=0.1577, Loss_R=0.1577, LR=0.0034]\u001b[A\n",
      "Tracking:  75%|███████▌  | 30/40 [00:00<00:00, 62.35epochs/s, Loss=0.1587, Loss_R=0.1587, LR=0.0034]\u001b[A\n",
      "Tracking:  75%|███████▌  | 30/40 [00:00<00:00, 62.35epochs/s, Loss=0.1582, Loss_R=0.1582, LR=0.0034]\u001b[A\n",
      "Tracking:  75%|███████▌  | 30/40 [00:00<00:00, 62.35epochs/s, Loss=0.1582, Loss_R=0.1582, LR=0.0034]\u001b[A\n",
      "Tracking:  75%|███████▌  | 30/40 [00:00<00:00, 62.35epochs/s, Loss=0.1587, Loss_R=0.1587, LR=0.0034]\u001b[A\n",
      "Tracking:  75%|███████▌  | 30/40 [00:00<00:00, 62.35epochs/s, Loss=0.1587, Loss_R=0.1587, LR=0.0034]\u001b[A\n",
      "Tracking:  75%|███████▌  | 30/40 [00:00<00:00, 62.35epochs/s, Loss=0.1582, Loss_R=0.1582, LR=0.0034]\u001b[A\n",
      "Tracking:  75%|███████▌  | 30/40 [00:00<00:00, 62.35epochs/s, Loss=0.1582, Loss_R=0.1582, LR=0.0034]\u001b[A\n",
      "Tracking:  75%|███████▌  | 30/40 [00:00<00:00, 62.35epochs/s, Loss=0.1582, Loss_R=0.1582, LR=0.0034]\u001b[A\n",
      "Tracking:  75%|███████▌  | 30/40 [00:00<00:00, 62.35epochs/s, Loss=0.1587, Loss_R=0.1587, LR=0.0034]\u001b[A\n",
      "Tracking:  98%|█████████▊| 39/40 [00:00<00:00, 70.72epochs/s, Loss=0.1587, Loss_R=0.1587, LR=0.0034]\u001b[A\n",
      "Tracking: 100%|██████████| 40/40 [00:00<00:00, 51.95epochs/s, Loss=0.1587, Loss_R=0.1587, LR=0.0017]\u001b[A\n",
      "Analyzing movie: 100%|██████████| 1/1 [00:01<00:00,  1.34s/frames]\n"
     ]
    },
    {
     "name": "stdout",
     "output_type": "stream",
     "text": [
      "!!time 492 [-0.00879465 -0.00090755  0.01553865]\n",
      "\n",
      "Compiling and saving results to file...\n",
      "originalally found matches: 0 after filtered the merged neurons, found matches:  0\n",
      "the updated annotation at time t1 2.24644\n",
      "the updated annotation at time t2 0.0\n",
      "before loading 0.0\n",
      "Using frame #443 as initial reference with 178 annotations found...\n",
      "t_annot: [407 441 442 443 444 445 446 486 488 489 490 491 492]\n",
      "\n",
      "Annotations loaded for frames [443, 444] with shape: (2, 178, 3)\n",
      "Checkpoint updated for ['container'] @ [2024-03-28 00:12:54.010082]\n",
      "Checkpoint updated for ['results'] @ [2024-03-28 00:12:54.047444]\n",
      "after loading 0.0\n"
     ]
    },
    {
     "name": "stderr",
     "output_type": "stream",
     "text": [
      "Analyzing movie:   0%|          | 0/1 [00:00<?, ?frames/s]"
     ]
    },
    {
     "name": "stdout",
     "output_type": "stream",
     "text": [
      "\n",
      "Frame #407\t\tParent #443\t\tReference #443\t\tDistance to parent: d=0.0254\n"
     ]
    },
    {
     "name": "stderr",
     "output_type": "stream",
     "text": [
      "\n",
      "Tracking:   0%|          | 0/40 [00:00<?, ?epochs/s]\u001b[A\n",
      "Tracking:   0%|          | 0/40 [00:00<?, ?epochs/s, Loss=0.3838, Loss_R=0.3838, LR=0.0509]\u001b[A\n",
      "Tracking:   0%|          | 0/40 [00:00<?, ?epochs/s, Loss=0.3696, Loss_R=0.3696, LR=0.0509]\u001b[A\n",
      "Tracking:   5%|▌         | 2/40 [00:00<00:02, 17.59epochs/s, Loss=0.3696, Loss_R=0.3696, LR=0.0509]\u001b[A\n",
      "Tracking:   5%|▌         | 2/40 [00:00<00:02, 17.59epochs/s, Loss=0.3638, Loss_R=0.3638, LR=0.0509]\u001b[A\n",
      "Tracking:   5%|▌         | 2/40 [00:00<00:02, 17.59epochs/s, Loss=0.3608, Loss_R=0.3608, LR=0.0509]\u001b[A\n",
      "Tracking:  10%|█         | 4/40 [00:00<00:02, 17.11epochs/s, Loss=0.3608, Loss_R=0.3608, LR=0.0509]\u001b[A\n",
      "Tracking:  10%|█         | 4/40 [00:00<00:02, 17.11epochs/s, Loss=0.3159, Loss_R=0.3159, LR=0.0509]\u001b[A\n",
      "Tracking:  10%|█         | 4/40 [00:00<00:02, 17.11epochs/s, Loss=0.3159, Loss_R=0.3159, LR=0.0509]\u001b[A\n",
      "Tracking:  10%|█         | 4/40 [00:00<00:02, 17.11epochs/s, Loss=0.3140, Loss_R=0.3140, LR=0.0509]\u001b[A\n",
      "Tracking:  18%|█▊        | 7/40 [00:00<00:01, 22.00epochs/s, Loss=0.3140, Loss_R=0.3140, LR=0.0509]\u001b[A\n",
      "Tracking:  18%|█▊        | 7/40 [00:00<00:01, 22.00epochs/s, Loss=0.3115, Loss_R=0.3115, LR=0.0509]\u001b[A\n",
      "Tracking:  18%|█▊        | 7/40 [00:00<00:01, 22.00epochs/s, Loss=0.3115, Loss_R=0.3115, LR=0.0509]\u001b[A\n",
      "Tracking:  18%|█▊        | 7/40 [00:00<00:01, 22.00epochs/s, Loss=0.2705, Loss_R=0.2705, LR=0.0254]\u001b[A\n",
      "Tracking:  18%|█▊        | 7/40 [00:00<00:01, 22.00epochs/s, Loss=0.2720, Loss_R=0.2720, LR=0.0254]\u001b[A\n",
      "Tracking:  18%|█▊        | 7/40 [00:00<00:01, 22.00epochs/s, Loss=0.2700, Loss_R=0.2700, LR=0.0254]\u001b[A\n",
      "Tracking:  30%|███       | 12/40 [00:00<00:00, 31.01epochs/s, Loss=0.2700, Loss_R=0.2700, LR=0.0254]\u001b[A\n",
      "Tracking:  30%|███       | 12/40 [00:00<00:00, 31.01epochs/s, Loss=0.2710, Loss_R=0.2710, LR=0.0254]\u001b[A\n",
      "Tracking:  30%|███       | 12/40 [00:00<00:00, 31.01epochs/s, Loss=0.2700, Loss_R=0.2700, LR=0.0254]\u001b[A\n",
      "Tracking:  30%|███       | 12/40 [00:00<00:00, 31.01epochs/s, Loss=0.1768, Loss_R=0.1768, LR=0.0254]\u001b[A\n",
      "Tracking:  30%|███       | 12/40 [00:00<00:00, 31.01epochs/s, Loss=0.1753, Loss_R=0.1753, LR=0.0254]\u001b[A\n",
      "Tracking:  30%|███       | 12/40 [00:00<00:00, 31.01epochs/s, Loss=0.1748, Loss_R=0.1748, LR=0.0254]\u001b[A\n",
      "Tracking:  30%|███       | 12/40 [00:00<00:00, 31.01epochs/s, Loss=0.1733, Loss_R=0.1733, LR=0.0254]\u001b[A\n",
      "Tracking:  30%|███       | 12/40 [00:00<00:00, 31.01epochs/s, Loss=0.1729, Loss_R=0.1729, LR=0.0254]\u001b[A\n",
      "Tracking:  30%|███       | 12/40 [00:00<00:00, 31.01epochs/s, Loss=0.1709, Loss_R=0.1709, LR=0.0127]\u001b[A\n",
      "Tracking:  30%|███       | 12/40 [00:00<00:00, 31.01epochs/s, Loss=0.1699, Loss_R=0.1699, LR=0.0127]\u001b[A\n",
      "Tracking:  52%|█████▎    | 21/40 [00:00<00:00, 49.06epochs/s, Loss=0.1699, Loss_R=0.1699, LR=0.0127]\u001b[A\n",
      "Tracking:  52%|█████▎    | 21/40 [00:00<00:00, 49.06epochs/s, Loss=0.1694, Loss_R=0.1694, LR=0.0127]\u001b[A\n",
      "Tracking:  52%|█████▎    | 21/40 [00:00<00:00, 49.06epochs/s, Loss=0.1694, Loss_R=0.1694, LR=0.0127]\u001b[A\n",
      "Tracking:  52%|█████▎    | 21/40 [00:00<00:00, 49.06epochs/s, Loss=0.1689, Loss_R=0.1689, LR=0.0127]\u001b[A\n",
      "Tracking:  52%|█████▎    | 21/40 [00:00<00:00, 49.06epochs/s, Loss=0.1680, Loss_R=0.1680, LR=0.0127]\u001b[A\n",
      "Tracking:  52%|█████▎    | 21/40 [00:00<00:00, 49.06epochs/s, Loss=0.1675, Loss_R=0.1675, LR=0.0127]\u001b[A\n",
      "Tracking:  52%|█████▎    | 21/40 [00:00<00:00, 49.06epochs/s, Loss=0.1670, Loss_R=0.1670, LR=0.0127]\u001b[A\n",
      "Tracking:  52%|█████▎    | 21/40 [00:00<00:00, 49.06epochs/s, Loss=0.1670, Loss_R=0.1670, LR=0.0127]\u001b[A\n",
      "Tracking:  52%|█████▎    | 21/40 [00:00<00:00, 49.06epochs/s, Loss=0.1660, Loss_R=0.1660, LR=0.0127]\u001b[A\n",
      "Tracking:  52%|█████▎    | 21/40 [00:00<00:00, 49.06epochs/s, Loss=0.1655, Loss_R=0.1655, LR=0.0064]\u001b[A\n",
      "Tracking:  75%|███████▌  | 30/40 [00:00<00:00, 61.30epochs/s, Loss=0.1655, Loss_R=0.1655, LR=0.0064]\u001b[A\n",
      "Tracking:  75%|███████▌  | 30/40 [00:00<00:00, 61.30epochs/s, Loss=0.1660, Loss_R=0.1660, LR=0.0064]\u001b[A\n",
      "Tracking:  75%|███████▌  | 30/40 [00:00<00:00, 61.30epochs/s, Loss=0.1655, Loss_R=0.1655, LR=0.0064]\u001b[A\n",
      "Tracking:  75%|███████▌  | 30/40 [00:00<00:00, 61.30epochs/s, Loss=0.1650, Loss_R=0.1650, LR=0.0064]\u001b[A\n",
      "Tracking:  75%|███████▌  | 30/40 [00:00<00:00, 61.30epochs/s, Loss=0.1650, Loss_R=0.1650, LR=0.0064]\u001b[A\n",
      "Tracking:  75%|███████▌  | 30/40 [00:00<00:00, 61.30epochs/s, Loss=0.1655, Loss_R=0.1655, LR=0.0064]\u001b[A\n",
      "Tracking:  75%|███████▌  | 30/40 [00:00<00:00, 61.30epochs/s, Loss=0.1646, Loss_R=0.1646, LR=0.0064]\u001b[A\n",
      "Tracking:  75%|███████▌  | 30/40 [00:00<00:00, 61.30epochs/s, Loss=0.1641, Loss_R=0.1641, LR=0.0064]\u001b[A\n",
      "Tracking:  75%|███████▌  | 30/40 [00:00<00:00, 61.30epochs/s, Loss=0.1646, Loss_R=0.1646, LR=0.0064]\u001b[A\n",
      "Tracking:  75%|███████▌  | 30/40 [00:00<00:00, 61.30epochs/s, Loss=0.1646, Loss_R=0.1646, LR=0.0064]\u001b[A\n",
      "Tracking:  98%|█████████▊| 39/40 [00:00<00:00, 69.64epochs/s, Loss=0.1646, Loss_R=0.1646, LR=0.0064]\u001b[A\n",
      "Tracking: 100%|██████████| 40/40 [00:00<00:00, 51.31epochs/s, Loss=0.1646, Loss_R=0.1646, LR=0.0032]\u001b[A\n",
      "Analyzing movie: 100%|██████████| 1/1 [00:01<00:00,  1.39s/frames]\n"
     ]
    },
    {
     "name": "stdout",
     "output_type": "stream",
     "text": [
      "!!time 407 [-0.00713546  0.00171115  0.0193169 ]\n",
      "\n",
      "Compiling and saving results to file...\n",
      "originalally found matches: 0 after filtered the merged neurons, found matches:  0\n",
      "the updated annotation at time t1 2.5065508\n",
      "the updated annotation at time t2 0.0\n",
      "before loading 0.0\n",
      "Using frame #443 as initial reference with 178 annotations found...\n",
      "t_annot: [407 408 441 442 443 444 445 446 486 488 489 490 491 492]\n",
      "\n",
      "Annotations loaded for frames [443, 444] with shape: (2, 178, 3)\n",
      "Checkpoint updated for ['container'] @ [2024-03-28 00:12:56.572542]\n",
      "Checkpoint updated for ['results'] @ [2024-03-28 00:12:56.620409]\n",
      "after loading 0.0\n"
     ]
    },
    {
     "name": "stderr",
     "output_type": "stream",
     "text": [
      "Analyzing movie:   0%|          | 0/1 [00:00<?, ?frames/s]"
     ]
    },
    {
     "name": "stdout",
     "output_type": "stream",
     "text": [
      "\n",
      "Frame #408\t\tParent #407\t\tReference #443\t\tDistance to parent: d=0.0163\n"
     ]
    },
    {
     "name": "stderr",
     "output_type": "stream",
     "text": [
      "\n",
      "Tracking:   0%|          | 0/40 [00:00<?, ?epochs/s]\u001b[A\n",
      "Tracking:   0%|          | 0/40 [00:00<?, ?epochs/s, Loss=0.8311, Loss_R=0.8311, LR=0.0327]\u001b[A\n",
      "Tracking:   0%|          | 0/40 [00:00<?, ?epochs/s, Loss=0.7510, Loss_R=0.7510, LR=0.0327]\u001b[A\n",
      "Tracking:   5%|▌         | 2/40 [00:00<00:02, 17.43epochs/s, Loss=0.7510, Loss_R=0.7510, LR=0.0327]\u001b[A\n",
      "Tracking:   5%|▌         | 2/40 [00:00<00:02, 17.43epochs/s, Loss=0.6323, Loss_R=0.6323, LR=0.0327]\u001b[A\n",
      "Tracking:   5%|▌         | 2/40 [00:00<00:02, 17.43epochs/s, Loss=0.5205, Loss_R=0.5205, LR=0.0327]\u001b[A\n",
      "Tracking:  10%|█         | 4/40 [00:00<00:02, 17.23epochs/s, Loss=0.5205, Loss_R=0.5205, LR=0.0327]\u001b[A\n",
      "Tracking:  10%|█         | 4/40 [00:00<00:02, 17.23epochs/s, Loss=0.4385, Loss_R=0.4385, LR=0.0327]\u001b[A\n",
      "Tracking:  10%|█         | 4/40 [00:00<00:02, 17.23epochs/s, Loss=0.3218, Loss_R=0.3218, LR=0.0327]\u001b[A\n",
      "Tracking:  10%|█         | 4/40 [00:00<00:02, 17.23epochs/s, Loss=0.2847, Loss_R=0.2847, LR=0.0327]\u001b[A\n",
      "Tracking:  18%|█▊        | 7/40 [00:00<00:01, 22.06epochs/s, Loss=0.2847, Loss_R=0.2847, LR=0.0327]\u001b[A\n",
      "Tracking:  18%|█▊        | 7/40 [00:00<00:01, 22.06epochs/s, Loss=0.2808, Loss_R=0.2808, LR=0.0327]\u001b[A\n",
      "Tracking:  18%|█▊        | 7/40 [00:00<00:01, 22.06epochs/s, Loss=0.2808, Loss_R=0.2808, LR=0.0327]\u001b[A\n",
      "Tracking:  18%|█▊        | 7/40 [00:00<00:01, 22.06epochs/s, Loss=0.2373, Loss_R=0.2373, LR=0.0163]\u001b[A\n",
      "Tracking:  18%|█▊        | 7/40 [00:00<00:01, 22.06epochs/s, Loss=0.2368, Loss_R=0.2368, LR=0.0163]\u001b[A\n",
      "Tracking:  18%|█▊        | 7/40 [00:00<00:01, 22.06epochs/s, Loss=0.2354, Loss_R=0.2354, LR=0.0163]\u001b[A\n",
      "Tracking:  30%|███       | 12/40 [00:00<00:00, 31.02epochs/s, Loss=0.2354, Loss_R=0.2354, LR=0.0163]\u001b[A\n",
      "Tracking:  30%|███       | 12/40 [00:00<00:00, 31.02epochs/s, Loss=0.2368, Loss_R=0.2368, LR=0.0163]\u001b[A\n",
      "Tracking:  30%|███       | 12/40 [00:00<00:00, 31.02epochs/s, Loss=0.2368, Loss_R=0.2368, LR=0.0163]\u001b[A\n",
      "Tracking:  30%|███       | 12/40 [00:00<00:00, 31.02epochs/s, Loss=0.1353, Loss_R=0.1353, LR=0.0163]\u001b[A\n",
      "Tracking:  30%|███       | 12/40 [00:00<00:00, 31.02epochs/s, Loss=0.1318, Loss_R=0.1318, LR=0.0163]\u001b[A\n",
      "Tracking:  30%|███       | 12/40 [00:00<00:00, 31.02epochs/s, Loss=0.1318, Loss_R=0.1318, LR=0.0163]\u001b[A\n",
      "Tracking:  30%|███       | 12/40 [00:00<00:00, 31.02epochs/s, Loss=0.1318, Loss_R=0.1318, LR=0.0163]\u001b[A\n",
      "Tracking:  30%|███       | 12/40 [00:00<00:00, 31.02epochs/s, Loss=0.1313, Loss_R=0.1313, LR=0.0163]\u001b[A\n",
      "Tracking:  30%|███       | 12/40 [00:00<00:00, 31.02epochs/s, Loss=0.1309, Loss_R=0.1309, LR=0.0082]\u001b[A\n",
      "Tracking:  50%|█████     | 20/40 [00:00<00:00, 47.19epochs/s, Loss=0.1309, Loss_R=0.1309, LR=0.0082]\u001b[A\n",
      "Tracking:  50%|█████     | 20/40 [00:00<00:00, 47.19epochs/s, Loss=0.1309, Loss_R=0.1309, LR=0.0082]\u001b[A\n",
      "Tracking:  50%|█████     | 20/40 [00:00<00:00, 47.19epochs/s, Loss=0.1299, Loss_R=0.1299, LR=0.0082]\u001b[A\n",
      "Tracking:  50%|█████     | 20/40 [00:00<00:00, 47.19epochs/s, Loss=0.1304, Loss_R=0.1304, LR=0.0082]\u001b[A\n",
      "Tracking:  50%|█████     | 20/40 [00:00<00:00, 47.19epochs/s, Loss=0.1299, Loss_R=0.1299, LR=0.0082]\u001b[A\n",
      "Tracking:  50%|█████     | 20/40 [00:00<00:00, 47.19epochs/s, Loss=0.1299, Loss_R=0.1299, LR=0.0082]\u001b[A\n",
      "Tracking:  50%|█████     | 20/40 [00:00<00:00, 47.19epochs/s, Loss=0.1299, Loss_R=0.1299, LR=0.0082]\u001b[A\n",
      "Tracking:  50%|█████     | 20/40 [00:00<00:00, 47.19epochs/s, Loss=0.1299, Loss_R=0.1299, LR=0.0082]\u001b[A\n",
      "Tracking:  50%|█████     | 20/40 [00:00<00:00, 47.19epochs/s, Loss=0.1299, Loss_R=0.1299, LR=0.0082]\u001b[A\n",
      "Tracking:  50%|█████     | 20/40 [00:00<00:00, 47.19epochs/s, Loss=0.1294, Loss_R=0.1294, LR=0.0082]\u001b[A\n",
      "Tracking:  72%|███████▎  | 29/40 [00:00<00:00, 60.48epochs/s, Loss=0.1294, Loss_R=0.1294, LR=0.0082]\u001b[A\n",
      "Tracking:  72%|███████▎  | 29/40 [00:00<00:00, 60.48epochs/s, Loss=0.1294, Loss_R=0.1294, LR=0.0041]\u001b[A\n",
      "Tracking:  72%|███████▎  | 29/40 [00:00<00:00, 60.48epochs/s, Loss=0.1284, Loss_R=0.1284, LR=0.0041]\u001b[A\n",
      "Tracking:  72%|███████▎  | 29/40 [00:00<00:00, 60.48epochs/s, Loss=0.1284, Loss_R=0.1284, LR=0.0041]\u001b[A\n",
      "Tracking:  72%|███████▎  | 29/40 [00:00<00:00, 60.48epochs/s, Loss=0.1284, Loss_R=0.1284, LR=0.0041]\u001b[A\n",
      "Tracking:  72%|███████▎  | 29/40 [00:00<00:00, 60.48epochs/s, Loss=0.1284, Loss_R=0.1284, LR=0.0041]\u001b[A\n",
      "Tracking:  72%|███████▎  | 29/40 [00:00<00:00, 60.48epochs/s, Loss=0.1284, Loss_R=0.1284, LR=0.0041]\u001b[A\n",
      "Tracking:  72%|███████▎  | 29/40 [00:00<00:00, 60.48epochs/s, Loss=0.1284, Loss_R=0.1284, LR=0.0041]\u001b[A\n",
      "Tracking:  72%|███████▎  | 29/40 [00:00<00:00, 60.48epochs/s, Loss=0.1284, Loss_R=0.1284, LR=0.0041]\u001b[A\n",
      "Tracking:  72%|███████▎  | 29/40 [00:00<00:00, 60.48epochs/s, Loss=0.1284, Loss_R=0.1284, LR=0.0041]\u001b[A\n",
      "Tracking:  95%|█████████▌| 38/40 [00:00<00:00, 69.35epochs/s, Loss=0.1284, Loss_R=0.1284, LR=0.0041]\u001b[A\n",
      "Tracking:  95%|█████████▌| 38/40 [00:00<00:00, 69.35epochs/s, Loss=0.1284, Loss_R=0.1284, LR=0.0041]\u001b[A\n",
      "Tracking: 100%|██████████| 40/40 [00:00<00:00, 51.25epochs/s, Loss=0.1284, Loss_R=0.1284, LR=0.0020]\u001b[A\n",
      "Analyzing movie: 100%|██████████| 1/1 [00:01<00:00,  1.39s/frames]\n"
     ]
    },
    {
     "name": "stdout",
     "output_type": "stream",
     "text": [
      "!!time 408 [-0.01208732  0.02709398  0.03099167]\n",
      "\n",
      "Compiling and saving results to file...\n",
      "originalally found matches: 0 after filtered the merged neurons, found matches:  0\n",
      "the updated annotation at time t1 6.245399\n",
      "the updated annotation at time t2 0.0\n",
      "before loading 0.0\n",
      "Using frame #443 as initial reference with 178 annotations found...\n",
      "t_annot: [407 408 409 441 442 443 444 445 446 486 488 489 490 491 492]\n",
      "\n",
      "Annotations loaded for frames [443, 444] with shape: (2, 178, 3)\n",
      "Checkpoint updated for ['container'] @ [2024-03-28 00:12:59.164671]\n",
      "Checkpoint updated for ['results'] @ [2024-03-28 00:12:59.204957]\n",
      "after loading 0.0\n"
     ]
    },
    {
     "name": "stderr",
     "output_type": "stream",
     "text": [
      "Analyzing movie:   0%|          | 0/1 [00:00<?, ?frames/s]"
     ]
    },
    {
     "name": "stdout",
     "output_type": "stream",
     "text": [
      "\n",
      "Frame #409\t\tParent #407\t\tReference #443\t\tDistance to parent: d=0.0189\n"
     ]
    },
    {
     "name": "stderr",
     "output_type": "stream",
     "text": [
      "\n",
      "Tracking:   0%|          | 0/40 [00:00<?, ?epochs/s]\u001b[A\n",
      "Tracking:   0%|          | 0/40 [00:00<?, ?epochs/s, Loss=0.3486, Loss_R=0.3486, LR=0.0378]\u001b[A\n",
      "Tracking:   0%|          | 0/40 [00:00<?, ?epochs/s, Loss=0.3403, Loss_R=0.3403, LR=0.0378]\u001b[A\n",
      "Tracking:   5%|▌         | 2/40 [00:00<00:02, 17.79epochs/s, Loss=0.3403, Loss_R=0.3403, LR=0.0378]\u001b[A\n",
      "Tracking:   5%|▌         | 2/40 [00:00<00:02, 17.79epochs/s, Loss=0.3369, Loss_R=0.3369, LR=0.0378]\u001b[A\n",
      "Tracking:   5%|▌         | 2/40 [00:00<00:02, 17.79epochs/s, Loss=0.3335, Loss_R=0.3335, LR=0.0378]\u001b[A\n",
      "Tracking:  10%|█         | 4/40 [00:00<00:02, 17.29epochs/s, Loss=0.3335, Loss_R=0.3335, LR=0.0378]\u001b[A\n",
      "Tracking:  10%|█         | 4/40 [00:00<00:02, 17.29epochs/s, Loss=0.2925, Loss_R=0.2925, LR=0.0378]\u001b[A\n",
      "Tracking:  10%|█         | 4/40 [00:00<00:02, 17.29epochs/s, Loss=0.2886, Loss_R=0.2886, LR=0.0378]\u001b[A\n",
      "Tracking:  10%|█         | 4/40 [00:00<00:02, 17.29epochs/s, Loss=0.2852, Loss_R=0.2852, LR=0.0378]\u001b[A\n",
      "Tracking:  10%|█         | 4/40 [00:00<00:02, 17.29epochs/s, Loss=0.2842, Loss_R=0.2842, LR=0.0378]\u001b[A\n",
      "Tracking:  20%|██        | 8/40 [00:00<00:01, 23.70epochs/s, Loss=0.2842, Loss_R=0.2842, LR=0.0378]\u001b[A\n",
      "Tracking:  20%|██        | 8/40 [00:00<00:01, 23.70epochs/s, Loss=0.2827, Loss_R=0.2827, LR=0.0378]\u001b[A\n",
      "Tracking:  20%|██        | 8/40 [00:00<00:01, 23.70epochs/s, Loss=0.2432, Loss_R=0.2432, LR=0.0189]\u001b[A\n",
      "Tracking:  20%|██        | 8/40 [00:00<00:01, 23.70epochs/s, Loss=0.2427, Loss_R=0.2427, LR=0.0189]\u001b[A\n",
      "Tracking:  20%|██        | 8/40 [00:00<00:01, 23.70epochs/s, Loss=0.2427, Loss_R=0.2427, LR=0.0189]\u001b[A\n",
      "Tracking:  20%|██        | 8/40 [00:00<00:01, 23.70epochs/s, Loss=0.2427, Loss_R=0.2427, LR=0.0189]\u001b[A\n",
      "Tracking:  20%|██        | 8/40 [00:00<00:01, 23.70epochs/s, Loss=0.2412, Loss_R=0.2412, LR=0.0189]\u001b[A\n",
      "Tracking:  35%|███▌      | 14/40 [00:00<00:00, 35.09epochs/s, Loss=0.2412, Loss_R=0.2412, LR=0.0189]\u001b[A\n",
      "Tracking:  35%|███▌      | 14/40 [00:00<00:00, 35.09epochs/s, Loss=0.1489, Loss_R=0.1489, LR=0.0189]\u001b[A\n",
      "Tracking:  35%|███▌      | 14/40 [00:00<00:00, 35.09epochs/s, Loss=0.1479, Loss_R=0.1479, LR=0.0189]\u001b[A\n",
      "Tracking:  35%|███▌      | 14/40 [00:00<00:00, 35.09epochs/s, Loss=0.1470, Loss_R=0.1470, LR=0.0189]\u001b[A\n",
      "Tracking:  35%|███▌      | 14/40 [00:00<00:00, 35.09epochs/s, Loss=0.1479, Loss_R=0.1479, LR=0.0189]\u001b[A\n",
      "Tracking:  35%|███▌      | 14/40 [00:00<00:00, 35.09epochs/s, Loss=0.1475, Loss_R=0.1475, LR=0.0189]\u001b[A\n",
      "Tracking:  35%|███▌      | 14/40 [00:00<00:00, 35.09epochs/s, Loss=0.1470, Loss_R=0.1470, LR=0.0095]\u001b[A\n",
      "Tracking:  35%|███▌      | 14/40 [00:00<00:00, 35.09epochs/s, Loss=0.1465, Loss_R=0.1465, LR=0.0095]\u001b[A\n",
      "Tracking:  35%|███▌      | 14/40 [00:00<00:00, 35.09epochs/s, Loss=0.1470, Loss_R=0.1470, LR=0.0095]\u001b[A\n",
      "Tracking:  35%|███▌      | 14/40 [00:00<00:00, 35.09epochs/s, Loss=0.1460, Loss_R=0.1460, LR=0.0095]\u001b[A\n",
      "Tracking:  57%|█████▊    | 23/40 [00:00<00:00, 52.28epochs/s, Loss=0.1460, Loss_R=0.1460, LR=0.0095]\u001b[A\n",
      "Tracking:  57%|█████▊    | 23/40 [00:00<00:00, 52.28epochs/s, Loss=0.1460, Loss_R=0.1460, LR=0.0095]\u001b[A\n",
      "Tracking:  57%|█████▊    | 23/40 [00:00<00:00, 52.28epochs/s, Loss=0.1460, Loss_R=0.1460, LR=0.0095]\u001b[A\n",
      "Tracking:  57%|█████▊    | 23/40 [00:00<00:00, 52.28epochs/s, Loss=0.1460, Loss_R=0.1460, LR=0.0095]\u001b[A\n",
      "Tracking:  57%|█████▊    | 23/40 [00:00<00:00, 52.28epochs/s, Loss=0.1460, Loss_R=0.1460, LR=0.0095]\u001b[A\n",
      "Tracking:  57%|█████▊    | 23/40 [00:00<00:00, 52.28epochs/s, Loss=0.1465, Loss_R=0.1465, LR=0.0095]\u001b[A\n",
      "Tracking:  57%|█████▊    | 23/40 [00:00<00:00, 52.28epochs/s, Loss=0.1465, Loss_R=0.1465, LR=0.0095]\u001b[A\n",
      "Tracking:  57%|█████▊    | 23/40 [00:00<00:00, 52.28epochs/s, Loss=0.1455, Loss_R=0.1455, LR=0.0047]\u001b[A\n",
      "Tracking:  57%|█████▊    | 23/40 [00:00<00:00, 52.28epochs/s, Loss=0.1455, Loss_R=0.1455, LR=0.0047]\u001b[A\n",
      "Tracking:  57%|█████▊    | 23/40 [00:00<00:00, 52.28epochs/s, Loss=0.1460, Loss_R=0.1460, LR=0.0047]\u001b[A\n",
      "Tracking:  80%|████████  | 32/40 [00:00<00:00, 63.71epochs/s, Loss=0.1460, Loss_R=0.1460, LR=0.0047]\u001b[A\n",
      "Tracking:  80%|████████  | 32/40 [00:00<00:00, 63.71epochs/s, Loss=0.1450, Loss_R=0.1450, LR=0.0047]\u001b[A\n",
      "Tracking:  80%|████████  | 32/40 [00:00<00:00, 63.71epochs/s, Loss=0.1450, Loss_R=0.1450, LR=0.0047]\u001b[A\n",
      "Tracking:  80%|████████  | 32/40 [00:00<00:00, 63.71epochs/s, Loss=0.1450, Loss_R=0.1450, LR=0.0047]\u001b[A\n",
      "Tracking:  80%|████████  | 32/40 [00:00<00:00, 63.71epochs/s, Loss=0.1450, Loss_R=0.1450, LR=0.0047]\u001b[A\n",
      "Tracking:  80%|████████  | 32/40 [00:00<00:00, 63.71epochs/s, Loss=0.1450, Loss_R=0.1450, LR=0.0047]\u001b[A\n",
      "Tracking:  80%|████████  | 32/40 [00:00<00:00, 63.71epochs/s, Loss=0.1450, Loss_R=0.1450, LR=0.0047]\u001b[A\n",
      "Tracking:  80%|████████  | 32/40 [00:00<00:00, 63.71epochs/s, Loss=0.1455, Loss_R=0.1455, LR=0.0047]\u001b[A\n",
      "Tracking: 100%|██████████| 40/40 [00:00<00:00, 52.05epochs/s, Loss=0.1455, Loss_R=0.1455, LR=0.0024]\u001b[A\n",
      "Analyzing movie: 100%|██████████| 1/1 [00:01<00:00,  1.41s/frames]\n"
     ]
    },
    {
     "name": "stdout",
     "output_type": "stream",
     "text": [
      "!!time 409 [0.00088912 0.00507151 0.0212813 ]\n",
      "\n",
      "Compiling and saving results to file...\n",
      "originalally found matches: 0 after filtered the merged neurons, found matches:  0\n",
      "the updated annotation at time t1 2.4245224\n",
      "the updated annotation at time t2 0.0\n",
      "before loading 0.0\n",
      "Using frame #443 as initial reference with 178 annotations found...\n",
      "t_annot: [406 407 408 409 441 442 443 444 445 446 486 488 489 490 491 492]\n",
      "\n",
      "Annotations loaded for frames [443, 444] with shape: (2, 178, 3)\n",
      "Checkpoint updated for ['container'] @ [2024-03-28 00:13:01.849730]\n",
      "Checkpoint updated for ['results'] @ [2024-03-28 00:13:01.910400]\n",
      "after loading 0.0\n"
     ]
    },
    {
     "name": "stderr",
     "output_type": "stream",
     "text": [
      "Analyzing movie:   0%|          | 0/1 [00:00<?, ?frames/s]"
     ]
    },
    {
     "name": "stdout",
     "output_type": "stream",
     "text": [
      "\n",
      "Frame #406\t\tParent #407\t\tReference #443\t\tDistance to parent: d=0.0213\n"
     ]
    },
    {
     "name": "stderr",
     "output_type": "stream",
     "text": [
      "\n",
      "Tracking:   0%|          | 0/40 [00:00<?, ?epochs/s]\u001b[A\n",
      "Tracking:   0%|          | 0/40 [00:00<?, ?epochs/s, Loss=0.5117, Loss_R=0.5117, LR=0.0425]\u001b[A\n",
      "Tracking:   0%|          | 0/40 [00:00<?, ?epochs/s, Loss=0.3896, Loss_R=0.3896, LR=0.0425]\u001b[A\n",
      "Tracking:   5%|▌         | 2/40 [00:00<00:02, 17.70epochs/s, Loss=0.3896, Loss_R=0.3896, LR=0.0425]\u001b[A\n",
      "Tracking:   5%|▌         | 2/40 [00:00<00:02, 17.70epochs/s, Loss=0.3218, Loss_R=0.3218, LR=0.0425]\u001b[A\n",
      "Tracking:   5%|▌         | 2/40 [00:00<00:02, 17.70epochs/s, Loss=0.3052, Loss_R=0.3052, LR=0.0425]\u001b[A\n",
      "Tracking:  10%|█         | 4/40 [00:00<00:02, 17.27epochs/s, Loss=0.3052, Loss_R=0.3052, LR=0.0425]\u001b[A\n",
      "Tracking:  10%|█         | 4/40 [00:00<00:02, 17.27epochs/s, Loss=0.2705, Loss_R=0.2705, LR=0.0425]\u001b[A\n",
      "Tracking:  10%|█         | 4/40 [00:00<00:02, 17.27epochs/s, Loss=0.2695, Loss_R=0.2695, LR=0.0425]\u001b[A\n",
      "Tracking:  10%|█         | 4/40 [00:00<00:02, 17.27epochs/s, Loss=0.2686, Loss_R=0.2686, LR=0.0425]\u001b[A\n",
      "Tracking:  18%|█▊        | 7/40 [00:00<00:01, 21.76epochs/s, Loss=0.2686, Loss_R=0.2686, LR=0.0425]\u001b[A\n",
      "Tracking:  18%|█▊        | 7/40 [00:00<00:01, 21.76epochs/s, Loss=0.2690, Loss_R=0.2690, LR=0.0425]\u001b[A\n",
      "Tracking:  18%|█▊        | 7/40 [00:00<00:01, 21.76epochs/s, Loss=0.2686, Loss_R=0.2686, LR=0.0425]\u001b[A\n",
      "Tracking:  18%|█▊        | 7/40 [00:00<00:01, 21.76epochs/s, Loss=0.2427, Loss_R=0.2427, LR=0.0213]\u001b[A\n",
      "Tracking:  18%|█▊        | 7/40 [00:00<00:01, 21.76epochs/s, Loss=0.2412, Loss_R=0.2412, LR=0.0213]\u001b[A\n",
      "Tracking:  28%|██▊       | 11/40 [00:00<00:01, 28.39epochs/s, Loss=0.2412, Loss_R=0.2412, LR=0.0213]\u001b[A\n",
      "Tracking:  28%|██▊       | 11/40 [00:00<00:01, 28.39epochs/s, Loss=0.2412, Loss_R=0.2412, LR=0.0213]\u001b[A\n",
      "Tracking:  28%|██▊       | 11/40 [00:00<00:01, 28.39epochs/s, Loss=0.2412, Loss_R=0.2412, LR=0.0213]\u001b[A\n",
      "Tracking:  28%|██▊       | 11/40 [00:00<00:01, 28.39epochs/s, Loss=0.2402, Loss_R=0.2402, LR=0.0213]\u001b[A\n",
      "Tracking:  28%|██▊       | 11/40 [00:00<00:01, 28.39epochs/s, Loss=0.1787, Loss_R=0.1787, LR=0.0213]\u001b[A\n",
      "Tracking:  28%|██▊       | 11/40 [00:00<00:01, 28.39epochs/s, Loss=0.1753, Loss_R=0.1753, LR=0.0213]\u001b[A\n",
      "Tracking:  28%|██▊       | 11/40 [00:00<00:01, 28.39epochs/s, Loss=0.1738, Loss_R=0.1738, LR=0.0213]\u001b[A\n",
      "Tracking:  28%|██▊       | 11/40 [00:00<00:01, 28.39epochs/s, Loss=0.1733, Loss_R=0.1733, LR=0.0213]\u001b[A\n",
      "Tracking:  28%|██▊       | 11/40 [00:00<00:01, 28.39epochs/s, Loss=0.1704, Loss_R=0.1704, LR=0.0213]\u001b[A\n",
      "Tracking:  48%|████▊     | 19/40 [00:00<00:00, 44.72epochs/s, Loss=0.1704, Loss_R=0.1704, LR=0.0213]\u001b[A\n",
      "Tracking:  48%|████▊     | 19/40 [00:00<00:00, 44.72epochs/s, Loss=0.1704, Loss_R=0.1704, LR=0.0106]\u001b[A\n",
      "Tracking:  48%|████▊     | 19/40 [00:00<00:00, 44.72epochs/s, Loss=0.1680, Loss_R=0.1680, LR=0.0106]\u001b[A\n",
      "Tracking:  48%|████▊     | 19/40 [00:00<00:00, 44.72epochs/s, Loss=0.1675, Loss_R=0.1675, LR=0.0106]\u001b[A\n",
      "Tracking:  48%|████▊     | 19/40 [00:00<00:00, 44.72epochs/s, Loss=0.1665, Loss_R=0.1665, LR=0.0106]\u001b[A\n",
      "Tracking:  48%|████▊     | 19/40 [00:00<00:00, 44.72epochs/s, Loss=0.1665, Loss_R=0.1665, LR=0.0106]\u001b[A\n",
      "Tracking:  48%|████▊     | 19/40 [00:00<00:00, 44.72epochs/s, Loss=0.1655, Loss_R=0.1655, LR=0.0106]\u001b[A\n",
      "Tracking:  48%|████▊     | 19/40 [00:00<00:00, 44.72epochs/s, Loss=0.1655, Loss_R=0.1655, LR=0.0106]\u001b[A\n",
      "Tracking:  48%|████▊     | 19/40 [00:00<00:00, 44.72epochs/s, Loss=0.1650, Loss_R=0.1650, LR=0.0106]\u001b[A\n",
      "Tracking:  48%|████▊     | 19/40 [00:00<00:00, 44.72epochs/s, Loss=0.1641, Loss_R=0.1641, LR=0.0106]\u001b[A\n",
      "Tracking:  70%|███████   | 28/40 [00:00<00:00, 58.22epochs/s, Loss=0.1641, Loss_R=0.1641, LR=0.0106]\u001b[A\n",
      "Tracking:  70%|███████   | 28/40 [00:00<00:00, 58.22epochs/s, Loss=0.1636, Loss_R=0.1636, LR=0.0106]\u001b[A\n",
      "Tracking:  70%|███████   | 28/40 [00:00<00:00, 58.22epochs/s, Loss=0.1626, Loss_R=0.1626, LR=0.0053]\u001b[A\n",
      "Tracking:  70%|███████   | 28/40 [00:00<00:00, 58.22epochs/s, Loss=0.1626, Loss_R=0.1626, LR=0.0053]\u001b[A\n",
      "Tracking:  70%|███████   | 28/40 [00:00<00:00, 58.22epochs/s, Loss=0.1621, Loss_R=0.1621, LR=0.0053]\u001b[A\n",
      "Tracking:  70%|███████   | 28/40 [00:00<00:00, 58.22epochs/s, Loss=0.1621, Loss_R=0.1621, LR=0.0053]\u001b[A\n",
      "Tracking:  70%|███████   | 28/40 [00:00<00:00, 58.22epochs/s, Loss=0.1621, Loss_R=0.1621, LR=0.0053]\u001b[A\n",
      "Tracking:  70%|███████   | 28/40 [00:00<00:00, 58.22epochs/s, Loss=0.1621, Loss_R=0.1621, LR=0.0053]\u001b[A\n",
      "Tracking:  70%|███████   | 28/40 [00:00<00:00, 58.22epochs/s, Loss=0.1611, Loss_R=0.1611, LR=0.0053]\u001b[A\n",
      "Tracking:  70%|███████   | 28/40 [00:00<00:00, 58.22epochs/s, Loss=0.1611, Loss_R=0.1611, LR=0.0053]\u001b[A\n",
      "Tracking:  70%|███████   | 28/40 [00:00<00:00, 58.22epochs/s, Loss=0.1611, Loss_R=0.1611, LR=0.0053]\u001b[A\n",
      "Tracking:  95%|█████████▌| 38/40 [00:00<00:00, 69.27epochs/s, Loss=0.1611, Loss_R=0.1611, LR=0.0053]\u001b[A\n",
      "Tracking:  95%|█████████▌| 38/40 [00:00<00:00, 69.27epochs/s, Loss=0.1602, Loss_R=0.1602, LR=0.0053]\u001b[A\n",
      "Tracking: 100%|██████████| 40/40 [00:00<00:00, 50.77epochs/s, Loss=0.1602, Loss_R=0.1602, LR=0.0027]\u001b[A\n",
      "Analyzing movie: 100%|██████████| 1/1 [00:01<00:00,  1.43s/frames]\n"
     ]
    },
    {
     "name": "stdout",
     "output_type": "stream",
     "text": [
      "!!time 406 [-0.00908253  0.01533162  0.04342948]\n",
      "\n",
      "Compiling and saving results to file...\n",
      "originalally found matches: 0 after filtered the merged neurons, found matches:  0\n",
      "the updated annotation at time t1 6.038087\n",
      "the updated annotation at time t2 0.0\n",
      "before loading 0.0\n",
      "Using frame #443 as initial reference with 178 annotations found...\n",
      "t_annot: [406 407 408 409 440 441 442 443 444 445 446 486 488 489 490 491 492]\n",
      "\n",
      "Annotations loaded for frames [443, 444] with shape: (2, 178, 3)\n",
      "Checkpoint updated for ['container'] @ [2024-03-28 00:13:04.503101]\n",
      "Checkpoint updated for ['results'] @ [2024-03-28 00:13:04.579135]\n",
      "after loading 0.0\n"
     ]
    },
    {
     "name": "stderr",
     "output_type": "stream",
     "text": [
      "Analyzing movie:   0%|          | 0/1 [00:00<?, ?frames/s]"
     ]
    },
    {
     "name": "stdout",
     "output_type": "stream",
     "text": [
      "\n",
      "Frame #440\t\tParent #406\t\tReference #443\t\tDistance to parent: d=0.0186\n"
     ]
    },
    {
     "name": "stderr",
     "output_type": "stream",
     "text": [
      "\n",
      "Tracking:   0%|          | 0/40 [00:00<?, ?epochs/s]\u001b[A\n",
      "Tracking:   0%|          | 0/40 [00:00<?, ?epochs/s, Loss=0.6152, Loss_R=0.6152, LR=0.0372]\u001b[A\n",
      "Tracking:   0%|          | 0/40 [00:00<?, ?epochs/s, Loss=0.4849, Loss_R=0.4849, LR=0.0372]\u001b[A\n",
      "Tracking:   5%|▌         | 2/40 [00:00<00:02, 17.39epochs/s, Loss=0.4849, Loss_R=0.4849, LR=0.0372]\u001b[A\n",
      "Tracking:   5%|▌         | 2/40 [00:00<00:02, 17.39epochs/s, Loss=0.4019, Loss_R=0.4019, LR=0.0372]\u001b[A\n",
      "Tracking:   5%|▌         | 2/40 [00:00<00:02, 17.39epochs/s, Loss=0.3599, Loss_R=0.3599, LR=0.0372]\u001b[A\n",
      "Tracking:  10%|█         | 4/40 [00:00<00:02, 17.61epochs/s, Loss=0.3599, Loss_R=0.3599, LR=0.0372]\u001b[A\n",
      "Tracking:  10%|█         | 4/40 [00:00<00:02, 17.61epochs/s, Loss=0.3071, Loss_R=0.3071, LR=0.0372]\u001b[A\n",
      "Tracking:  10%|█         | 4/40 [00:00<00:02, 17.61epochs/s, Loss=0.2993, Loss_R=0.2993, LR=0.0372]\u001b[A\n",
      "Tracking:  10%|█         | 4/40 [00:00<00:02, 17.61epochs/s, Loss=0.2969, Loss_R=0.2969, LR=0.0372]\u001b[A\n",
      "Tracking:  10%|█         | 4/40 [00:00<00:02, 17.61epochs/s, Loss=0.2969, Loss_R=0.2969, LR=0.0372]\u001b[A\n",
      "Tracking:  20%|██        | 8/40 [00:00<00:01, 23.84epochs/s, Loss=0.2969, Loss_R=0.2969, LR=0.0372]\u001b[A\n",
      "Tracking:  20%|██        | 8/40 [00:00<00:01, 23.84epochs/s, Loss=0.2954, Loss_R=0.2954, LR=0.0372]\u001b[A\n",
      "Tracking:  20%|██        | 8/40 [00:00<00:01, 23.84epochs/s, Loss=0.2676, Loss_R=0.2676, LR=0.0186]\u001b[A\n",
      "Tracking:  20%|██        | 8/40 [00:00<00:01, 23.84epochs/s, Loss=0.2622, Loss_R=0.2622, LR=0.0186]\u001b[A\n",
      "Tracking:  20%|██        | 8/40 [00:00<00:01, 23.84epochs/s, Loss=0.2612, Loss_R=0.2612, LR=0.0186]\u001b[A\n",
      "Tracking:  20%|██        | 8/40 [00:00<00:01, 23.84epochs/s, Loss=0.2603, Loss_R=0.2603, LR=0.0186]\u001b[A\n",
      "Tracking:  32%|███▎      | 13/40 [00:00<00:00, 32.28epochs/s, Loss=0.2603, Loss_R=0.2603, LR=0.0186]\u001b[A\n",
      "Tracking:  32%|███▎      | 13/40 [00:00<00:00, 32.28epochs/s, Loss=0.2588, Loss_R=0.2588, LR=0.0186]\u001b[A\n",
      "Tracking:  32%|███▎      | 13/40 [00:00<00:00, 32.28epochs/s, Loss=0.1846, Loss_R=0.1846, LR=0.0186]\u001b[A\n",
      "Tracking:  32%|███▎      | 13/40 [00:00<00:00, 32.28epochs/s, Loss=0.1812, Loss_R=0.1812, LR=0.0186]\u001b[A\n",
      "Tracking:  32%|███▎      | 13/40 [00:00<00:00, 32.28epochs/s, Loss=0.1782, Loss_R=0.1782, LR=0.0186]\u001b[A\n",
      "Tracking:  32%|███▎      | 13/40 [00:00<00:00, 32.28epochs/s, Loss=0.1772, Loss_R=0.1772, LR=0.0186]\u001b[A\n",
      "Tracking:  32%|███▎      | 13/40 [00:00<00:00, 32.28epochs/s, Loss=0.1768, Loss_R=0.1768, LR=0.0186]\u001b[A\n",
      "Tracking:  32%|███▎      | 13/40 [00:00<00:00, 32.28epochs/s, Loss=0.1758, Loss_R=0.1758, LR=0.0093]\u001b[A\n",
      "Tracking:  32%|███▎      | 13/40 [00:00<00:00, 32.28epochs/s, Loss=0.1758, Loss_R=0.1758, LR=0.0093]\u001b[A\n",
      "Tracking:  32%|███▎      | 13/40 [00:00<00:00, 32.28epochs/s, Loss=0.1748, Loss_R=0.1748, LR=0.0093]\u001b[A\n",
      "Tracking:  55%|█████▌    | 22/40 [00:00<00:00, 49.99epochs/s, Loss=0.1748, Loss_R=0.1748, LR=0.0093]\u001b[A\n",
      "Tracking:  55%|█████▌    | 22/40 [00:00<00:00, 49.99epochs/s, Loss=0.1743, Loss_R=0.1743, LR=0.0093]\u001b[A\n",
      "Tracking:  55%|█████▌    | 22/40 [00:00<00:00, 49.99epochs/s, Loss=0.1738, Loss_R=0.1738, LR=0.0093]\u001b[A\n",
      "Tracking:  55%|█████▌    | 22/40 [00:00<00:00, 49.99epochs/s, Loss=0.1738, Loss_R=0.1738, LR=0.0093]\u001b[A\n",
      "Tracking:  55%|█████▌    | 22/40 [00:00<00:00, 49.99epochs/s, Loss=0.1743, Loss_R=0.1743, LR=0.0093]\u001b[A\n",
      "Tracking:  55%|█████▌    | 22/40 [00:00<00:00, 49.99epochs/s, Loss=0.1738, Loss_R=0.1738, LR=0.0093]\u001b[A\n",
      "Tracking:  55%|█████▌    | 22/40 [00:00<00:00, 49.99epochs/s, Loss=0.1733, Loss_R=0.1733, LR=0.0093]\u001b[A\n",
      "Tracking:  55%|█████▌    | 22/40 [00:00<00:00, 49.99epochs/s, Loss=0.1729, Loss_R=0.1729, LR=0.0093]\u001b[A\n",
      "Tracking:  55%|█████▌    | 22/40 [00:00<00:00, 49.99epochs/s, Loss=0.1729, Loss_R=0.1729, LR=0.0046]\u001b[A\n",
      "Tracking:  55%|█████▌    | 22/40 [00:00<00:00, 49.99epochs/s, Loss=0.1729, Loss_R=0.1729, LR=0.0046]\u001b[A\n",
      "Tracking:  78%|███████▊  | 31/40 [00:00<00:00, 62.17epochs/s, Loss=0.1729, Loss_R=0.1729, LR=0.0046]\u001b[A\n",
      "Tracking:  78%|███████▊  | 31/40 [00:00<00:00, 62.17epochs/s, Loss=0.1729, Loss_R=0.1729, LR=0.0046]\u001b[A\n",
      "Tracking:  78%|███████▊  | 31/40 [00:00<00:00, 62.17epochs/s, Loss=0.1724, Loss_R=0.1724, LR=0.0046]\u001b[A\n",
      "Tracking:  78%|███████▊  | 31/40 [00:00<00:00, 62.17epochs/s, Loss=0.1733, Loss_R=0.1733, LR=0.0046]\u001b[A\n",
      "Tracking:  78%|███████▊  | 31/40 [00:00<00:00, 62.17epochs/s, Loss=0.1729, Loss_R=0.1729, LR=0.0046]\u001b[A\n",
      "Tracking:  78%|███████▊  | 31/40 [00:00<00:00, 62.17epochs/s, Loss=0.1729, Loss_R=0.1729, LR=0.0046]\u001b[A\n",
      "Tracking:  78%|███████▊  | 31/40 [00:00<00:00, 62.17epochs/s, Loss=0.1724, Loss_R=0.1724, LR=0.0046]\u001b[A\n",
      "Tracking:  78%|███████▊  | 31/40 [00:00<00:00, 62.17epochs/s, Loss=0.1719, Loss_R=0.1719, LR=0.0046]\u001b[A\n",
      "Tracking:  78%|███████▊  | 31/40 [00:00<00:00, 62.17epochs/s, Loss=0.1719, Loss_R=0.1719, LR=0.0046]\u001b[A\n",
      "Tracking:  78%|███████▊  | 31/40 [00:00<00:00, 62.17epochs/s, Loss=0.1714, Loss_R=0.1714, LR=0.0023]\u001b[A\n",
      "Tracking: 100%|██████████| 40/40 [00:00<00:00, 51.44epochs/s, Loss=0.1714, Loss_R=0.1714, LR=0.0023]\u001b[A\n",
      "Analyzing movie: 100%|██████████| 1/1 [00:01<00:00,  1.45s/frames]\n"
     ]
    },
    {
     "name": "stdout",
     "output_type": "stream",
     "text": [
      "!!time 440 [-0.00936973 -0.00266593  0.02746041]\n",
      "\n",
      "Compiling and saving results to file...\n",
      "originalally found matches: 0 after filtered the merged neurons, found matches:  0\n",
      "the updated annotation at time t1 3.5151556\n",
      "the updated annotation at time t2 0.0\n",
      "before loading 0.0\n",
      "Using frame #443 as initial reference with 178 annotations found...\n",
      "t_annot: [406 407 408 409 440 441 442 443 444 445 446 485 486 488 489 490 491 492]\n",
      "\n",
      "Annotations loaded for frames [443, 444] with shape: (2, 178, 3)\n",
      "Checkpoint updated for ['container'] @ [2024-03-28 00:13:07.237455]\n",
      "Checkpoint updated for ['results'] @ [2024-03-28 00:13:07.282121]\n",
      "after loading 0.0\n"
     ]
    },
    {
     "name": "stderr",
     "output_type": "stream",
     "text": [
      "Analyzing movie:   0%|          | 0/1 [00:00<?, ?frames/s]"
     ]
    },
    {
     "name": "stdout",
     "output_type": "stream",
     "text": [
      "\n",
      "Frame #485\t\tParent #440\t\tReference #443\t\tDistance to parent: d=0.0057\n"
     ]
    },
    {
     "name": "stderr",
     "output_type": "stream",
     "text": [
      "\n",
      "Tracking:   0%|          | 0/40 [00:00<?, ?epochs/s]\u001b[A\n",
      "Tracking:   0%|          | 0/40 [00:00<?, ?epochs/s, Loss=0.3726, Loss_R=0.3726, LR=0.0113]\u001b[A\n",
      "Tracking:   0%|          | 0/40 [00:00<?, ?epochs/s, Loss=0.3701, Loss_R=0.3701, LR=0.0113]\u001b[A\n",
      "Tracking:   5%|▌         | 2/40 [00:00<00:02, 17.41epochs/s, Loss=0.3701, Loss_R=0.3701, LR=0.0113]\u001b[A\n",
      "Tracking:   5%|▌         | 2/40 [00:00<00:02, 17.41epochs/s, Loss=0.3652, Loss_R=0.3652, LR=0.0113]\u001b[A\n",
      "Tracking:   5%|▌         | 2/40 [00:00<00:02, 17.41epochs/s, Loss=0.3633, Loss_R=0.3633, LR=0.0113]\u001b[A\n",
      "Tracking:  10%|█         | 4/40 [00:00<00:02, 16.90epochs/s, Loss=0.3633, Loss_R=0.3633, LR=0.0113]\u001b[A\n",
      "Tracking:  10%|█         | 4/40 [00:00<00:02, 16.90epochs/s, Loss=0.3340, Loss_R=0.3340, LR=0.0113]\u001b[A\n",
      "Tracking:  10%|█         | 4/40 [00:00<00:02, 16.90epochs/s, Loss=0.3306, Loss_R=0.3306, LR=0.0113]\u001b[A\n",
      "Tracking:  10%|█         | 4/40 [00:00<00:02, 16.90epochs/s, Loss=0.3267, Loss_R=0.3267, LR=0.0113]\u001b[A\n",
      "Tracking:  18%|█▊        | 7/40 [00:00<00:01, 18.41epochs/s, Loss=0.3267, Loss_R=0.3267, LR=0.0113]\u001b[A\n",
      "Analyzing movie:   0%|          | 0/1 [00:00<?, ?frames/s]\n",
      "\n",
      "KeyboardInterrupt\n",
      "\n"
     ]
    }
   ],
   "source": [
    "rescale = np.array(img_shape) - 1\n",
    "path_graph = 'graph/' \n",
    "seg_path = '/work/venkatachalamlab/Hang/Matching_neuron/seg/'\n",
    "nearby_search_num_list = [5]\n",
    "selected_index = torch.tensor([8,7,2],dtype = torch.long)\n",
    "model_all = load_model_args(model_path, nearby_search_num_list,with_AM, device,train_val)\n",
    "annotation_orig = get_annotation_df(dataset)\n",
    "annotation = copy.deepcopy(annotation_orig)\n",
    "annotation[['x','y','z']] = 0.5\n",
    "annotation[annotation['t_idx']==444] = annotation_orig[annotation_orig['t_idx']==444] \n",
    "\n",
    "### initialize the tracking results and annotations\n",
    "shape_t = container.get('shape_t')\n",
    "shape_n = container.get('shape_n')\n",
    "results = np.zeros((shape_t, shape_n, 3))\n",
    "t_ref=eval(args['--t_ref']) if args['--t_ref'] else None,\n",
    "wlid_ref=eval(args['--wlid_ref']) if args['--wlid_ref'] else None,\n",
    "n_ref=int(args['--n_ref']) if args['--n_ref'] else None,\n",
    "\n",
    "\n",
    "# for i in tqdm(range(2)):\n",
    "for i in range(len(t_frame)-1):\n",
    "    t1 = t_frame[i] ## parent time index\n",
    "    t2 = t_frame[i+1] ## child time index\n",
    "\n",
    "    \n",
    "    ### get the annotation at time t2 from GNN match\n",
    "    removed_seg_ID = find_merged_index_graphdata(seg_path,t1,img_shape,annotation)\n",
    "    df = model_pair_neurons_zephir_frame(path_graph,t1,t2,removed_seg_ID,selected_index,model_all,img_shape,threshold,nearby_search_num_list,with_AM,device,train_val)\n",
    "    index, df_filtered = matched_df(df,annotation,t1,t2,rescale)\n",
    "    \n",
    "    print(\"originalally found matches:\", len(df), \"after filtered the merged neurons, found matches: \",len(df_filtered))\n",
    "\n",
    "    ## only take the unique worldline\n",
    "    # annotation[annotation['t_idx']==t2].iloc[index][['x','y','z']] = df_filtered[['x','y','z']].values\n",
    "    # annotation[annotation['t_idx']==t2].iloc[index]['provenance'] = b'GNN'\n",
    "    # annotation.loc[annotation['t_idx'] == t2, 'parent_id'] = t1\n",
    "    \n",
    "    indices = annotation[annotation['t_idx'] == t2].index\n",
    "    annotation.loc[indices[index], ['x', 'y', 'z']] = df_filtered[['x', 'y', 'z']].values\n",
    "    annotation.loc[indices[index], ['provenance']] = b'GNN'\n",
    "    annotation.loc[indices[index], ['parent_id']] = t1\n",
    "    print(\"the updated annotation at time t1\",np.sum(abs(annotation[annotation['t_idx'] == t1][['x','y','z']].values-0.5)))\n",
    "    print(\"the updated annotation at time t2\",np.sum(abs(annotation[annotation['t_idx'] == t2][['x','y','z']].values-0.5)))\n",
    "\n",
    "    \n",
    "    \n",
    "    ### how to update the annotation in the containter?\n",
    "    t_ref = t_frame[0:i+2]\n",
    "    print(\"before loading\",np.sum(results[t2]))\n",
    "    container, results = build_partial_annotations(container,annotation,results,t_ref,None,None,)\n",
    "    print(\"after loading\",np.sum(results[t2]))\n",
    "    container, results = track_all(\n",
    "        container=container,\n",
    "        results=results,\n",
    "        zephir=zephir,\n",
    "        zephod=zephod,\n",
    "        clip_grad=float(args['--clip_grad']),\n",
    "        lambda_t=float(args['--lambda_t']),\n",
    "        lambda_d=float(args['--lambda_d']),\n",
    "        lambda_n=float(args['--lambda_n']),\n",
    "        lambda_n_mode='norm',\n",
    "        lr_ceiling=float(args['--lr_ceiling']),\n",
    "        # lr_coef=2.0,\n",
    "        lr_floor=float(args['--lr_floor']),\n",
    "        motion_predict=bool(args['--motion_predict']),\n",
    "        n_epoch=int(args['--n_epoch']),\n",
    "        n_epoch_d=int(args['--n_epoch_d']),\n",
    "        _t_list= np.array([t2]),\n",
    "    )\n",
    "    print(\"!!time\",t2, results[t2][0])\n",
    "    \n",
    "    ### save the tracking results into dataset\n",
    "    \n",
    "    \n",
    "    \n",
    "    save_annotations(\n",
    "    container=container,\n",
    "    results=results,\n",
    "    save_mode='o')\n",
    "    \n",
    "    # save_annotations_filename(\n",
    "    # container=container,\n",
    "    # results=results,\n",
    "    # filename='annotations.h5',\n",
    "    # save_mode='o')\n",
    "    \n",
    "    annotation = get_annotation_df(dataset)"
   ]
  },
  {
   "cell_type": "code",
   "execution_count": null,
   "id": "309100cc-5467-4483-9b5c-36a9abb9c9d4",
   "metadata": {},
   "outputs": [],
   "source": []
  },
  {
   "cell_type": "code",
   "execution_count": null,
   "id": "01e88f08-e7fa-490f-95de-28316ee6deb9",
   "metadata": {},
   "outputs": [],
   "source": []
  },
  {
   "cell_type": "code",
   "execution_count": null,
   "id": "ec16600e-1e32-4141-ad03-a2866d866dde",
   "metadata": {},
   "outputs": [],
   "source": []
  },
  {
   "cell_type": "code",
   "execution_count": null,
   "id": "001bb84b-9bc1-4135-9faa-6c1c8483ae3b",
   "metadata": {
    "tags": []
   },
   "outputs": [],
   "source": []
  },
  {
   "cell_type": "code",
   "execution_count": null,
   "id": "ad231932-d9d6-4dc0-ae35-51368eadf6a2",
   "metadata": {},
   "outputs": [],
   "source": []
  },
  {
   "cell_type": "code",
   "execution_count": null,
   "id": "1fe0ec0e-f61b-40b2-94b3-c7fc2d098bcd",
   "metadata": {},
   "outputs": [],
   "source": []
  },
  {
   "cell_type": "code",
   "execution_count": null,
   "id": "bef15dfe-1d08-4b30-b8c0-4161708ad981",
   "metadata": {},
   "outputs": [],
   "source": []
  }
 ],
 "metadata": {
  "kernelspec": {
   "display_name": "Python 3 (ipykernel)",
   "language": "python",
   "name": "python3"
  },
  "language_info": {
   "codemirror_mode": {
    "name": "ipython",
    "version": 3
   },
   "file_extension": ".py",
   "mimetype": "text/x-python",
   "name": "python",
   "nbconvert_exporter": "python",
   "pygments_lexer": "ipython3",
   "version": "3.9.17"
  }
 },
 "nbformat": 4,
 "nbformat_minor": 5
}
