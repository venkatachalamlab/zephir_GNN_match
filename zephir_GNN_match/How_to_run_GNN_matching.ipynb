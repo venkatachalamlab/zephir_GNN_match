{
 "cells": [
  {
   "cell_type": "code",
   "execution_count": null,
   "id": "14a464f0-68a4-481d-971f-f98c4975ffd1",
   "metadata": {},
   "outputs": [],
   "source": []
  },
  {
   "cell_type": "markdown",
   "id": "f8c39c9c-f0c7-496a-8a7b-e2c5807c0b04",
   "metadata": {},
   "source": [
    "# This module to obtain the partial annotation by using the GNN model to match neurons cross frames\n",
    "1. Produce the segmentation from 3D stardist\n",
    "2. Obtain the nodes features and edges for each frame\n",
    "3. Get the order of the frame (parent and child frame order) \\\n",
    "    (1) The fist way is to run the frame_order_zephir.py  \\\n",
    "    (2) if you alread have he order of the tracking as list, igore this step and use it as list. eg:t_fram = [100,103,105,102,104] \n",
    "4. Matching the neurons in two pairs of frame\n",
    "5. Otput the paired neurons coordinates in the annotaiton.h5"
   ]
  },
  {
   "cell_type": "code",
   "execution_count": null,
   "id": "650650fa-4d18-43ca-b047-a5d954203785",
   "metadata": {},
   "outputs": [],
   "source": []
  },
  {
   "cell_type": "code",
   "execution_count": null,
   "id": "ecb6bce8-f7e8-4f64-8fea-771dd5dfc09c",
   "metadata": {},
   "outputs": [],
   "source": []
  },
  {
   "cell_type": "markdown",
   "id": "d37b3e48-ed1f-4897-847e-ba2e58bf8fe8",
   "metadata": {},
   "source": [
    "## Preparation: install tensorflow, pytroch\n",
    "Please let me know if any package you need can not be installed"
   ]
  },
  {
   "cell_type": "code",
   "execution_count": null,
   "id": "ec2d0ae4-8c62-4915-a677-370080e9245d",
   "metadata": {},
   "outputs": [],
   "source": []
  },
  {
   "cell_type": "code",
   "execution_count": 1,
   "id": "d40fe490-d9f8-4ace-ba2e-b53d8a94b603",
   "metadata": {},
   "outputs": [],
   "source": [
    "import time\n",
    "t0 = time.time()"
   ]
  },
  {
   "cell_type": "markdown",
   "id": "2c495646-b789-42d4-a129-0b207e75d8c8",
   "metadata": {},
   "source": [
    "## 1: Extract the features from the segmented files, convert into graph, save it as pt\n",
    "make sure you have already segmented the volume and load the path of folder"
   ]
  },
  {
   "cell_type": "code",
   "execution_count": 2,
   "id": "71e325d5-8fd0-4484-9ac7-470c7dee0c71",
   "metadata": {
    "tags": []
   },
   "outputs": [],
   "source": [
    "from MatchPartial.Graph_data import *\n",
    "from MatchPartial.parameters import *"
   ]
  },
  {
   "cell_type": "code",
   "execution_count": 3,
   "id": "7c3f27f1-7b3c-445f-b287-044cf64b9099",
   "metadata": {
    "tags": []
   },
   "outputs": [
    {
     "name": "stdout",
     "output_type": "stream",
     "text": [
      "packages loaded\n"
     ]
    }
   ],
   "source": [
    "print(\"packages loaded\")"
   ]
  },
  {
   "cell_type": "code",
   "execution_count": 4,
   "id": "efd1d2f0-4287-4ec7-939c-2958baab17ea",
   "metadata": {
    "tags": []
   },
   "outputs": [],
   "source": [
    "path_graph = 'graph/'  ## the saving path of graph for each time index, the graph path contain nodes and edge features for each frame\n",
    "pathlib.Path(path_graph).mkdir(parents=True, exist_ok=True) "
   ]
  },
  {
   "cell_type": "code",
   "execution_count": 5,
   "id": "5d229f1a-9882-494f-a05f-278615d4cb0f",
   "metadata": {
    "tags": []
   },
   "outputs": [],
   "source": [
    "# # t_max = 2\n",
    "# def save_data(t_idx):\n",
    "#     [ch,num_nearest] = [1,5] ## ch is which channel to load the image, for NeuroPal please convert into RGB then use it\n",
    "#     data = get_data_generator(t_idx, ch, num_nearest,img_h5_path,seg_h5_path,annotation_path,train_val)\n",
    "#     torch.save(data, f'{path_graph}{t_idx}.pt')\n",
    "\n",
    "# with concurrent.futures.ThreadPoolExecutor() as executor:\n",
    "#     executor.map(save_data, tqdm(range(0,t_max )))"
   ]
  },
  {
   "cell_type": "code",
   "execution_count": null,
   "id": "153c610c-ce8b-4e8f-8844-6a3f42fe4f8e",
   "metadata": {},
   "outputs": [],
   "source": []
  },
  {
   "cell_type": "code",
   "execution_count": null,
   "id": "f914465c-5d9e-4df4-a393-8060df2f3a63",
   "metadata": {
    "tags": []
   },
   "outputs": [],
   "source": []
  },
  {
   "cell_type": "code",
   "execution_count": null,
   "id": "614d32ce-aa9d-4a2b-a07a-bf7c1e5f468e",
   "metadata": {},
   "outputs": [],
   "source": []
  },
  {
   "cell_type": "markdown",
   "id": "c57d1e16-65a7-47a3-b9f2-45f95cd36e8b",
   "metadata": {
    "tags": []
   },
   "source": [
    "## 2. Get the tracking frame order\n",
    "Note: Pass this step and directly run the matching function if you have the order of the tracking frames"
   ]
  },
  {
   "cell_type": "code",
   "execution_count": 6,
   "id": "2b6cc97a-9b2f-479a-9fee-a4e9011c3f15",
   "metadata": {
    "tags": []
   },
   "outputs": [
    {
     "name": "stdout",
     "output_type": "stream",
     "text": [
      "Checkpoint updated for ['container'] @ [2024-03-27 23:38:23.824636]\n",
      "Using frame #444 as initial reference with 178 annotations found...\n",
      "\n",
      "Annotations loaded for frames [444] with shape: (1, 178, 3)\n",
      "Checkpoint updated for ['container'] @ [2024-03-27 23:38:23.995787]\n",
      "Checkpoint updated for ['results'] @ [2024-03-27 23:38:24.057757]\n",
      "\n",
      "Compiling models and loss function...\n",
      "******* ERROR: Zephod checkpoint file not found!\n",
      "Checkpoint updated for ['container'] @ [2024-03-27 23:38:24.193850]\n",
      "Checkpoint updated for ['zephir_kwargs', 'zephir', 'zephod'] @ [2024-03-27 23:38:24.277232]\n",
      "\n",
      "Building neighbor tree...\n",
      "Checkpoint updated for ['container'] @ [2024-03-27 23:38:24.330829]\n",
      "\n",
      "Building frame correlation graph...\n",
      "\n",
      "Sorting frames by similarity to parent...\n",
      "\n",
      "Frames sorted with max/mean distance\t0.5786 / 0.0178\n",
      "Checkpoint updated for ['container'] @ [2024-03-27 23:38:26.660094]\n"
     ]
    }
   ],
   "source": [
    "from frame_order_zephir import *\n",
    "from MatchPartial.parameters import *"
   ]
  },
  {
   "cell_type": "code",
   "execution_count": null,
   "id": "ea44e432-ee9d-441c-aa39-9453e1125d93",
   "metadata": {},
   "outputs": [],
   "source": []
  },
  {
   "cell_type": "code",
   "execution_count": 7,
   "id": "b8f46433-0f21-4bc4-88d0-a76510768a32",
   "metadata": {
    "tags": []
   },
   "outputs": [
    {
     "name": "stdout",
     "output_type": "stream",
     "text": [
      "the tracking frame order list that zephir is using [444, 443, 489, 442, 488, 445, 446, 486, 441, 490, 491, 492, 407, 408, 409, 406, 440, 485, 530, 529, 528, 527, 526, 482, 483, 484, 439, 438, 531, 532, 533, 534, 535, 536, 537, 591, 589, 590, 588, 586, 587, 585, 584, 583, 582, 581, 525, 524, 481, 437, 592, 593, 594, 595, 596, 546, 545, 547, 548, 549, 551, 552, 553, 556, 557, 558, 550, 555, 554, 511, 512, 510, 513, 514, 515, 516, 517, 518, 509, 520, 464, 462, 463, 508, 503, 506, 505, 504, 507, 456, 457, 502, 454, 501, 458, 604, 603, 602, 600, 601, 605, 611, 613, 616, 615, 614, 606, 607, 608, 609, 610, 498, 617, 618, 620, 619, 621, 622, 624, 623, 625, 627, 626, 628, 634, 632, 638, 637, 639, 640, 635, 631, 630, 629, 636, 641, 633, 642, 612, 499, 500, 567, 568, 569, 570, 565, 564, 563, 562, 561, 559, 599, 598, 974, 976, 977, 978, 975, 980, 979, 981, 982, 983, 984, 985, 986, 987, 973, 972, 971, 962, 965, 964, 961, 960, 963, 988, 990, 989, 992, 991, 993, 995, 998, 999, 1000, 994, 996, 997, 1001, 1002, 1003, 1004, 1005, 1009, 1013, 1008, 1018, 1012, 1010, 1015, 1014, 1011, 1016, 1007, 1023, 1021, 1024, 1026, 1019, 1025, 1022, 1017, 1020, 1029, 1030, 1031, 1034, 1033, 1035, 1037, 1036, 1032, 1038, 1039, 1027, 1028, 1006, 1040, 1041, 1042, 1043, 1044, 1045, 1046, 959, 966, 969, 970, 885, 821, 784, 886, 883, 884, 882, 881, 880, 879, 878, 887, 888, 889, 890, 891, 892, 894, 893, 895, 897, 896, 899, 900, 905, 904, 902, 903, 906, 907, 901, 908, 898, 909, 755, 820, 819, 783, 967, 968, 958, 957, 825, 758, 707, 786, 826, 956, 823, 822, 757, 728, 875, 461, 465, 460, 477, 466, 467, 476, 427, 472, 471, 469, 473, 470, 474, 475, 468, 425, 426, 424, 877, 876, 431, 785, 756, 706, 729, 824, 787, 788, 730, 829, 830, 832, 831, 833, 834, 835, 836, 828, 759, 837, 761, 789, 790, 762, 791, 760, 708, 838, 827, 731, 732, 733, 710, 709, 734, 711, 839, 455, 782, 754, 763, 453, 781, 816, 874, 873, 815, 872, 814, 779, 871, 953, 954, 955, 780, 813, 951, 870, 950, 949, 868, 869, 867, 866, 865, 864, 809, 776, 808, 807, 806, 810, 811, 777, 774, 805, 778, 817, 818, 726, 863, 862, 861, 860, 859, 803, 804, 723, 749, 812, 773, 775, 948, 946, 945, 944, 943, 942, 941, 940, 939, 938, 947, 702, 750, 429, 764, 793, 841, 842, 840, 911, 843, 844, 845, 912, 913, 914, 915, 916, 846, 917, 918, 919, 920, 921, 922, 923, 924, 925, 926, 927, 928, 929, 930, 931, 848, 932, 933, 849, 850, 847, 712, 851, 852, 853, 854, 855, 856, 857, 692, 736, 934, 935, 936, 937, 910, 798, 800, 737, 735, 713, 432, 519, 858, 724, 703, 771, 718, 697, 952, 740, 715, 695, 716, 741, 792, 423, 801, 802, 770, 742, 717, 799, 478, 739, 797, 694, 796, 714, 767, 738, 766, 795, 794, 765, 752, 571, 753, 691, 690, 689, 451, 452, 417, 418, 416, 597, 420, 421, 422, 696, 751, 768, 688, 772, 744, 693, 430, 769, 433, 479, 434, 727, 705, 743, 572, 573, 574, 575, 576, 577, 578, 579, 580, 190, 189, 188, 61, 60, 59, 55, 54, 19, 77, 53, 52, 95, 142, 76, 37, 36, 96, 75, 93, 92, 114, 115, 138, 139, 116, 160, 94, 140, 117, 159, 121, 122, 141, 123, 157, 158, 137, 113, 136, 118, 179, 80, 21, 20, 79, 57, 163, 91, 161, 35, 34, 162, 18, 178, 17, 33, 51, 180, 181, 184, 183, 182, 119, 186, 725, 704, 747, 721, 700, 748, 722, 701, 746, 720, 699, 745, 719, 671, 670, 669, 672, 6, 5, 4, 144, 566, 497, 98, 165, 698, 661, 659, 658, 660, 657, 656, 655, 683, 662, 1047, 643, 419, 74, 62, 193, 414, 496, 449, 448, 97, 143, 78, 58, 459, 435, 436, 480, 523, 522, 521, 187, 450, 447, 404, 38, 22, 191, 415, 405, 654, 653, 676, 673, 64, 544, 543, 542, 539, 538, 540, 16, 32, 50, 177, 156, 112, 198, 199, 200, 201, 202, 203, 82, 146, 167, 41, 125, 100, 101, 126, 83, 65, 147, 168, 102, 148, 169, 127, 84, 43, 26, 44, 68, 45, 27, 86, 149, 103, 150, 66, 171, 67, 85, 170, 25, 172, 24, 42, 104, 174, 47, 48, 70, 88, 128, 105, 106, 151, 131, 153, 130, 129, 87, 30, 71, 13, 175, 154, 12, 29, 1, 413, 133, 495, 120, 145, 81, 124, 63, 192, 648, 649, 646, 647, 650, 651, 645, 487, 10, 687, 166, 99, 40, 132, 494, 428, 652, 56, 7, 8, 410, 411, 23, 299, 321, 322, 300, 278, 219, 257, 238, 258, 239, 259, 220, 240, 221, 260, 241, 277, 237, 256, 276, 236, 255, 218, 46, 28, 279, 280, 302, 324, 323, 301, 281, 325, 303, 109, 110, 108, 90, 73, 15, 31, 176, 155, 684, 663, 664, 675, 298, 320, 319, 297, 318, 296, 344, 345, 346, 343, 317, 295, 316, 342, 294, 341, 89, 14, 560, 1059, 1058, 1057, 1056, 1055, 1054, 1053, 1052, 1051, 1050, 1049, 1048, 49, 72, 493, 164, 667, 668, 222, 242, 261, 541, 403, 678, 677, 337, 313, 291, 290, 312, 336, 335, 311, 289, 334, 333, 310, 288, 332, 309, 331, 287, 338, 314, 339, 340, 315, 292, 214, 213, 212, 211, 210, 209, 208, 293, 231, 249, 269, 268, 250, 248, 229, 230, 267, 247, 270, 232, 271, 251, 228, 227, 246, 265, 245, 264, 244, 225, 685, 39, 9, 263, 243, 224, 262, 223, 308, 330, 286, 307, 285, 329, 3, 185, 135, 111, 402, 0, 11, 215, 233, 275, 254, 235, 274, 273, 69, 217, 194, 666, 107, 152, 173, 207, 347, 348, 349, 350, 351, 352, 353, 680, 681, 682, 679, 134, 304, 282, 326, 306, 284, 328, 305, 327, 283, 412, 674, 686, 665, 266, 2, 195, 226, 204, 252, 253, 272, 205, 206, 234, 216, 401, 197, 354, 355, 358, 357, 359, 360, 369, 368, 367, 370, 366, 365, 364, 362, 363, 361, 371, 356, 196, 644, 372, 373, 374, 375, 376, 377, 378, 379, 380, 381, 382, 383, 384, 385, 386, 387, 388, 389, 390, 391, 392, 393, 400, 394, 399, 397, 395, 396, 398]\n"
     ]
    }
   ],
   "source": [
    "print(\"the tracking frame order list that zephir is using\", t_frame)"
   ]
  },
  {
   "cell_type": "code",
   "execution_count": null,
   "id": "f69f3804-646b-489f-b4a5-e31e1234b797",
   "metadata": {},
   "outputs": [],
   "source": []
  },
  {
   "cell_type": "code",
   "execution_count": null,
   "id": "a75161d9-bc4e-4217-8357-4519490b6a00",
   "metadata": {},
   "outputs": [],
   "source": []
  },
  {
   "cell_type": "markdown",
   "id": "ef7011e2-e398-4bf8-8270-ee2e5d12872d",
   "metadata": {},
   "source": [
    "## 3. Getting the link and store them into the annotations"
   ]
  },
  {
   "cell_type": "code",
   "execution_count": 8,
   "id": "8f56f862-96b9-4e6b-9eb4-fec7cb19854a",
   "metadata": {
    "tags": []
   },
   "outputs": [],
   "source": [
    "from MatchPartial.eval_func import *\n",
    "from MatchPartial.parameters import *"
   ]
  },
  {
   "cell_type": "code",
   "execution_count": 9,
   "id": "0c23690a-dd69-4d85-8839-6810a982865a",
   "metadata": {
    "tags": []
   },
   "outputs": [],
   "source": [
    "# path_graph = 'graph/' \n",
    "# nearby_search_num_list = [5]\n",
    "# model_all = load_model_args(model_path, nearby_search_num_list,with_AM, device,train_val)\n",
    "# df_all = model_match_patial_neurons(path_graph,t_frame,model_all,img_shape,threshold,nearby_search_num_list,with_AM,device,train_val)\n",
    "# save_pandas_h5(save_matched_path, df_all)\n",
    "# print(\"Output all the matched annotaiton in the path: \", save_matched_path)"
   ]
  },
  {
   "cell_type": "code",
   "execution_count": 10,
   "id": "dd45bec9-3694-4ba1-8549-5188b8d3d1cc",
   "metadata": {
    "tags": []
   },
   "outputs": [],
   "source": [
    "# print(\"The time of running the whole segmented datasets: \",t1-t0)\n",
    "# print(\"the number of found partial annotations: \",len(df_all)/(np.max(t_frame)+1))"
   ]
  },
  {
   "cell_type": "code",
   "execution_count": null,
   "id": "d146dd4d-e16a-4469-8740-ca2e043ed294",
   "metadata": {
    "tags": []
   },
   "outputs": [],
   "source": []
  },
  {
   "cell_type": "code",
   "execution_count": null,
   "id": "282c65cc-112a-47b1-b826-5c9443fcb478",
   "metadata": {},
   "outputs": [],
   "source": []
  },
  {
   "cell_type": "code",
   "execution_count": null,
   "id": "aebd45d3-0a39-43c8-b9cb-247d378a941e",
   "metadata": {},
   "outputs": [],
   "source": []
  },
  {
   "cell_type": "markdown",
   "id": "78af9832-4863-4d1a-8863-1eaf53e2039d",
   "metadata": {},
   "source": [
    "## 4. The following is based on the zephir running\n",
    "4.1 The matched annotation from the step 3 is assuming each neuron is well segmented. In the real cases, some are merged in the z direction, leading the mismatch in the next frame. So we find out the annotations that are in the merged neurons and remove these connectivity. \\\n",
    "4.2 The annotation is in the merged neurons, which means there are multiple annotations obtained from the zephir tracking and used as parent frame annotaiton in the segmented neuron. Once the merged segmented neurons are located, the center of it is the megred annotation that needs to be removed."
   ]
  },
  {
   "cell_type": "code",
   "execution_count": null,
   "id": "85c04887-ac3b-4a8f-b92b-1f5a1ddba11f",
   "metadata": {},
   "outputs": [],
   "source": []
  },
  {
   "cell_type": "code",
   "execution_count": null,
   "id": "92753406-03c0-4b2c-a7bc-bd039678c091",
   "metadata": {
    "tags": []
   },
   "outputs": [],
   "source": []
  },
  {
   "cell_type": "markdown",
   "id": "e62ca3ff-1539-4ff8-8f3b-4484a45dc30c",
   "metadata": {},
   "source": [
    "## runing test"
   ]
  },
  {
   "cell_type": "code",
   "execution_count": 11,
   "id": "0163c565-f09c-46b9-b70f-559909c7064c",
   "metadata": {
    "tags": []
   },
   "outputs": [
    {
     "data": {
      "text/plain": [
       "'/work/venkatachalamlab/Hang/GNN_matching_git/code/GNN_match/ZM9624/'"
      ]
     },
     "execution_count": 11,
     "metadata": {},
     "output_type": "execute_result"
    }
   ],
   "source": [
    "dataset_path"
   ]
  },
  {
   "cell_type": "code",
   "execution_count": 12,
   "id": "6e0c43fd-d689-476b-9de4-2efe90750de0",
   "metadata": {
    "tags": []
   },
   "outputs": [
    {
     "data": {
      "text/html": [
       "<div>\n",
       "<style scoped>\n",
       "    .dataframe tbody tr th:only-of-type {\n",
       "        vertical-align: middle;\n",
       "    }\n",
       "\n",
       "    .dataframe tbody tr th {\n",
       "        vertical-align: top;\n",
       "    }\n",
       "\n",
       "    .dataframe thead th {\n",
       "        text-align: right;\n",
       "    }\n",
       "</style>\n",
       "<table border=\"1\" class=\"dataframe\">\n",
       "  <thead>\n",
       "    <tr style=\"text-align: right;\">\n",
       "      <th></th>\n",
       "      <th>id</th>\n",
       "      <th>parent_id</th>\n",
       "      <th>provenance</th>\n",
       "      <th>t_idx</th>\n",
       "      <th>worldline_id</th>\n",
       "      <th>x</th>\n",
       "      <th>y</th>\n",
       "      <th>z</th>\n",
       "    </tr>\n",
       "  </thead>\n",
       "  <tbody>\n",
       "    <tr>\n",
       "      <th>123532</th>\n",
       "      <td>123533</td>\n",
       "      <td>739</td>\n",
       "      <td>b'ZEIR'</td>\n",
       "      <td>694</td>\n",
       "      <td>0</td>\n",
       "      <td>0.487306</td>\n",
       "      <td>0.531973</td>\n",
       "      <td>10.038951</td>\n",
       "    </tr>\n",
       "    <tr>\n",
       "      <th>123533</th>\n",
       "      <td>123534</td>\n",
       "      <td>739</td>\n",
       "      <td>b'ZEIR'</td>\n",
       "      <td>694</td>\n",
       "      <td>1</td>\n",
       "      <td>0.487306</td>\n",
       "      <td>0.531973</td>\n",
       "      <td>10.038951</td>\n",
       "    </tr>\n",
       "    <tr>\n",
       "      <th>123534</th>\n",
       "      <td>123535</td>\n",
       "      <td>739</td>\n",
       "      <td>b'ZEIR'</td>\n",
       "      <td>694</td>\n",
       "      <td>2</td>\n",
       "      <td>0.487303</td>\n",
       "      <td>0.532768</td>\n",
       "      <td>0.316865</td>\n",
       "    </tr>\n",
       "    <tr>\n",
       "      <th>123535</th>\n",
       "      <td>123536</td>\n",
       "      <td>739</td>\n",
       "      <td>b'ZEIR'</td>\n",
       "      <td>694</td>\n",
       "      <td>3</td>\n",
       "      <td>0.487303</td>\n",
       "      <td>0.532768</td>\n",
       "      <td>0.316865</td>\n",
       "    </tr>\n",
       "    <tr>\n",
       "      <th>123536</th>\n",
       "      <td>123537</td>\n",
       "      <td>739</td>\n",
       "      <td>b'ZEIR'</td>\n",
       "      <td>694</td>\n",
       "      <td>4</td>\n",
       "      <td>0.487306</td>\n",
       "      <td>0.531973</td>\n",
       "      <td>10.038951</td>\n",
       "    </tr>\n",
       "    <tr>\n",
       "      <th>...</th>\n",
       "      <td>...</td>\n",
       "      <td>...</td>\n",
       "      <td>...</td>\n",
       "      <td>...</td>\n",
       "      <td>...</td>\n",
       "      <td>...</td>\n",
       "      <td>...</td>\n",
       "      <td>...</td>\n",
       "    </tr>\n",
       "    <tr>\n",
       "      <th>123705</th>\n",
       "      <td>123706</td>\n",
       "      <td>739</td>\n",
       "      <td>b'ZEIR'</td>\n",
       "      <td>694</td>\n",
       "      <td>174</td>\n",
       "      <td>0.487303</td>\n",
       "      <td>0.532768</td>\n",
       "      <td>0.316865</td>\n",
       "    </tr>\n",
       "    <tr>\n",
       "      <th>123706</th>\n",
       "      <td>123707</td>\n",
       "      <td>739</td>\n",
       "      <td>b'ZEIR'</td>\n",
       "      <td>694</td>\n",
       "      <td>175</td>\n",
       "      <td>0.487303</td>\n",
       "      <td>0.532768</td>\n",
       "      <td>0.316865</td>\n",
       "    </tr>\n",
       "    <tr>\n",
       "      <th>123707</th>\n",
       "      <td>123708</td>\n",
       "      <td>739</td>\n",
       "      <td>b'ZEIR'</td>\n",
       "      <td>694</td>\n",
       "      <td>176</td>\n",
       "      <td>0.487303</td>\n",
       "      <td>0.532768</td>\n",
       "      <td>0.316865</td>\n",
       "    </tr>\n",
       "    <tr>\n",
       "      <th>123708</th>\n",
       "      <td>123709</td>\n",
       "      <td>739</td>\n",
       "      <td>b'ZEIR'</td>\n",
       "      <td>694</td>\n",
       "      <td>177</td>\n",
       "      <td>0.487303</td>\n",
       "      <td>0.532768</td>\n",
       "      <td>0.316865</td>\n",
       "    </tr>\n",
       "    <tr>\n",
       "      <th>123709</th>\n",
       "      <td>123710</td>\n",
       "      <td>739</td>\n",
       "      <td>b'ZEIR'</td>\n",
       "      <td>694</td>\n",
       "      <td>178</td>\n",
       "      <td>0.487303</td>\n",
       "      <td>0.532768</td>\n",
       "      <td>0.316865</td>\n",
       "    </tr>\n",
       "  </tbody>\n",
       "</table>\n",
       "<p>178 rows × 8 columns</p>\n",
       "</div>"
      ],
      "text/plain": [
       "            id  parent_id provenance  t_idx  worldline_id         x         y  \\\n",
       "123532  123533        739    b'ZEIR'    694             0  0.487306  0.531973   \n",
       "123533  123534        739    b'ZEIR'    694             1  0.487306  0.531973   \n",
       "123534  123535        739    b'ZEIR'    694             2  0.487303  0.532768   \n",
       "123535  123536        739    b'ZEIR'    694             3  0.487303  0.532768   \n",
       "123536  123537        739    b'ZEIR'    694             4  0.487306  0.531973   \n",
       "...        ...        ...        ...    ...           ...       ...       ...   \n",
       "123705  123706        739    b'ZEIR'    694           174  0.487303  0.532768   \n",
       "123706  123707        739    b'ZEIR'    694           175  0.487303  0.532768   \n",
       "123707  123708        739    b'ZEIR'    694           176  0.487303  0.532768   \n",
       "123708  123709        739    b'ZEIR'    694           177  0.487303  0.532768   \n",
       "123709  123710        739    b'ZEIR'    694           178  0.487303  0.532768   \n",
       "\n",
       "                z  \n",
       "123532  10.038951  \n",
       "123533  10.038951  \n",
       "123534   0.316865  \n",
       "123535   0.316865  \n",
       "123536  10.038951  \n",
       "...           ...  \n",
       "123705   0.316865  \n",
       "123706   0.316865  \n",
       "123707   0.316865  \n",
       "123708   0.316865  \n",
       "123709   0.316865  \n",
       "\n",
       "[178 rows x 8 columns]"
      ]
     },
     "execution_count": 12,
     "metadata": {},
     "output_type": "execute_result"
    }
   ],
   "source": [
    "dataset = Path(dataset_path)\n",
    "annotation = get_annotation_df(dataset)\n",
    "idx = 500\n",
    "annotation[annotation['t_idx']==t_frame[idx]]"
   ]
  },
  {
   "cell_type": "code",
   "execution_count": null,
   "id": "ad256055-421d-4db3-9c74-6c74735860ba",
   "metadata": {
    "tags": []
   },
   "outputs": [],
   "source": []
  },
  {
   "cell_type": "code",
   "execution_count": null,
   "id": "20d7a893-2084-4797-bd1d-72294bcc7bc7",
   "metadata": {},
   "outputs": [],
   "source": []
  },
  {
   "cell_type": "code",
   "execution_count": null,
   "id": "90450bae-4bc1-4fc4-9c0d-cafe34b04a5f",
   "metadata": {},
   "outputs": [],
   "source": []
  },
  {
   "cell_type": "code",
   "execution_count": null,
   "id": "d26c4dcc-ab5b-4322-b4f9-f462ad3b46cc",
   "metadata": {},
   "outputs": [],
   "source": []
  },
  {
   "cell_type": "markdown",
   "id": "0d377129-c542-4c5d-8590-2b2b76c908bd",
   "metadata": {
    "tags": []
   },
   "source": [
    "## runing test"
   ]
  },
  {
   "cell_type": "code",
   "execution_count": null,
   "id": "fbd2620e-62eb-448e-8306-f5c13c5793e0",
   "metadata": {
    "tags": []
   },
   "outputs": [],
   "source": []
  },
  {
   "cell_type": "code",
   "execution_count": null,
   "id": "5a13fa03-7451-4133-a820-27ae84861035",
   "metadata": {},
   "outputs": [],
   "source": []
  },
  {
   "cell_type": "code",
   "execution_count": 13,
   "id": "5d337742-f17a-4615-9a8e-85c8a73e2fa8",
   "metadata": {
    "collapsed": true,
    "jupyter": {
     "outputs_hidden": true
    },
    "tags": []
   },
   "outputs": [
    {
     "name": "stderr",
     "output_type": "stream",
     "text": [
      "  0%|          | 0/2 [00:00<?, ?it/s]"
     ]
    },
    {
     "name": "stdout",
     "output_type": "stream",
     "text": [
      "originalally found matches: 0 after filtered the merged neurons, found matches:  0\n",
      "the updated annotation at time t1 0.0\n",
      "the updated annotation at time t2 0.0\n",
      "before loading 0.0\n",
      "Using frame #443 as initial reference with 178 annotations found...\n",
      "t_annot: [443 444]\n",
      "\n",
      "Annotations loaded for frames [443, 444] with shape: (2, 178, 3)\n",
      "Checkpoint updated for ['container'] @ [2024-03-27 23:38:28.578623]\n",
      "Checkpoint updated for ['results'] @ [2024-03-27 23:38:28.642373]\n",
      "after loading 0.0\n"
     ]
    },
    {
     "name": "stderr",
     "output_type": "stream",
     "text": [
      "\n",
      "                                      [00:00<?, ?frames/s]\u001b[A\n",
      "  0%|          | 0/2 [00:01<?, ?it/s]                     \n",
      "Analyzing movie:   0%|          | 0/1 [00:00<?, ?frames/s]\u001b[A"
     ]
    },
    {
     "name": "stdout",
     "output_type": "stream",
     "text": [
      "\n",
      "Frame #443\t\tParent #444\t\tReference #443\t\tDistance to parent: d=0.0107\n"
     ]
    },
    {
     "name": "stderr",
     "output_type": "stream",
     "text": [
      "\n",
      "\n",
      "Tracking:   0%|          | 0/40 [00:00<?, ?epochs/s]\u001b[A\u001b[A\n",
      "\n",
      "Tracking:   0%|          | 0/40 [00:00<?, ?epochs/s, Loss=0.3296, Loss_R=0.3296, LR=0.0213]\u001b[A\u001b[A\n",
      "\n",
      "Tracking:   2%|▎         | 1/40 [00:00<00:11,  3.27epochs/s, Loss=0.3296, Loss_R=0.3296, LR=0.0213]\u001b[A\u001b[A\n",
      "\n",
      "Tracking:   2%|▎         | 1/40 [00:00<00:11,  3.27epochs/s, Loss=0.3306, Loss_R=0.3306, LR=0.0213]\u001b[A\u001b[A\n",
      "\n",
      "Tracking:   2%|▎         | 1/40 [00:00<00:11,  3.27epochs/s, Loss=0.3306, Loss_R=0.3306, LR=0.0213]\u001b[A\u001b[A\n",
      "\n",
      "Tracking:   8%|▊         | 3/40 [00:00<00:04,  7.98epochs/s, Loss=0.3306, Loss_R=0.3306, LR=0.0213]\u001b[A\u001b[A\n",
      "\n",
      "Tracking:   8%|▊         | 3/40 [00:00<00:04,  7.98epochs/s, Loss=0.3306, Loss_R=0.3306, LR=0.0213]\u001b[A\u001b[A\n",
      "\n",
      "Tracking:   8%|▊         | 3/40 [00:00<00:04,  7.98epochs/s, Loss=0.2764, Loss_R=0.2764, LR=0.0213]\u001b[A\u001b[A\n",
      "\n",
      "Tracking:  12%|█▎        | 5/40 [00:00<00:04,  8.57epochs/s, Loss=0.2764, Loss_R=0.2764, LR=0.0213]\u001b[A\u001b[A\n",
      "\n",
      "Tracking:  12%|█▎        | 5/40 [00:00<00:04,  8.57epochs/s, Loss=0.2764, Loss_R=0.2764, LR=0.0213]\u001b[A\u001b[A\n",
      "\n",
      "Tracking:  12%|█▎        | 5/40 [00:00<00:04,  8.57epochs/s, Loss=0.2764, Loss_R=0.2764, LR=0.0213]\u001b[A\u001b[A\n",
      "\n",
      "Tracking:  12%|█▎        | 5/40 [00:00<00:04,  8.57epochs/s, Loss=0.2764, Loss_R=0.2764, LR=0.0213]\u001b[A\u001b[A\n",
      "\n",
      "Tracking:  20%|██        | 8/40 [00:00<00:02, 13.57epochs/s, Loss=0.2764, Loss_R=0.2764, LR=0.0213]\u001b[A\u001b[A\n",
      "\n",
      "Tracking:  20%|██        | 8/40 [00:00<00:02, 13.57epochs/s, Loss=0.2764, Loss_R=0.2764, LR=0.0213]\u001b[A\u001b[A\n",
      "\n",
      "Tracking:  20%|██        | 8/40 [00:00<00:02, 13.57epochs/s, Loss=0.2256, Loss_R=0.2256, LR=0.0107]\u001b[A\u001b[A\n",
      "\n",
      "Tracking:  20%|██        | 8/40 [00:00<00:02, 13.57epochs/s, Loss=0.2256, Loss_R=0.2256, LR=0.0107]\u001b[A\u001b[A\n",
      "\n",
      "Tracking:  20%|██        | 8/40 [00:00<00:02, 13.57epochs/s, Loss=0.2256, Loss_R=0.2256, LR=0.0107]\u001b[A\u001b[A\n",
      "\n",
      "Tracking:  20%|██        | 8/40 [00:00<00:02, 13.57epochs/s, Loss=0.2256, Loss_R=0.2256, LR=0.0107]\u001b[A\u001b[A\n",
      "\n",
      "Tracking:  20%|██        | 8/40 [00:00<00:02, 13.57epochs/s, Loss=0.2256, Loss_R=0.2256, LR=0.0107]\u001b[A\u001b[A\n",
      "\n",
      "Tracking:  35%|███▌      | 14/40 [00:00<00:01, 24.54epochs/s, Loss=0.2256, Loss_R=0.2256, LR=0.0107]\u001b[A\u001b[A\n",
      "\n",
      "Tracking:  35%|███▌      | 14/40 [00:00<00:01, 24.54epochs/s, Loss=0.0791, Loss_R=0.0791, LR=0.0107]\u001b[A\u001b[A\n",
      "\n",
      "Tracking:  35%|███▌      | 14/40 [00:00<00:01, 24.54epochs/s, Loss=0.0786, Loss_R=0.0786, LR=0.0107]\u001b[A\u001b[A\n",
      "\n",
      "Tracking:  35%|███▌      | 14/40 [00:00<00:01, 24.54epochs/s, Loss=0.0786, Loss_R=0.0786, LR=0.0107]\u001b[A\u001b[A\n",
      "\n",
      "Tracking:  35%|███▌      | 14/40 [00:00<00:01, 24.54epochs/s, Loss=0.0786, Loss_R=0.0786, LR=0.0107]\u001b[A\u001b[A\n",
      "\n",
      "Tracking:  35%|███▌      | 14/40 [00:00<00:01, 24.54epochs/s, Loss=0.0786, Loss_R=0.0786, LR=0.0107]\u001b[A\u001b[A\n",
      "\n",
      "Tracking:  35%|███▌      | 14/40 [00:00<00:01, 24.54epochs/s, Loss=0.0786, Loss_R=0.0786, LR=0.0053]\u001b[A\u001b[A\n",
      "\n",
      "Tracking:  35%|███▌      | 14/40 [00:00<00:01, 24.54epochs/s, Loss=0.0791, Loss_R=0.0791, LR=0.0053]\u001b[A\u001b[A\n",
      "\n",
      "Tracking:  35%|███▌      | 14/40 [00:00<00:01, 24.54epochs/s, Loss=0.0791, Loss_R=0.0791, LR=0.0053]\u001b[A\u001b[A\n",
      "\n",
      "Tracking:  35%|███▌      | 14/40 [00:00<00:01, 24.54epochs/s, Loss=0.0786, Loss_R=0.0786, LR=0.0053]\u001b[A\u001b[A\n",
      "\n",
      "Tracking:  57%|█████▊    | 23/40 [00:00<00:00, 40.61epochs/s, Loss=0.0786, Loss_R=0.0786, LR=0.0053]\u001b[A\u001b[A\n",
      "\n",
      "Tracking:  57%|█████▊    | 23/40 [00:00<00:00, 40.61epochs/s, Loss=0.0791, Loss_R=0.0791, LR=0.0053]\u001b[A\u001b[A\n",
      "\n",
      "Tracking:  57%|█████▊    | 23/40 [00:00<00:00, 40.61epochs/s, Loss=0.0791, Loss_R=0.0791, LR=0.0053]\u001b[A\u001b[A\n",
      "\n",
      "Tracking:  57%|█████▊    | 23/40 [00:01<00:00, 40.61epochs/s, Loss=0.0786, Loss_R=0.0786, LR=0.0053]\u001b[A\u001b[A\n",
      "\n",
      "Tracking:  57%|█████▊    | 23/40 [00:01<00:00, 40.61epochs/s, Loss=0.0786, Loss_R=0.0786, LR=0.0053]\u001b[A\u001b[A\n",
      "\n",
      "Tracking:  57%|█████▊    | 23/40 [00:01<00:00, 40.61epochs/s, Loss=0.0786, Loss_R=0.0786, LR=0.0053]\u001b[A\u001b[A\n",
      "\n",
      "Tracking:  57%|█████▊    | 23/40 [00:01<00:00, 40.61epochs/s, Loss=0.0786, Loss_R=0.0786, LR=0.0053]\u001b[A\u001b[A\n",
      "\n",
      "Tracking:  57%|█████▊    | 23/40 [00:01<00:00, 40.61epochs/s, Loss=0.0786, Loss_R=0.0786, LR=0.0027]\u001b[A\u001b[A\n",
      "\n",
      "Tracking:  57%|█████▊    | 23/40 [00:01<00:00, 40.61epochs/s, Loss=0.0786, Loss_R=0.0786, LR=0.0027]\u001b[A\u001b[A\n",
      "\n",
      "Tracking:  57%|█████▊    | 23/40 [00:01<00:00, 40.61epochs/s, Loss=0.0786, Loss_R=0.0786, LR=0.0027]\u001b[A\u001b[A\n",
      "\n",
      "Tracking:  57%|█████▊    | 23/40 [00:01<00:00, 40.61epochs/s, Loss=0.0786, Loss_R=0.0786, LR=0.0027]\u001b[A\u001b[A\n",
      "\n",
      "Tracking:  82%|████████▎ | 33/40 [00:01<00:00, 55.00epochs/s, Loss=0.0786, Loss_R=0.0786, LR=0.0027]\u001b[A\u001b[A\n",
      "\n",
      "Tracking:  82%|████████▎ | 33/40 [00:01<00:00, 55.00epochs/s, Loss=0.0786, Loss_R=0.0786, LR=0.0027]\u001b[A\u001b[A\n",
      "\n",
      "Tracking:  82%|████████▎ | 33/40 [00:01<00:00, 55.00epochs/s, Loss=0.0786, Loss_R=0.0786, LR=0.0027]\u001b[A\u001b[A\n",
      "\n",
      "Tracking:  82%|████████▎ | 33/40 [00:01<00:00, 55.00epochs/s, Loss=0.0786, Loss_R=0.0786, LR=0.0027]\u001b[A\u001b[A\n",
      "\n",
      "Tracking:  82%|████████▎ | 33/40 [00:01<00:00, 55.00epochs/s, Loss=0.0786, Loss_R=0.0786, LR=0.0027]\u001b[A\u001b[A\n",
      "\n",
      "Tracking:  82%|████████▎ | 33/40 [00:01<00:00, 55.00epochs/s, Loss=0.0786, Loss_R=0.0786, LR=0.0027]\u001b[A\u001b[A\n",
      "\n",
      "Tracking:  82%|████████▎ | 33/40 [00:01<00:00, 55.00epochs/s, Loss=0.0786, Loss_R=0.0786, LR=0.0027]\u001b[A\u001b[A\n",
      "\n",
      "Tracking: 100%|██████████| 40/40 [00:01<00:00, 34.53epochs/s, Loss=0.0786, Loss_R=0.0786, LR=0.0013]\u001b[A\u001b[A\n",
      "\n",
      "Analyzing movie: 100%|██████████| 1/1 [00:01<00:00,  1.84s/frames]\u001b[A\n"
     ]
    },
    {
     "name": "stdout",
     "output_type": "stream",
     "text": [
      "!!time 443 [ 1.29519685e-05 -3.35603982e-05  5.85720227e-06]\n",
      "\n",
      "Compiling and saving results to file...\n"
     ]
    },
    {
     "name": "stderr",
     "output_type": "stream",
     "text": [
      " 50%|█████     | 1/2 [00:04<00:04,  4.14s/it]"
     ]
    },
    {
     "name": "stdout",
     "output_type": "stream",
     "text": [
      "originalally found matches: 0 after filtered the merged neurons, found matches:  0\n",
      "the updated annotation at time t1 0.004662931\n",
      "the updated annotation at time t2 0.0\n",
      "before loading 0.0\n",
      "Using frame #443 as initial reference with 178 annotations found...\n",
      "t_annot: [443 444 489]\n",
      "\n",
      "Annotations loaded for frames [443, 444] with shape: (2, 178, 3)\n",
      "Checkpoint updated for ['container'] @ [2024-03-27 23:38:31.680260]\n",
      "Checkpoint updated for ['results'] @ [2024-03-27 23:38:31.762769]\n",
      "after loading 0.0\n"
     ]
    },
    {
     "name": "stderr",
     "output_type": "stream",
     "text": [
      "\n",
      "                                             ?, ?frames/s]\u001b[A\n",
      " 50%|█████     | 1/2 [00:04<00:04,  4.14s/it]             \n",
      "Analyzing movie:   0%|          | 0/1 [00:00<?, ?frames/s]\u001b[A"
     ]
    },
    {
     "name": "stdout",
     "output_type": "stream",
     "text": [
      "\n",
      "Frame #489\t\tParent #443\t\tReference #443\t\tDistance to parent: d=0.0093\n"
     ]
    },
    {
     "name": "stderr",
     "output_type": "stream",
     "text": [
      "\n",
      "\n",
      "Tracking:   0%|          | 0/40 [00:00<?, ?epochs/s]\u001b[A\u001b[A\n",
      "\n",
      "Tracking:   0%|          | 0/40 [00:00<?, ?epochs/s, Loss=0.5264, Loss_R=0.5264, LR=0.0186]\u001b[A\u001b[A\n",
      "\n",
      "Tracking:   0%|          | 0/40 [00:00<?, ?epochs/s, Loss=0.4771, Loss_R=0.4771, LR=0.0186]\u001b[A\u001b[A\n",
      "\n",
      "Tracking:   5%|▌         | 2/40 [00:00<00:02, 17.80epochs/s, Loss=0.4771, Loss_R=0.4771, LR=0.0186]\u001b[A\u001b[A\n",
      "\n",
      "Tracking:   5%|▌         | 2/40 [00:00<00:02, 17.80epochs/s, Loss=0.4395, Loss_R=0.4395, LR=0.0186]\u001b[A\u001b[A\n",
      "\n",
      "Tracking:   5%|▌         | 2/40 [00:00<00:02, 17.80epochs/s, Loss=0.4126, Loss_R=0.4126, LR=0.0186]\u001b[A\u001b[A\n",
      "\n",
      "Tracking:  10%|█         | 4/40 [00:00<00:02, 17.30epochs/s, Loss=0.4126, Loss_R=0.4126, LR=0.0186]\u001b[A\u001b[A\n",
      "\n",
      "Tracking:  10%|█         | 4/40 [00:00<00:02, 17.30epochs/s, Loss=0.3740, Loss_R=0.3740, LR=0.0186]\u001b[A\u001b[A\n",
      "\n",
      "Tracking:  10%|█         | 4/40 [00:00<00:02, 17.30epochs/s, Loss=0.3442, Loss_R=0.3442, LR=0.0186]\u001b[A\u001b[A\n",
      "\n",
      "Tracking:  10%|█         | 4/40 [00:00<00:02, 17.30epochs/s, Loss=0.3262, Loss_R=0.3262, LR=0.0186]\u001b[A\u001b[A\n",
      "\n",
      "Tracking:  18%|█▊        | 7/40 [00:00<00:01, 21.57epochs/s, Loss=0.3262, Loss_R=0.3262, LR=0.0186]\u001b[A\u001b[A\n",
      "\n",
      "Tracking:  18%|█▊        | 7/40 [00:00<00:01, 21.57epochs/s, Loss=0.3159, Loss_R=0.3159, LR=0.0186]\u001b[A\u001b[A\n",
      "\n",
      "Tracking:  18%|█▊        | 7/40 [00:00<00:01, 21.57epochs/s, Loss=0.3125, Loss_R=0.3125, LR=0.0186]\u001b[A\u001b[A\n",
      "\n",
      "Tracking:  18%|█▊        | 7/40 [00:00<00:01, 21.57epochs/s, Loss=0.2705, Loss_R=0.2705, LR=0.0093]\u001b[A\u001b[A\n",
      "\n",
      "Tracking:  18%|█▊        | 7/40 [00:00<00:01, 21.57epochs/s, Loss=0.2612, Loss_R=0.2612, LR=0.0093]\u001b[A\u001b[A\n",
      "\n",
      "Tracking:  28%|██▊       | 11/40 [00:00<00:01, 27.77epochs/s, Loss=0.2612, Loss_R=0.2612, LR=0.0093]\u001b[A\u001b[A\n",
      "\n",
      "Tracking:  28%|██▊       | 11/40 [00:00<00:01, 27.77epochs/s, Loss=0.2583, Loss_R=0.2583, LR=0.0093]\u001b[A\u001b[A\n",
      "\n",
      "Tracking:  28%|██▊       | 11/40 [00:00<00:01, 27.77epochs/s, Loss=0.2559, Loss_R=0.2559, LR=0.0093]\u001b[A\u001b[A\n",
      "\n",
      "Tracking:  28%|██▊       | 11/40 [00:00<00:01, 27.77epochs/s, Loss=0.2539, Loss_R=0.2539, LR=0.0093]\u001b[A\u001b[A\n",
      "\n",
      "Tracking:  28%|██▊       | 11/40 [00:00<00:01, 27.77epochs/s, Loss=0.1445, Loss_R=0.1445, LR=0.0093]\u001b[A\u001b[A\n",
      "\n",
      "Tracking:  28%|██▊       | 11/40 [00:00<00:01, 27.77epochs/s, Loss=0.1382, Loss_R=0.1382, LR=0.0093]\u001b[A\u001b[A\n",
      "\n",
      "Tracking:  28%|██▊       | 11/40 [00:00<00:01, 27.77epochs/s, Loss=0.1289, Loss_R=0.1289, LR=0.0093]\u001b[A\u001b[A\n",
      "\n",
      "Tracking:  28%|██▊       | 11/40 [00:00<00:01, 27.77epochs/s, Loss=0.1250, Loss_R=0.1250, LR=0.0093]\u001b[A\u001b[A\n",
      "\n",
      "Tracking:  28%|██▊       | 11/40 [00:00<00:01, 27.77epochs/s, Loss=0.1245, Loss_R=0.1245, LR=0.0093]\u001b[A\u001b[A\n",
      "\n",
      "Tracking:  48%|████▊     | 19/40 [00:00<00:00, 44.15epochs/s, Loss=0.1245, Loss_R=0.1245, LR=0.0093]\u001b[A\u001b[A\n",
      "\n",
      "Tracking:  48%|████▊     | 19/40 [00:00<00:00, 44.15epochs/s, Loss=0.1235, Loss_R=0.1235, LR=0.0046]\u001b[A\u001b[A\n",
      "\n",
      "Tracking:  48%|████▊     | 19/40 [00:00<00:00, 44.15epochs/s, Loss=0.1226, Loss_R=0.1226, LR=0.0046]\u001b[A\u001b[A\n",
      "\n",
      "Tracking:  48%|████▊     | 19/40 [00:00<00:00, 44.15epochs/s, Loss=0.1235, Loss_R=0.1235, LR=0.0046]\u001b[A\u001b[A\n",
      "\n",
      "Tracking:  48%|████▊     | 19/40 [00:00<00:00, 44.15epochs/s, Loss=0.1230, Loss_R=0.1230, LR=0.0046]\u001b[A\u001b[A\n",
      "\n",
      "Tracking:  48%|████▊     | 19/40 [00:00<00:00, 44.15epochs/s, Loss=0.1230, Loss_R=0.1230, LR=0.0046]\u001b[A\u001b[A\n",
      "\n",
      "Tracking:  48%|████▊     | 19/40 [00:00<00:00, 44.15epochs/s, Loss=0.1230, Loss_R=0.1230, LR=0.0046]\u001b[A\u001b[A\n",
      "\n",
      "Tracking:  48%|████▊     | 19/40 [00:00<00:00, 44.15epochs/s, Loss=0.1221, Loss_R=0.1221, LR=0.0046]\u001b[A\u001b[A\n",
      "\n",
      "Tracking:  48%|████▊     | 19/40 [00:00<00:00, 44.15epochs/s, Loss=0.1226, Loss_R=0.1226, LR=0.0046]\u001b[A\u001b[A\n",
      "\n",
      "Tracking:  48%|████▊     | 19/40 [00:00<00:00, 44.15epochs/s, Loss=0.1226, Loss_R=0.1226, LR=0.0046]\u001b[A\u001b[A\n",
      "\n",
      "Tracking:  70%|███████   | 28/40 [00:00<00:00, 58.77epochs/s, Loss=0.1226, Loss_R=0.1226, LR=0.0046]\u001b[A\u001b[A\n",
      "\n",
      "Tracking:  70%|███████   | 28/40 [00:00<00:00, 58.77epochs/s, Loss=0.1226, Loss_R=0.1226, LR=0.0046]\u001b[A\u001b[A\n",
      "\n",
      "Tracking:  70%|███████   | 28/40 [00:00<00:00, 58.77epochs/s, Loss=0.1221, Loss_R=0.1221, LR=0.0023]\u001b[A\u001b[A\n",
      "\n",
      "Tracking:  70%|███████   | 28/40 [00:00<00:00, 58.77epochs/s, Loss=0.1216, Loss_R=0.1216, LR=0.0023]\u001b[A\u001b[A\n",
      "\n",
      "Tracking:  70%|███████   | 28/40 [00:00<00:00, 58.77epochs/s, Loss=0.1221, Loss_R=0.1221, LR=0.0023]\u001b[A\u001b[A\n",
      "\n",
      "Tracking:  70%|███████   | 28/40 [00:00<00:00, 58.77epochs/s, Loss=0.1221, Loss_R=0.1221, LR=0.0023]\u001b[A\u001b[A\n",
      "\n",
      "Tracking:  70%|███████   | 28/40 [00:00<00:00, 58.77epochs/s, Loss=0.1221, Loss_R=0.1221, LR=0.0023]\u001b[A\u001b[A\n",
      "\n",
      "Tracking:  70%|███████   | 28/40 [00:00<00:00, 58.77epochs/s, Loss=0.1221, Loss_R=0.1221, LR=0.0023]\u001b[A\u001b[A\n",
      "\n",
      "Tracking:  70%|███████   | 28/40 [00:00<00:00, 58.77epochs/s, Loss=0.1221, Loss_R=0.1221, LR=0.0023]\u001b[A\u001b[A\n",
      "\n",
      "Tracking:  70%|███████   | 28/40 [00:00<00:00, 58.77epochs/s, Loss=0.1221, Loss_R=0.1221, LR=0.0023]\u001b[A\u001b[A\n",
      "\n",
      "Tracking:  92%|█████████▎| 37/40 [00:00<00:00, 68.30epochs/s, Loss=0.1221, Loss_R=0.1221, LR=0.0023]\u001b[A\u001b[A\n",
      "\n",
      "Tracking:  92%|█████████▎| 37/40 [00:00<00:00, 68.30epochs/s, Loss=0.1221, Loss_R=0.1221, LR=0.0023]\u001b[A\u001b[A\n",
      "\n",
      "Tracking:  92%|█████████▎| 37/40 [00:00<00:00, 68.30epochs/s, Loss=0.1221, Loss_R=0.1221, LR=0.0023]\u001b[A\u001b[A\n",
      "\n",
      "Tracking: 100%|██████████| 40/40 [00:00<00:00, 50.58epochs/s, Loss=0.1221, Loss_R=0.1221, LR=0.0012]\u001b[A\u001b[A\n",
      "\n",
      "Analyzing movie: 100%|██████████| 1/1 [00:01<00:00,  1.40s/frames]\u001b[A\n"
     ]
    },
    {
     "name": "stdout",
     "output_type": "stream",
     "text": [
      "!!time 489 [ 0.01179651 -0.00901353  0.00032655]\n",
      "\n",
      "Compiling and saving results to file...\n"
     ]
    },
    {
     "name": "stderr",
     "output_type": "stream",
     "text": [
      "100%|██████████| 2/2 [00:06<00:00,  3.43s/it]\n"
     ]
    }
   ],
   "source": [
    "rescale = np.array(img_shape) - 1\n",
    "path_graph = 'graph/' \n",
    "seg_path = '/work/venkatachalamlab/Hang/Matching_neuron/seg/'\n",
    "nearby_search_num_list = [5]\n",
    "selected_index = torch.tensor([8,7,2],dtype = torch.long)\n",
    "model_all = load_model_args(model_path, nearby_search_num_list,with_AM, device,train_val)\n",
    "annotation_orig = get_annotation_df(dataset)\n",
    "annotation = copy.deepcopy(annotation_orig)\n",
    "annotation[['x','y','z']] = 0.5\n",
    "annotation[annotation['t_idx']==444] = annotation_orig[annotation_orig['t_idx']==444] \n",
    "\n",
    "### initialize the tracking results and annotations\n",
    "shape_t = container.get('shape_t')\n",
    "shape_n = container.get('shape_n')\n",
    "results = np.zeros((shape_t, shape_n, 3))\n",
    "t_ref=eval(args['--t_ref']) if args['--t_ref'] else None,\n",
    "wlid_ref=eval(args['--wlid_ref']) if args['--wlid_ref'] else None,\n",
    "n_ref=int(args['--n_ref']) if args['--n_ref'] else None,\n",
    "\n",
    "\n",
    "# for i in tqdm(range(2)):\n",
    "for i in range(len(t_frame)-1):\n",
    "    t1 = t_frame[i] ## parent time index\n",
    "    t2 = t_frame[i+1] ## child time index\n",
    "\n",
    "    \n",
    "    ### get the annotation at time t2 from GNN match\n",
    "    removed_seg_ID = find_merged_index_graphdata(seg_path,t1,img_shape,annotation)\n",
    "    df = model_pair_neurons_zephir_frame(path_graph,t1,t2,removed_seg_ID,selected_index,model_all,img_shape,threshold,nearby_search_num_list,with_AM,device,train_val)\n",
    "    index, df_filtered = matched_df(df,annotation,t1,t2,rescale)\n",
    "    \n",
    "    print(\"originalally found matches:\", len(df), \"after filtered the merged neurons, found matches: \",len(df_filtered))\n",
    "\n",
    "    ## only take the unique worldline\n",
    "    # annotation[annotation['t_idx']==t2].iloc[index][['x','y','z']] = df_filtered[['x','y','z']].values\n",
    "    # annotation[annotation['t_idx']==t2].iloc[index]['provenance'] = b'GNN'\n",
    "    # annotation.loc[annotation['t_idx'] == t2, 'parent_id'] = t1\n",
    "    \n",
    "    indices = annotation[annotation['t_idx'] == t2].index\n",
    "    annotation.loc[indices[index], ['x', 'y', 'z']] = df_filtered[['x', 'y', 'z']].values\n",
    "    annotation.loc[indices[index], ['provenance']] = b'GNN'\n",
    "    annotation.loc[indices[index], ['parent_id']] = t1\n",
    "    print(\"the updated annotation at time t1\",np.sum(abs(annotation[annotation['t_idx'] == t1][['x','y','z']].values-0.5)))\n",
    "    print(\"the updated annotation at time t2\",np.sum(abs(annotation[annotation['t_idx'] == t2][['x','y','z']].values-0.5)))\n",
    "\n",
    "    \n",
    "    \n",
    "    ### how to update the annotation in the containter?\n",
    "    t_ref = t_frame[0:i+2]\n",
    "    print(\"before loading\",np.sum(results[t2]))\n",
    "    container, results = build_partial_annotations(container,annotation,results,t_ref,None,None,)\n",
    "    print(\"after loading\",np.sum(results[t2]))\n",
    "    container, results = track_all(\n",
    "        container=container,\n",
    "        results=results,\n",
    "        zephir=zephir,\n",
    "        zephod=zephod,\n",
    "        clip_grad=float(args['--clip_grad']),\n",
    "        lambda_t=float(args['--lambda_t']),\n",
    "        lambda_d=float(args['--lambda_d']),\n",
    "        lambda_n=float(args['--lambda_n']),\n",
    "        lambda_n_mode='norm',\n",
    "        lr_ceiling=float(args['--lr_ceiling']),\n",
    "        # lr_coef=2.0,\n",
    "        lr_floor=float(args['--lr_floor']),\n",
    "        motion_predict=bool(args['--motion_predict']),\n",
    "        n_epoch=int(args['--n_epoch']),\n",
    "        n_epoch_d=int(args['--n_epoch_d']),\n",
    "        _t_list= np.array([t2]),\n",
    "    )\n",
    "    print(\"!!time\",t2, results[t2][0])\n",
    "    \n",
    "    ### save the tracking results into dataset\n",
    "    \n",
    "    \n",
    "    \n",
    "    save_annotations(\n",
    "    container=container,\n",
    "    results=results,\n",
    "    save_mode='o')\n",
    "    \n",
    "    # save_annotations_filename(\n",
    "    # container=container,\n",
    "    # results=results,\n",
    "    # filename='annotations.h5',\n",
    "    # save_mode='o')\n",
    "    \n",
    "    annotation = get_annotation_df(dataset)"
   ]
  },
  {
   "cell_type": "code",
   "execution_count": null,
   "id": "309100cc-5467-4483-9b5c-36a9abb9c9d4",
   "metadata": {},
   "outputs": [],
   "source": []
  },
  {
   "cell_type": "code",
   "execution_count": null,
   "id": "01e88f08-e7fa-490f-95de-28316ee6deb9",
   "metadata": {},
   "outputs": [],
   "source": []
  },
  {
   "cell_type": "code",
   "execution_count": null,
   "id": "ec16600e-1e32-4141-ad03-a2866d866dde",
   "metadata": {},
   "outputs": [],
   "source": []
  },
  {
   "cell_type": "code",
   "execution_count": null,
   "id": "001bb84b-9bc1-4135-9faa-6c1c8483ae3b",
   "metadata": {
    "tags": []
   },
   "outputs": [],
   "source": []
  },
  {
   "cell_type": "code",
   "execution_count": null,
   "id": "ad231932-d9d6-4dc0-ae35-51368eadf6a2",
   "metadata": {},
   "outputs": [],
   "source": []
  },
  {
   "cell_type": "code",
   "execution_count": null,
   "id": "1fe0ec0e-f61b-40b2-94b3-c7fc2d098bcd",
   "metadata": {},
   "outputs": [],
   "source": []
  },
  {
   "cell_type": "code",
   "execution_count": null,
   "id": "bef15dfe-1d08-4b30-b8c0-4161708ad981",
   "metadata": {},
   "outputs": [],
   "source": []
  }
 ],
 "metadata": {
  "kernelspec": {
   "display_name": "Python 3 (ipykernel)",
   "language": "python",
   "name": "python3"
  },
  "language_info": {
   "codemirror_mode": {
    "name": "ipython",
    "version": 3
   },
   "file_extension": ".py",
   "mimetype": "text/x-python",
   "name": "python",
   "nbconvert_exporter": "python",
   "pygments_lexer": "ipython3",
   "version": "3.9.17"
  }
 },
 "nbformat": 4,
 "nbformat_minor": 5
}
